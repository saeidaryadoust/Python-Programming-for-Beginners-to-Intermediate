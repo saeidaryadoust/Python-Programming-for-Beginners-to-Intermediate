{
 "cells": [
  {
   "cell_type": "markdown",
   "metadata": {},
   "source": [
    "# condition"
   ]
  },
  {
   "cell_type": "markdown",
   "metadata": {},
   "source": [
    "# if else"
   ]
  },
  {
   "cell_type": "code",
   "execution_count": 1,
   "metadata": {},
   "outputs": [
    {
     "name": "stdout",
     "output_type": "stream",
     "text": [
      "number2\n"
     ]
    }
   ],
   "source": [
    "number1 , number2 = 4, 6\n",
    "\n",
    "if number1 > number2:\n",
    "    print(\"number1\")\n",
    "else:\n",
    "    print(\"number2\")"
   ]
  },
  {
   "cell_type": "code",
   "execution_count": 2,
   "metadata": {},
   "outputs": [],
   "source": [
    "number = input(\"please enter a number: \")\n",
    "\n",
    "number = int(number)\n",
    "\n",
    "if number %2 == 0:\n",
    "    print(\"even\")\n",
    "else:\n",
    "    print(\"odd\")"
   ]
  },
  {
   "cell_type": "code",
   "execution_count": 1,
   "metadata": {},
   "outputs": [
    {
     "name": "stdout",
     "output_type": "stream",
     "text": [
      "IR\n"
     ]
    }
   ],
   "source": [
    "phone = \"09330916006\"\n",
    "\n",
    "if len(phone) == 11 and phone.isdigit():\n",
    "    if phone[:3] == \"093\":\n",
    "        print(\"IR\")\n",
    "    elif phone[:3] == \"091\":\n",
    "        print(\"MA \")\n",
    "    elif phone[:3] == \"090\":\n",
    "        print(\"RR\")\n",
    "    else:\n",
    "        print(\"شماره تلفن وارد شده اشتباه می باشد\")\n",
    "else:\n",
    "    print(\"شماره تلفن وارد شده اشتباه می باشد\")"
   ]
  },
  {
   "cell_type": "code",
   "execution_count": null,
   "metadata": {},
   "outputs": [
    {
     "data": {
      "text/plain": [
       "'مهران'"
      ]
     },
     "execution_count": 8,
     "metadata": {},
     "output_type": "execute_result"
    }
   ],
   "source": [
    "gender = \"پسر\"\n",
    "height = 174\n",
    "weight = 78\n",
    "eye = \"آبی\"\n",
    "\n",
    "name= \"\"\n",
    "\n",
    "if gender == \"دختر\":\n",
    "    if height == 175 and weight == 80 and eye == 'قهوه ای':\n",
    "        name = \"رویا\"\n",
    "    elif height == 168 and weight == 70 and eye == 'مشکی':\n",
    "        name = \"ترانه\"\n",
    "    elif height == 180 and weight == 75 and eye == 'آبی':\n",
    "        name = \"بهار\"\n",
    "    else:\n",
    "        name = \"نتیجه ای یافت نشد\"\n",
    "    \n",
    "elif gender == \"پسر\":\n",
    "    if height == 184 and weight == 87 and eye == 'قهوه ای':\n",
    "        name = \"رسول\"\n",
    "    elif height == 178 and weight == 70 and eye == 'مشکی':\n",
    "        name = \"محسن\"\n",
    "    elif height == 174 and weight == 78 and eye == 'آبی':\n",
    "        name = \"مهران\"\n",
    "    else:\n",
    "        name = \"نتیجه ای یافت نشد\"\n",
    "        \n",
    "else:\n",
    "    name = \"نتیجه ای یافت نشد\"\n",
    "    \n",
    "name"
   ]
  },
  {
   "cell_type": "code",
   "execution_count": 2,
   "metadata": {},
   "outputs": [
    {
     "name": "stdout",
     "output_type": "stream",
     "text": [
      "x1: -0.20425917885201983\n",
      "x2: -4.89574082114798\n"
     ]
    }
   ],
   "source": [
    "import math\n",
    "a, b, c = 10, 51, 10\n",
    "\n",
    "delta = b**2 - 4 * a * c\n",
    "if delta < 0:\n",
    "    print (\"not root\")\n",
    "elif delta == 0:\n",
    "    print(f\"root: {-b / (2*a)}\")\n",
    "else:\n",
    "    print(f\"x1: {(-b + math.sqrt(delta)) / (2*a)}\")\n",
    "    print(f\"x2: {(-b - math.sqrt(delta)) / (2*a)}\")"
   ]
  },
  {
   "cell_type": "code",
   "execution_count": null,
   "metadata": {},
   "outputs": [
    {
     "name": "stdout",
     "output_type": "stream",
     "text": [
      "بهترین زبان برنامه نویسی برای هوش مصنوعی؟jkn\n",
      "برنامه نویس ها به چی معتاد هستند؟nn'\n",
      "نسخه توسعه یافته شبکه های عصبی مصنوعی چیست؟kjbj\n",
      "یکی از کتابخانه های معروف شبکه های عصبی؟jk'\n"
     ]
    }
   ],
   "source": [
    "ans1 = input(\"بهترین زبان برنامه نویسی برای هوش مصنوعی؟\")\n",
    "ans2 = input(\"برنامه نویس ها به چی معتاد هستند؟\")\n",
    "ans3 = input(\"نسخه توسعه یافته شبکه های عصبی مصنوعی چیست؟\")\n",
    "ans4 = input(\"یکی از کتابخانه های معروف شبکه های عصبی؟\")"
   ]
  },
  {
   "cell_type": "code",
   "execution_count": null,
   "metadata": {},
   "outputs": [
    {
     "name": "stdout",
     "output_type": "stream",
     "text": [
      "your score:  0\n",
      "------------------\n",
      "question1:  False\n",
      "question2:  False\n",
      "question3:  False\n",
      "question4:  False\n"
     ]
    }
   ],
   "source": [
    "answer1 = \"پایتون\"\n",
    "answer2 = \"قهوه\"\n",
    "answer2_2 = \"شکلات تلخ\"\n",
    "answer3 = \"شبکه های عصبی عمیق\"\n",
    "answer3_2 = \"یادگیری عمیق\"\n",
    "answer4 = \"tensorflow\"\n",
    "answer4_2 = \"keras\"\n",
    "answer4_3 = \"pytorch\"\n",
    "score = 0\n",
    "s1, s2, s3, s4 = False, False, False, False\n",
    "\n",
    "if ans1 == answer1:\n",
    "    score += 4\n",
    "    s1 = True\n",
    "if ans2 == answer2 or ans2 == answer2_2:\n",
    "    score += 4\n",
    "    s2 = True\n",
    "if ans3 == answer3 or ans3 == answer3_2:\n",
    "    score += 6\n",
    "    s3 = True\n",
    "if ans4 == answer4_2 or ans4 == answer4_2 or ans4 == answer4_2:\n",
    "    score +=6\n",
    "    s4 = True\n",
    "\n",
    "print(\"your score: \", score)\n",
    "print(\"------------------\")\n",
    "print(\"question1: \", s1)\n",
    "print(\"question2: \", s2)\n",
    "print(\"question3: \", s3)\n",
    "print(\"question4: \", s4)"
   ]
  },
  {
   "cell_type": "code",
   "execution_count": null,
   "metadata": {},
   "outputs": [],
   "source": []
  },
  {
   "cell_type": "markdown",
   "metadata": {},
   "source": [
    "# while"
   ]
  },
  {
   "cell_type": "code",
   "execution_count": null,
   "metadata": {},
   "outputs": [
    {
     "name": "stdout",
     "output_type": "stream",
     "text": [
      "1\n",
      "2\n",
      "3\n",
      "4\n",
      "5\n",
      "6\n",
      "7\n",
      "8\n",
      "9\n",
      "10\n"
     ]
    }
   ],
   "source": [
    "i = 1\n",
    "while ( i <= 10 ):\n",
    "    print(i)\n",
    "    i = i+1"
   ]
  },
  {
   "cell_type": "code",
   "execution_count": null,
   "metadata": {},
   "outputs": [
    {
     "name": "stdout",
     "output_type": "stream",
     "text": [
      "2\n",
      "4\n",
      "6\n",
      "8\n",
      "10\n"
     ]
    }
   ],
   "source": [
    "i = 1\n",
    "while ( i <= 10 ):\n",
    "    if i % 2 ==0:\n",
    "        print(i)\n",
    "    i = i+1"
   ]
  },
  {
   "cell_type": "code",
   "execution_count": null,
   "metadata": {},
   "outputs": [
    {
     "name": "stdout",
     "output_type": "stream",
     "text": [
      "10\n"
     ]
    }
   ],
   "source": [
    "_Max = 4\n",
    "i = 0\n",
    "_Sum = 0\n",
    "\n",
    "\n",
    "while( i <= _Max ):\n",
    "    _Sum += i\n",
    "    i += 1\n",
    "\n",
    "print(_Sum)"
   ]
  },
  {
   "cell_type": "code",
   "execution_count": null,
   "metadata": {},
   "outputs": [
    {
     "name": "stdout",
     "output_type": "stream",
     "text": [
      "***\n",
      "***\n",
      "***\n",
      "***\n",
      "***\n",
      "x1: 10 \n",
      "x2: 5\n"
     ]
    }
   ],
   "source": [
    "x1, x2 = 0, 10\n",
    "while( x1 != 10 and x2 != 0):\n",
    "    print(\"***\")\n",
    "    x1 += 2\n",
    "    x2 -= 1\n",
    "print(\"x1:\", x1, '\\n' \"x2:\", x2)"
   ]
  },
  {
   "cell_type": "code",
   "execution_count": null,
   "metadata": {},
   "outputs": [
    {
     "name": "stdout",
     "output_type": "stream",
     "text": [
      "لطفا رمز ورود را وارد نمایید:111\n",
      "لطفا رمز ورود را وارد نمایید:111\n",
      "رمز ورود اشتباهه عزیزم\n",
      "لطفا رمز ورود را وارد نمایید:111\n",
      "رمز ورود اشتباهه عزیزم\n",
      "لطفا رمز ورود را وارد نمایید:111\n",
      "رمز ورود اشتباهه عزیزم\n",
      "لطفا رمز ورود را وارد نمایید:123\n",
      "رمز ورود اشتباهه عزیزم\n",
      "اینم از کد: Pinkato\n"
     ]
    }
   ],
   "source": [
    "PASSWORD = 123\n",
    "password = int(input(\"لطفا رمز ورود را وارد نمایید:\"))\n",
    "\n",
    "while password!= PASSWORD:\n",
    "    password = int(input(\"لطفا رمز ورود را وارد نمایید:\"))\n",
    "    print(\"رمز ورود اشتباهه عزیزم\")\n",
    "print(\"اینم از کد: Pinkato\")"
   ]
  },
  {
   "cell_type": "code",
   "execution_count": null,
   "metadata": {},
   "outputs": [
    {
     "name": "stdout",
     "output_type": "stream",
     "text": [
      "لطفا رمز ورود را وارد نمایید:5\n",
      "اشتباه\n",
      "لطفا رمز ورود را وارد نمایید:8\n",
      "اشتباه\n",
      "لطفا رمز ورود را وارد نمایید:9\n",
      "اشتباه\n",
      "لطفا رمز ورود را وارد نمایید:7\n",
      "آفرین گلم\n"
     ]
    }
   ],
   "source": [
    "import random as rand\n",
    "x = rand.randint(1,10)\n",
    "\n",
    "while (True):\n",
    "    password = int(input(\"لطفا رمز ورود را وارد نمایید:\"))\n",
    "    if password == x:\n",
    "        print(\"good\")\n",
    "        break\n",
    "    else:\n",
    "        print(\"fail\")"
   ]
  },
  {
   "cell_type": "code",
   "execution_count": null,
   "metadata": {},
   "outputs": [
    {
     "data": {
      "text/plain": [
       "23.3"
      ]
     },
     "execution_count": 18,
     "metadata": {},
     "output_type": "execute_result"
    }
   ],
   "source": [
    "import math\n",
    "round(math.sqrt(542),1)"
   ]
  },
  {
   "cell_type": "code",
   "execution_count": 5,
   "metadata": {},
   "outputs": [
    {
     "name": "stdout",
     "output_type": "stream",
     "text": [
      "fail\n",
      "fail\n",
      "fail\n",
      "fail\n"
     ]
    },
    {
     "ename": "ValueError",
     "evalue": "could not convert string to float: ''",
     "output_type": "error",
     "traceback": [
      "\u001b[1;31m---------------------------------------------------------------------------\u001b[0m",
      "\u001b[1;31mValueError\u001b[0m                                Traceback (most recent call last)",
      "Cell \u001b[1;32mIn[5], line 6\u001b[0m\n\u001b[0;32m      4\u001b[0m x1 \u001b[38;5;241m=\u001b[39m rand\u001b[38;5;241m.\u001b[39mrandint(\u001b[38;5;241m1\u001b[39m,\u001b[38;5;241m1000\u001b[39m)\n\u001b[0;32m      5\u001b[0m \u001b[38;5;28;01mwhile\u001b[39;00m(\u001b[38;5;28;01mTrue\u001b[39;00m):\n\u001b[1;32m----> 6\u001b[0m     q1 \u001b[38;5;241m=\u001b[39m \u001b[38;5;28;43mfloat\u001b[39;49m\u001b[43m(\u001b[49m\u001b[38;5;28;43minput\u001b[39;49m\u001b[43m(\u001b[49m\u001b[38;5;124;43mf\u001b[39;49m\u001b[38;5;124;43m\"\u001b[39;49m\u001b[38;5;124;43msqrt \u001b[39;49m\u001b[38;5;132;43;01m{\u001b[39;49;00m\u001b[43mx1\u001b[49m\u001b[38;5;132;43;01m}\u001b[39;49;00m\u001b[38;5;124;43m: \u001b[39;49m\u001b[38;5;124;43m\"\u001b[39;49m\u001b[43m)\u001b[49m\u001b[43m)\u001b[49m\n\u001b[0;32m      7\u001b[0m     \u001b[38;5;28;01mif\u001b[39;00m \u001b[38;5;28mround\u001b[39m(q1, \u001b[38;5;241m2\u001b[39m) \u001b[38;5;241m==\u001b[39m \u001b[38;5;28mround\u001b[39m(math\u001b[38;5;241m.\u001b[39msqrt(x1), \u001b[38;5;241m1\u001b[39m):\n\u001b[0;32m      8\u001b[0m         \u001b[38;5;28mprint\u001b[39m(\u001b[38;5;124m\"\u001b[39m\u001b[38;5;124m good \u001b[39m\u001b[38;5;124m\"\u001b[39m)\n",
      "\u001b[1;31mValueError\u001b[0m: could not convert string to float: ''"
     ]
    }
   ],
   "source": [
    "import random as rand\n",
    "import math\n",
    "\n",
    "x1 = rand.randint(1,1000)\n",
    "while(True):\n",
    "    q1 = float(input(f\"sqrt {x1}: \"))\n",
    "    if round(q1, 2) == round(math.sqrt(x1), 1):\n",
    "        print(\" good \")\n",
    "        break\n",
    "    else:\n",
    "        print(\"fail\")\n",
    "print(\"next question\")\n",
    "                   \n",
    "x2 = rand.randint(1,10)\n",
    "while(True):\n",
    "    q2 = float(input(f\"factorial {x2}\"))\n",
    "    if round(q2, 2) == round(math.factorial(x2),2):\n",
    "        print(\" good\")\n",
    "        break\n",
    "    else:\n",
    "        print(\"fail\")   \n",
    "print(\"next question\")\n",
    "\n",
    "x3 = rand.randint(1,10)\n",
    "while(True):\n",
    "    q3 = float(input(f\"fabs {x3}\"))\n",
    "    if round(q3) == round(math.fabs(x3),2):\n",
    "        print(\" good\")\n",
    "        break\n",
    "    else:\n",
    "        print(\"fail\")\n",
    "print(\"next question.\")\n",
    "\n"
   ]
  },
  {
   "cell_type": "markdown",
   "metadata": {},
   "source": [
    "# for"
   ]
  },
  {
   "cell_type": "code",
   "execution_count": null,
   "metadata": {},
   "outputs": [
    {
     "name": "stdout",
     "output_type": "stream",
     "text": [
      "0\n",
      "1\n",
      "2\n",
      "3\n",
      "4\n",
      "5\n",
      "6\n",
      "7\n",
      "8\n",
      "9\n"
     ]
    }
   ],
   "source": [
    "for i in range(10):\n",
    "    print(i)"
   ]
  },
  {
   "cell_type": "code",
   "execution_count": null,
   "metadata": {},
   "outputs": [
    {
     "name": "stdout",
     "output_type": "stream",
     "text": [
      "0\n",
      "2\n",
      "4\n",
      "6\n",
      "8\n"
     ]
    }
   ],
   "source": [
    "for i in range(0, 10, 2):\n",
    "    print(i)"
   ]
  },
  {
   "cell_type": "code",
   "execution_count": null,
   "metadata": {},
   "outputs": [
    {
     "name": "stdout",
     "output_type": "stream",
     "text": [
      "10\n",
      "9\n",
      "8\n",
      "7\n",
      "6\n",
      "5\n",
      "4\n",
      "3\n",
      "2\n",
      "1\n"
     ]
    }
   ],
   "source": [
    "for i in range(10, 0, -1):\n",
    "    print(i)"
   ]
  },
  {
   "cell_type": "code",
   "execution_count": null,
   "metadata": {},
   "outputs": [
    {
     "name": "stdout",
     "output_type": "stream",
     "text": [
      "10\n",
      "8\n",
      "6\n",
      "4\n",
      "2\n"
     ]
    }
   ],
   "source": [
    "for i in range(10, 0, -2):\n",
    "    print(i)"
   ]
  },
  {
   "cell_type": "code",
   "execution_count": null,
   "metadata": {},
   "outputs": [
    {
     "name": "stdout",
     "output_type": "stream",
     "text": [
      "factorial 0 : 1\n",
      "factorial 1 : 1\n",
      "factorial 2 : 2\n",
      "factorial 3 : 6\n",
      "factorial 4 : 24\n",
      "factorial 5 : 120\n",
      "factorial 6 : 720\n",
      "factorial 7 : 5040\n",
      "factorial 8 : 40320\n",
      "factorial 9 : 362880\n"
     ]
    }
   ],
   "source": [
    "import math \n",
    "\n",
    "for i in range(10):\n",
    "    print(f\"factorial {i} : {math.factorial(i)}\")"
   ]
  },
  {
   "cell_type": "code",
   "execution_count": null,
   "metadata": {},
   "outputs": [
    {
     "name": "stdout",
     "output_type": "stream",
     "text": [
      "0 * 0 : 0\n",
      "0 * 1 : 0\n",
      "0 * 2 : 0\n",
      "0 * 3 : 0\n",
      "0 * 4 : 0\n",
      "0 * 5 : 0\n",
      "0 * 6 : 0\n",
      "0 * 7 : 0\n",
      "0 * 8 : 0\n",
      "0 * 9 : 0\n",
      "\n",
      "\n",
      "1 * 0 : 0\n",
      "1 * 1 : 1\n",
      "1 * 2 : 2\n",
      "1 * 3 : 3\n",
      "1 * 4 : 4\n",
      "1 * 5 : 5\n",
      "1 * 6 : 6\n",
      "1 * 7 : 7\n",
      "1 * 8 : 8\n",
      "1 * 9 : 9\n",
      "\n",
      "\n",
      "2 * 0 : 0\n",
      "2 * 1 : 2\n",
      "2 * 2 : 4\n",
      "2 * 3 : 6\n",
      "2 * 4 : 8\n",
      "2 * 5 : 10\n",
      "2 * 6 : 12\n",
      "2 * 7 : 14\n",
      "2 * 8 : 16\n",
      "2 * 9 : 18\n",
      "\n",
      "\n",
      "3 * 0 : 0\n",
      "3 * 1 : 3\n",
      "3 * 2 : 6\n",
      "3 * 3 : 9\n",
      "3 * 4 : 12\n",
      "3 * 5 : 15\n",
      "3 * 6 : 18\n",
      "3 * 7 : 21\n",
      "3 * 8 : 24\n",
      "3 * 9 : 27\n",
      "\n",
      "\n",
      "4 * 0 : 0\n",
      "4 * 1 : 4\n",
      "4 * 2 : 8\n",
      "4 * 3 : 12\n",
      "4 * 4 : 16\n",
      "4 * 5 : 20\n",
      "4 * 6 : 24\n",
      "4 * 7 : 28\n",
      "4 * 8 : 32\n",
      "4 * 9 : 36\n",
      "\n",
      "\n",
      "5 * 0 : 0\n",
      "5 * 1 : 5\n",
      "5 * 2 : 10\n",
      "5 * 3 : 15\n",
      "5 * 4 : 20\n",
      "5 * 5 : 25\n",
      "5 * 6 : 30\n",
      "5 * 7 : 35\n",
      "5 * 8 : 40\n",
      "5 * 9 : 45\n",
      "\n",
      "\n",
      "6 * 0 : 0\n",
      "6 * 1 : 6\n",
      "6 * 2 : 12\n",
      "6 * 3 : 18\n",
      "6 * 4 : 24\n",
      "6 * 5 : 30\n",
      "6 * 6 : 36\n",
      "6 * 7 : 42\n",
      "6 * 8 : 48\n",
      "6 * 9 : 54\n",
      "\n",
      "\n",
      "7 * 0 : 0\n",
      "7 * 1 : 7\n",
      "7 * 2 : 14\n",
      "7 * 3 : 21\n",
      "7 * 4 : 28\n",
      "7 * 5 : 35\n",
      "7 * 6 : 42\n",
      "7 * 7 : 49\n",
      "7 * 8 : 56\n",
      "7 * 9 : 63\n",
      "\n",
      "\n",
      "8 * 0 : 0\n",
      "8 * 1 : 8\n",
      "8 * 2 : 16\n",
      "8 * 3 : 24\n",
      "8 * 4 : 32\n",
      "8 * 5 : 40\n",
      "8 * 6 : 48\n",
      "8 * 7 : 56\n",
      "8 * 8 : 64\n",
      "8 * 9 : 72\n",
      "\n",
      "\n",
      "9 * 0 : 0\n",
      "9 * 1 : 9\n",
      "9 * 2 : 18\n",
      "9 * 3 : 27\n",
      "9 * 4 : 36\n",
      "9 * 5 : 45\n",
      "9 * 6 : 54\n",
      "9 * 7 : 63\n",
      "9 * 8 : 72\n",
      "9 * 9 : 81\n",
      "\n",
      "\n"
     ]
    }
   ],
   "source": [
    "for i in range(10):\n",
    "    for j in range(10):\n",
    "        print(f\"{i} * {j} : {i*j}\")\n",
    "    print(\"\\n\")"
   ]
  },
  {
   "cell_type": "code",
   "execution_count": null,
   "metadata": {},
   "outputs": [
    {
     "name": "stdout",
     "output_type": "stream",
     "text": [
      "0^0 : 1.0\n",
      "0^1 : 0.0\n",
      "0^2 : 0.0\n",
      "0^3 : 0.0\n",
      "0^4 : 0.0\n",
      "0^5 : 0.0\n",
      "0^6 : 0.0\n",
      "0^7 : 0.0\n",
      "0^8 : 0.0\n",
      "0^9 : 0.0\n",
      "\n",
      "\n",
      "1^0 : 1.0\n",
      "1^1 : 1.0\n",
      "1^2 : 1.0\n",
      "1^3 : 1.0\n",
      "1^4 : 1.0\n",
      "1^5 : 1.0\n",
      "1^6 : 1.0\n",
      "1^7 : 1.0\n",
      "1^8 : 1.0\n",
      "1^9 : 1.0\n",
      "\n",
      "\n",
      "2^0 : 1.0\n",
      "2^1 : 2.0\n",
      "2^2 : 4.0\n",
      "2^3 : 8.0\n",
      "2^4 : 16.0\n",
      "2^5 : 32.0\n",
      "2^6 : 64.0\n",
      "2^7 : 128.0\n",
      "2^8 : 256.0\n",
      "2^9 : 512.0\n",
      "\n",
      "\n",
      "3^0 : 1.0\n",
      "3^1 : 3.0\n",
      "3^2 : 9.0\n",
      "3^3 : 27.0\n",
      "3^4 : 81.0\n",
      "3^5 : 243.0\n",
      "3^6 : 729.0\n",
      "3^7 : 2187.0\n",
      "3^8 : 6561.0\n",
      "3^9 : 19683.0\n",
      "\n",
      "\n",
      "4^0 : 1.0\n",
      "4^1 : 4.0\n",
      "4^2 : 16.0\n",
      "4^3 : 64.0\n",
      "4^4 : 256.0\n",
      "4^5 : 1024.0\n",
      "4^6 : 4096.0\n",
      "4^7 : 16384.0\n",
      "4^8 : 65536.0\n",
      "4^9 : 262144.0\n",
      "\n",
      "\n",
      "5^0 : 1.0\n",
      "5^1 : 5.0\n",
      "5^2 : 25.0\n",
      "5^3 : 125.0\n",
      "5^4 : 625.0\n",
      "5^5 : 3125.0\n",
      "5^6 : 15625.0\n",
      "5^7 : 78125.0\n",
      "5^8 : 390625.0\n",
      "5^9 : 1953125.0\n",
      "\n",
      "\n",
      "6^0 : 1.0\n",
      "6^1 : 6.0\n",
      "6^2 : 36.0\n",
      "6^3 : 216.0\n",
      "6^4 : 1296.0\n",
      "6^5 : 7776.0\n",
      "6^6 : 46656.0\n",
      "6^7 : 279936.0\n",
      "6^8 : 1679616.0\n",
      "6^9 : 10077696.0\n",
      "\n",
      "\n",
      "7^0 : 1.0\n",
      "7^1 : 7.0\n",
      "7^2 : 49.0\n",
      "7^3 : 343.0\n",
      "7^4 : 2401.0\n",
      "7^5 : 16807.0\n",
      "7^6 : 117649.0\n",
      "7^7 : 823543.0\n",
      "7^8 : 5764801.0\n",
      "7^9 : 40353607.0\n",
      "\n",
      "\n",
      "8^0 : 1.0\n",
      "8^1 : 8.0\n",
      "8^2 : 64.0\n",
      "8^3 : 512.0\n",
      "8^4 : 4096.0\n",
      "8^5 : 32768.0\n",
      "8^6 : 262144.0\n",
      "8^7 : 2097152.0\n",
      "8^8 : 16777216.0\n",
      "8^9 : 134217728.0\n",
      "\n",
      "\n",
      "9^0 : 1.0\n",
      "9^1 : 9.0\n",
      "9^2 : 81.0\n",
      "9^3 : 729.0\n",
      "9^4 : 6561.0\n",
      "9^5 : 59049.0\n",
      "9^6 : 531441.0\n",
      "9^7 : 4782969.0\n",
      "9^8 : 43046721.0\n",
      "9^9 : 387420489.0\n",
      "\n",
      "\n"
     ]
    }
   ],
   "source": [
    "for i in range(10):\n",
    "    for j in range(10):\n",
    "        print(f\"{i}^{j} : {math.pow(i,j)}\")\n",
    "    print(\"\\n\")"
   ]
  },
  {
   "cell_type": "code",
   "execution_count": null,
   "metadata": {},
   "outputs": [
    {
     "name": "stdout",
     "output_type": "stream",
     "text": [
      "\n",
      "\n",
      "\n",
      "\n",
      "\n",
      "\n",
      "\n",
      "\n",
      "4 * 8 : 32\n",
      "4 * 9 : 36\n",
      "\n",
      "\n",
      "5 * 6 : 30\n",
      "5 * 7 : 35\n",
      "5 * 8 : 40\n",
      "5 * 9 : 45\n",
      "\n",
      "\n",
      "6 * 5 : 30\n",
      "6 * 6 : 36\n",
      "6 * 7 : 42\n",
      "6 * 8 : 48\n",
      "\n",
      "\n",
      "7 * 5 : 35\n",
      "7 * 6 : 42\n",
      "7 * 7 : 49\n",
      "\n",
      "\n",
      "8 * 4 : 32\n",
      "8 * 5 : 40\n",
      "8 * 6 : 48\n",
      "\n",
      "\n",
      "9 * 4 : 36\n",
      "9 * 5 : 45\n",
      "\n",
      "\n"
     ]
    }
   ],
   "source": [
    "for i in range(10):\n",
    "    for j in range(10):\n",
    "        if i*j >=30 and i*j <=50:\n",
    "            print(f\"{i} * {j} : {i*j}\")\n",
    "    print(\"\\n\")"
   ]
  },
  {
   "cell_type": "code",
   "execution_count": 6,
   "metadata": {},
   "outputs": [
    {
     "name": "stdout",
     "output_type": "stream",
     "text": [
      "H\n",
      "i\n",
      " \n",
      "f\n",
      "r\n",
      "i\n",
      "e\n",
      "n\n",
      "d\n",
      "s\n",
      ",\n",
      " \n",
      "m\n",
      "y\n",
      " \n",
      "n\n",
      "a\n",
      "m\n",
      "e\n",
      " \n",
      "i\n",
      "s\n",
      " \n",
      "j\n",
      "a\n",
      "c\n",
      "k\n",
      " \n",
      " \n",
      "j\n",
      "j\n"
     ]
    }
   ],
   "source": [
    "text = \"Hi friends, my name is jack  jj\"\n",
    "for i in text:\n",
    "    print(i)"
   ]
  },
  {
   "cell_type": "code",
   "execution_count": 7,
   "metadata": {},
   "outputs": [
    {
     "name": "stdout",
     "output_type": "stream",
     "text": [
      "H\n",
      "i\n",
      " \n",
      "f\n",
      "r\n",
      "i\n",
      "e\n",
      "n\n",
      "d\n",
      "s\n",
      ",\n",
      " \n",
      "m\n",
      "y\n",
      " \n",
      "n\n",
      "a\n",
      "m\n",
      "e\n",
      " \n",
      "i\n",
      "s\n",
      " \n",
      "j\n",
      "a\n",
      "c\n",
      "k\n",
      " \n",
      " \n",
      "j\n",
      "j\n"
     ]
    }
   ],
   "source": [
    "for i in range(len(text)):\n",
    "    print(text[i])"
   ]
  },
  {
   "cell_type": "code",
   "execution_count": 8,
   "metadata": {},
   "outputs": [
    {
     "data": {
      "text/plain": [
       "6"
      ]
     },
     "execution_count": 8,
     "metadata": {},
     "output_type": "execute_result"
    }
   ],
   "source": [
    "a = [4, 2, 3, 9, 7, 5]\n",
    "len(a)"
   ]
  },
  {
   "cell_type": "code",
   "execution_count": 9,
   "metadata": {},
   "outputs": [
    {
     "name": "stdout",
     "output_type": "stream",
     "text": [
      "4\n",
      "2\n",
      "3\n",
      "9\n",
      "7\n",
      "5\n"
     ]
    }
   ],
   "source": [
    "for i in a:\n",
    "    print(i)"
   ]
  },
  {
   "cell_type": "code",
   "execution_count": 10,
   "metadata": {},
   "outputs": [
    {
     "name": "stdout",
     "output_type": "stream",
     "text": [
      "4\n",
      "2\n",
      "3\n",
      "9\n",
      "7\n",
      "5\n"
     ]
    }
   ],
   "source": [
    "for i in range(len(a)):\n",
    "    print(a[i])"
   ]
  },
  {
   "cell_type": "code",
   "execution_count": null,
   "metadata": {},
   "outputs": [],
   "source": [
    "#x^1/1! + x^3/3! + x^5/5! + ... n\n",
    "import math\n",
    "n = 1\n",
    "x = 3\n",
    "m = 1\n",
    "sum = 0\n",
    "for i in range(n):\n",
    "    y = (x**(i+1)) / math.factorial(m)\n",
    "    m += 2\n",
    "    sum += y"
   ]
  },
  {
   "cell_type": "code",
   "execution_count": null,
   "metadata": {},
   "outputs": [],
   "source": []
  }
 ],
 "metadata": {
  "kernelspec": {
   "display_name": "Python 3",
   "language": "python",
   "name": "python3"
  },
  "language_info": {
   "codemirror_mode": {
    "name": "ipython",
    "version": 3
   },
   "file_extension": ".py",
   "mimetype": "text/x-python",
   "name": "python",
   "nbconvert_exporter": "python",
   "pygments_lexer": "ipython3",
   "version": "3.12.2"
  }
 },
 "nbformat": 4,
 "nbformat_minor": 2
}
