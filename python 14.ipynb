{
 "cells": [
  {
   "cell_type": "code",
   "execution_count": 19,
   "id": "1a3c3375",
   "metadata": {},
   "outputs": [],
   "source": [
    "class Human1:\n",
    "    Name = \"jack\"\n",
    "    Family = \"jj\"\n",
    "    City = \"Tehran\"\n",
    "    Age = 25\n",
    "    Friends = [\"Mohammad\", \"Rasoul\"]\n",
    "    Expert = [\"AI\", \"Machine Learning\", \"NLP\"]\n",
    "    \n",
    "    def Full_Name(self):\n",
    "        return self.Name + \" \" + self.Family\n",
    "    \n",
    "    def Guess_Number(self, a, b):\n",
    "        import random\n",
    "        x = random.randint(a, b)\n",
    "        return x\n",
    "    \n",
    "    def Say(self):\n",
    "        return \"hello I am a Human\""
   ]
  },
  {
   "cell_type": "code",
   "execution_count": 20,
   "id": "5c229f52",
   "metadata": {},
   "outputs": [],
   "source": [
    "class Student(Human1):\n",
    "    pass"
   ]
  },
  {
   "cell_type": "code",
   "execution_count": 21,
   "id": "318050c5",
   "metadata": {},
   "outputs": [],
   "source": [
    "Stu1 = Student()"
   ]
  },
  {
   "cell_type": "code",
   "execution_count": 22,
   "id": "c7e4d650",
   "metadata": {},
   "outputs": [
    {
     "data": {
      "text/plain": [
       "'jack'"
      ]
     },
     "execution_count": 22,
     "metadata": {},
     "output_type": "execute_result"
    }
   ],
   "source": [
    "Stu1.Name"
   ]
  },
  {
   "cell_type": "code",
   "execution_count": 23,
   "id": "4cb0a90e",
   "metadata": {},
   "outputs": [
    {
     "data": {
      "text/plain": [
       "'Mohammad Heydari'"
      ]
     },
     "execution_count": 23,
     "metadata": {},
     "output_type": "execute_result"
    }
   ],
   "source": [
    "Stu1.Name = \"Mohammad\"\n",
    "Stu1.Family = \"Heydari\"\n",
    "Stu1.Full_Name()"
   ]
  },
  {
   "cell_type": "code",
   "execution_count": 24,
   "id": "98a481bf",
   "metadata": {},
   "outputs": [
    {
     "data": {
      "text/plain": [
       "5"
      ]
     },
     "execution_count": 24,
     "metadata": {},
     "output_type": "execute_result"
    }
   ],
   "source": [
    "Stu1.Guess_Number(0, 10)"
   ]
  },
  {
   "cell_type": "code",
   "execution_count": 25,
   "id": "06f0ea81",
   "metadata": {},
   "outputs": [],
   "source": [
    "#################################################################################"
   ]
  },
  {
   "cell_type": "code",
   "execution_count": 26,
   "id": "068247cd",
   "metadata": {},
   "outputs": [],
   "source": [
    "class Student2(Human1):\n",
    "    Name = \"Reza\"\n",
    "    Family = \"Abbasi\"\n",
    "    Country = \"Iran\""
   ]
  },
  {
   "cell_type": "code",
   "execution_count": 27,
   "id": "f03d821e",
   "metadata": {},
   "outputs": [],
   "source": [
    "Stu2 = Student2()"
   ]
  },
  {
   "cell_type": "code",
   "execution_count": 28,
   "id": "adff3017",
   "metadata": {},
   "outputs": [
    {
     "data": {
      "text/plain": [
       "'Reza Abbasi'"
      ]
     },
     "execution_count": 28,
     "metadata": {},
     "output_type": "execute_result"
    }
   ],
   "source": [
    "Stu2.Full_Name()"
   ]
  },
  {
   "cell_type": "code",
   "execution_count": 29,
   "id": "d057545a",
   "metadata": {},
   "outputs": [
    {
     "data": {
      "text/plain": [
       "'Iran'"
      ]
     },
     "execution_count": 29,
     "metadata": {},
     "output_type": "execute_result"
    }
   ],
   "source": [
    "Stu2.Country"
   ]
  },
  {
   "cell_type": "code",
   "execution_count": 30,
   "id": "af162e0c",
   "metadata": {},
   "outputs": [
    {
     "data": {
      "text/plain": [
       "'hello I am a Human'"
      ]
     },
     "execution_count": 30,
     "metadata": {},
     "output_type": "execute_result"
    }
   ],
   "source": [
    "Stu2.Say()"
   ]
  },
  {
   "cell_type": "code",
   "execution_count": 31,
   "id": "ca5e4a29",
   "metadata": {},
   "outputs": [],
   "source": [
    "#################################################################################"
   ]
  },
  {
   "cell_type": "code",
   "execution_count": 32,
   "id": "d9b22f41",
   "metadata": {},
   "outputs": [],
   "source": [
    "class Human2:\n",
    "    def __init__(self, name, family, city):\n",
    "        self.Name = name\n",
    "        self.Family = family\n",
    "        self.City = city\n",
    "    \n",
    "    def Full_Name(self):\n",
    "        return self.Name + \" \" + self.Family\n",
    "    \n",
    "    def Guess_Number(self, a, b):\n",
    "        import random\n",
    "        x = random.randint(a, b)\n",
    "        return x\n",
    "    \n",
    "    def Say(self):\n",
    "        return \"hello I am a Human\""
   ]
  },
  {
   "cell_type": "code",
   "execution_count": 33,
   "id": "7d3e0398",
   "metadata": {},
   "outputs": [],
   "source": [
    "class Student2(Human2):\n",
    "    \n",
    "    def __init__(self, name = '', city = '', age=0):\n",
    "        self.Name = name\n",
    "        self.City = city\n",
    "        self.Age = age"
   ]
  },
  {
   "cell_type": "code",
   "execution_count": 34,
   "id": "84bd71dc",
   "metadata": {},
   "outputs": [
    {
     "data": {
      "text/plain": [
       "'Mohammad Heydari'"
      ]
     },
     "execution_count": 34,
     "metadata": {},
     "output_type": "execute_result"
    }
   ],
   "source": [
    "Hum2 = Human2(\"Mohammad\", \"Heydari\", \"Tehran\")\n",
    "\n",
    "Hum2.Full_Name()"
   ]
  },
  {
   "cell_type": "code",
   "execution_count": 35,
   "id": "5aca0d09",
   "metadata": {},
   "outputs": [],
   "source": [
    "Stu2 = Student2(\"Ali\", \"Kermanshah\", 26)"
   ]
  },
  {
   "cell_type": "code",
   "execution_count": 36,
   "id": "f66d3745",
   "metadata": {},
   "outputs": [
    {
     "data": {
      "text/plain": [
       "26"
      ]
     },
     "execution_count": 36,
     "metadata": {},
     "output_type": "execute_result"
    }
   ],
   "source": [
    "Stu2.Age"
   ]
  },
  {
   "cell_type": "code",
   "execution_count": 37,
   "id": "8f0f3d6d",
   "metadata": {},
   "outputs": [],
   "source": [
    "#################################################################################"
   ]
  },
  {
   "cell_type": "code",
   "execution_count": 38,
   "id": "076f219d",
   "metadata": {},
   "outputs": [
    {
     "data": {
      "text/plain": [
       "'jsck jj'"
      ]
     },
     "execution_count": 38,
     "metadata": {},
     "output_type": "execute_result"
    }
   ],
   "source": [
    "class Student3(Human2):\n",
    "    pass\n",
    "\n",
    "Stu3 = Student3(\"jsck\", \"jj\", \"Kermanshah\")\n",
    "Stu3.Full_Name()"
   ]
  },
  {
   "cell_type": "code",
   "execution_count": 39,
   "id": "132746a5",
   "metadata": {},
   "outputs": [],
   "source": [
    "#################################################################################"
   ]
  },
  {
   "cell_type": "code",
   "execution_count": 40,
   "id": "acbec994",
   "metadata": {},
   "outputs": [],
   "source": [
    "class Student4(Human2):\n",
    "    def __init__(self, age = 20):\n",
    "        self.Age = age"
   ]
  },
  {
   "cell_type": "code",
   "execution_count": 41,
   "id": "3361be17",
   "metadata": {},
   "outputs": [],
   "source": [
    "Stu4 = Student4(20)"
   ]
  },
  {
   "cell_type": "code",
   "execution_count": 42,
   "id": "b8fb140f",
   "metadata": {},
   "outputs": [
    {
     "data": {
      "text/plain": [
       "20"
      ]
     },
     "execution_count": 42,
     "metadata": {},
     "output_type": "execute_result"
    }
   ],
   "source": [
    "Stu4.Age"
   ]
  },
  {
   "cell_type": "code",
   "execution_count": 43,
   "id": "d462e0d1",
   "metadata": {},
   "outputs": [],
   "source": [
    "#################################################################################"
   ]
  },
  {
   "cell_type": "code",
   "execution_count": 44,
   "id": "6d2266fb",
   "metadata": {},
   "outputs": [],
   "source": [
    "class Student5(Human2):\n",
    "    def __init__(self, name = '', family = '', city = '', age = 20, country = ''):\n",
    "        Human2.__init__(self, name, family, city)\n",
    "        self.Age = age\n",
    "        self.Country = country"
   ]
  },
  {
   "cell_type": "code",
   "execution_count": 45,
   "id": "50ee1b89",
   "metadata": {},
   "outputs": [],
   "source": [
    "Stu5 = Student5(\"Fatemeh\", \"Abbasi\", \"Tehran\", 20, \"Iran\")"
   ]
  },
  {
   "cell_type": "code",
   "execution_count": 46,
   "id": "fa4daae9",
   "metadata": {},
   "outputs": [
    {
     "data": {
      "text/plain": [
       "'Fatemeh Abbasi'"
      ]
     },
     "execution_count": 46,
     "metadata": {},
     "output_type": "execute_result"
    }
   ],
   "source": [
    "Stu5.Full_Name()"
   ]
  },
  {
   "cell_type": "code",
   "execution_count": 47,
   "id": "0545fd47",
   "metadata": {},
   "outputs": [
    {
     "data": {
      "text/plain": [
       "30"
      ]
     },
     "execution_count": 47,
     "metadata": {},
     "output_type": "execute_result"
    }
   ],
   "source": [
    "Stu5.Age = 30\n",
    "Stu5.Age"
   ]
  },
  {
   "cell_type": "code",
   "execution_count": 48,
   "id": "647a37b6",
   "metadata": {},
   "outputs": [
    {
     "data": {
      "text/plain": [
       "'Iran'"
      ]
     },
     "execution_count": 48,
     "metadata": {},
     "output_type": "execute_result"
    }
   ],
   "source": [
    "Stu5.Country"
   ]
  },
  {
   "cell_type": "code",
   "execution_count": 49,
   "id": "bda93481",
   "metadata": {},
   "outputs": [],
   "source": [
    "#################################################################################"
   ]
  },
  {
   "cell_type": "code",
   "execution_count": 50,
   "id": "98b2d5e1",
   "metadata": {},
   "outputs": [],
   "source": [
    "class Student5(Human2):\n",
    "    def __init__(self, name = '', family = '', city = '', age = 20, country = ''):\n",
    "        super().__init__(name, family, city)\n",
    "        self.Age = age\n",
    "        self.Country = country"
   ]
  },
  {
   "cell_type": "code",
   "execution_count": 51,
   "id": "c20234d0",
   "metadata": {},
   "outputs": [
    {
     "data": {
      "text/plain": [
       "'jack jj'"
      ]
     },
     "execution_count": 51,
     "metadata": {},
     "output_type": "execute_result"
    }
   ],
   "source": [
    "Stu5 = Student5(\"jack\", \"jj\", \"Kermanshah\", 18, \"Iran\")\n",
    "\n",
    "Stu5.Full_Name()"
   ]
  },
  {
   "cell_type": "code",
   "execution_count": 52,
   "id": "cbc7386a",
   "metadata": {},
   "outputs": [],
   "source": [
    "#################################################################################"
   ]
  },
  {
   "cell_type": "code",
   "execution_count": 53,
   "id": "aa7d2dca",
   "metadata": {},
   "outputs": [],
   "source": [
    "class Human3:\n",
    "    def __init__(self, name = '', family = '', city = '', age = 0):\n",
    "        self.Name = name\n",
    "        self.Family= family\n",
    "        self.City = city\n",
    "        self.Age = age\n",
    "        \n",
    "    def Say(self):\n",
    "        return \"Hello I am a Human\""
   ]
  },
  {
   "cell_type": "code",
   "execution_count": 54,
   "id": "0b4f80ee",
   "metadata": {},
   "outputs": [],
   "source": [
    "class Student6:\n",
    "    \n",
    "    def __init__(self, lessons = dict(), average = 0, field = ''):\n",
    "        self.Lessons = lessons\n",
    "        self.Average = average\n",
    "        self.Field = field\n",
    "        \n",
    "    def EntehkhabVahed(self, x, y):\n",
    "        self.Lessons = dict()\n",
    "        print(\"انتخاب واحد کنید...\")\n",
    "        for i in range(len(x)):\n",
    "            self.Lessons[x[i]] = y[i]\n",
    "        return lessons\n",
    "    \n",
    "    def Say(self):\n",
    "        return \"hello I am a Student\""
   ]
  },
  {
   "cell_type": "code",
   "execution_count": 55,
   "id": "b249c12e",
   "metadata": {},
   "outputs": [],
   "source": [
    "class UserLinkedIn(Human3, Student6):\n",
    "    \n",
    "    def __init__(self, id_, name, family, city, age):\n",
    "        self.Id = id_"
   ]
  },
  {
   "cell_type": "code",
   "execution_count": 56,
   "id": "67c1bce2",
   "metadata": {},
   "outputs": [],
   "source": [
    "LinkedIn = UserLinkedIn(\"123\", 'jack', 'jj', 'Kermanshah', 26)"
   ]
  },
  {
   "cell_type": "code",
   "execution_count": 57,
   "id": "bd1aeb61",
   "metadata": {},
   "outputs": [
    {
     "data": {
      "text/plain": [
       "'Hello I am a Human'"
      ]
     },
     "execution_count": 57,
     "metadata": {},
     "output_type": "execute_result"
    }
   ],
   "source": [
    "LinkedIn.Say()"
   ]
  },
  {
   "cell_type": "code",
   "execution_count": 58,
   "id": "dedc3c9e",
   "metadata": {},
   "outputs": [
    {
     "data": {
      "text/plain": [
       "'Farhad'"
      ]
     },
     "execution_count": 58,
     "metadata": {},
     "output_type": "execute_result"
    }
   ],
   "source": [
    "Hu3 = Human3(\"Farhad\", \"Bahrami\", \"Tehran\", 20)\n",
    "Hu3.Name"
   ]
  },
  {
   "cell_type": "code",
   "execution_count": 59,
   "id": "12b8c462",
   "metadata": {},
   "outputs": [
    {
     "data": {
      "text/plain": [
       "'Hello I am a Human'"
      ]
     },
     "execution_count": 59,
     "metadata": {},
     "output_type": "execute_result"
    }
   ],
   "source": [
    "Hu3.Say()"
   ]
  },
  {
   "cell_type": "code",
   "execution_count": 60,
   "id": "6bbec8ac",
   "metadata": {},
   "outputs": [
    {
     "data": {
      "text/plain": [
       "'Computer'"
      ]
     },
     "execution_count": 60,
     "metadata": {},
     "output_type": "execute_result"
    }
   ],
   "source": [
    "dic = dict()\n",
    "Stu6 = Student6(dic, 20, 'Computer')\n",
    "Stu6.Field"
   ]
  },
  {
   "cell_type": "code",
   "execution_count": 61,
   "id": "7f7245a0",
   "metadata": {},
   "outputs": [
    {
     "data": {
      "text/plain": [
       "'hello I am a Student'"
      ]
     },
     "execution_count": 61,
     "metadata": {},
     "output_type": "execute_result"
    }
   ],
   "source": [
    "Stu6.Say()"
   ]
  },
  {
   "cell_type": "code",
   "execution_count": 62,
   "id": "4d1a6673",
   "metadata": {},
   "outputs": [
    {
     "data": {
      "text/plain": [
       "'123'"
      ]
     },
     "execution_count": 62,
     "metadata": {},
     "output_type": "execute_result"
    }
   ],
   "source": [
    "LinkedIn.Id"
   ]
  },
  {
   "cell_type": "code",
   "execution_count": null,
   "id": "9d70b17d",
   "metadata": {},
   "outputs": [],
   "source": []
  }
 ],
 "metadata": {
  "kernelspec": {
   "display_name": "Python 3",
   "language": "python",
   "name": "python3"
  },
  "language_info": {
   "codemirror_mode": {
    "name": "ipython",
    "version": 3
   },
   "file_extension": ".py",
   "mimetype": "text/x-python",
   "name": "python",
   "nbconvert_exporter": "python",
   "pygments_lexer": "ipython3",
   "version": "3.12.2"
  }
 },
 "nbformat": 4,
 "nbformat_minor": 5
}
