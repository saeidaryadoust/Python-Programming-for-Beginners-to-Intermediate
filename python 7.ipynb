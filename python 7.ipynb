{
 "cells": [
  {
   "cell_type": "markdown",
   "metadata": {},
   "source": [
    "# function"
   ]
  },
  {
   "cell_type": "code",
   "execution_count": 2,
   "metadata": {},
   "outputs": [],
   "source": [
    "def F1():\n",
    "    print(\"Hi Friends\")"
   ]
  },
  {
   "cell_type": "code",
   "execution_count": 3,
   "metadata": {},
   "outputs": [
    {
     "name": "stdout",
     "output_type": "stream",
     "text": [
      "Hi Friends\n"
     ]
    }
   ],
   "source": [
    "F1()"
   ]
  },
  {
   "cell_type": "code",
   "execution_count": 4,
   "metadata": {},
   "outputs": [],
   "source": [
    "def F2():\n",
    "    a = 2\n",
    "    b = 3\n",
    "    print(a**b)"
   ]
  },
  {
   "cell_type": "code",
   "execution_count": 5,
   "metadata": {},
   "outputs": [
    {
     "name": "stdout",
     "output_type": "stream",
     "text": [
      "8\n"
     ]
    }
   ],
   "source": [
    "F2()"
   ]
  },
  {
   "cell_type": "code",
   "execution_count": 6,
   "metadata": {},
   "outputs": [],
   "source": [
    "def F3():\n",
    "    a = 2\n",
    "    b = 3\n",
    "    return a**b"
   ]
  },
  {
   "cell_type": "code",
   "execution_count": 7,
   "metadata": {},
   "outputs": [
    {
     "data": {
      "text/plain": [
       "8"
      ]
     },
     "execution_count": 7,
     "metadata": {},
     "output_type": "execute_result"
    }
   ],
   "source": [
    "x = F3()\n",
    "x"
   ]
  },
  {
   "cell_type": "code",
   "execution_count": 8,
   "metadata": {},
   "outputs": [],
   "source": [
    "def F4():\n",
    "    a = [2, 8, 3, 9, 1]\n",
    "    return max(a)"
   ]
  },
  {
   "cell_type": "code",
   "execution_count": 9,
   "metadata": {},
   "outputs": [
    {
     "data": {
      "text/plain": [
       "9"
      ]
     },
     "execution_count": 9,
     "metadata": {},
     "output_type": "execute_result"
    }
   ],
   "source": [
    "x = F4()\n",
    "x"
   ]
  },
  {
   "cell_type": "code",
   "execution_count": 10,
   "metadata": {},
   "outputs": [],
   "source": [
    "def F5(a):\n",
    "    print(a)"
   ]
  },
  {
   "cell_type": "code",
   "execution_count": 11,
   "metadata": {},
   "outputs": [
    {
     "name": "stdout",
     "output_type": "stream",
     "text": [
      "10\n"
     ]
    }
   ],
   "source": [
    "F5(10)"
   ]
  },
  {
   "cell_type": "code",
   "execution_count": 12,
   "metadata": {},
   "outputs": [],
   "source": [
    "def F6(a, b):\n",
    "    x = a**2\n",
    "    y = a*b\n",
    "    print(x, y)"
   ]
  },
  {
   "cell_type": "code",
   "execution_count": 13,
   "metadata": {},
   "outputs": [
    {
     "name": "stdout",
     "output_type": "stream",
     "text": [
      "4 8\n"
     ]
    }
   ],
   "source": [
    "F6(2, 4)"
   ]
  },
  {
   "cell_type": "code",
   "execution_count": 14,
   "metadata": {},
   "outputs": [],
   "source": [
    "def F7(a):\n",
    "    return a"
   ]
  },
  {
   "cell_type": "code",
   "execution_count": 15,
   "metadata": {},
   "outputs": [
    {
     "data": {
      "text/plain": [
       "5"
      ]
     },
     "execution_count": 15,
     "metadata": {},
     "output_type": "execute_result"
    }
   ],
   "source": [
    "F7(5)"
   ]
  },
  {
   "cell_type": "code",
   "execution_count": 16,
   "metadata": {},
   "outputs": [
    {
     "data": {
      "text/plain": [
       "5"
      ]
     },
     "execution_count": 16,
     "metadata": {},
     "output_type": "execute_result"
    }
   ],
   "source": [
    "x = F7(5)\n",
    "x"
   ]
  },
  {
   "cell_type": "code",
   "execution_count": 17,
   "metadata": {},
   "outputs": [],
   "source": [
    "def F8(a, b):\n",
    "    x = a**2\n",
    "    y = a*b\n",
    "    return x, y"
   ]
  },
  {
   "cell_type": "code",
   "execution_count": 18,
   "metadata": {},
   "outputs": [
    {
     "data": {
      "text/plain": [
       "(4, 8)"
      ]
     },
     "execution_count": 18,
     "metadata": {},
     "output_type": "execute_result"
    }
   ],
   "source": [
    "F8(2, 4)"
   ]
  },
  {
   "cell_type": "code",
   "execution_count": 19,
   "metadata": {},
   "outputs": [],
   "source": [
    "x1, y1 = F8(2, 4)"
   ]
  },
  {
   "cell_type": "code",
   "execution_count": 20,
   "metadata": {},
   "outputs": [
    {
     "name": "stdout",
     "output_type": "stream",
     "text": [
      "x: 4, y: 8\n"
     ]
    }
   ],
   "source": [
    "print(f\"x: {x1}, y: {y1}\")"
   ]
  },
  {
   "cell_type": "code",
   "execution_count": 21,
   "metadata": {},
   "outputs": [
    {
     "name": "stdout",
     "output_type": "stream",
     "text": [
      "8\n",
      "2\n"
     ]
    }
   ],
   "source": [
    "x = max(2, 8, 4)\n",
    "y = min(2, 4, 6)\n",
    "\n",
    "print(x)\n",
    "print(y)"
   ]
  },
  {
   "cell_type": "code",
   "execution_count": 22,
   "metadata": {},
   "outputs": [
    {
     "data": {
      "text/plain": [
       "4"
      ]
     },
     "execution_count": 22,
     "metadata": {},
     "output_type": "execute_result"
    }
   ],
   "source": [
    "List = [6, 8, 7, 2]\n",
    "L = len(List)\n",
    "L"
   ]
  },
  {
   "cell_type": "code",
   "execution_count": 23,
   "metadata": {},
   "outputs": [
    {
     "data": {
      "text/plain": [
       "{2, 4, 6, 8, 10}"
      ]
     },
     "execution_count": 23,
     "metadata": {},
     "output_type": "execute_result"
    }
   ],
   "source": [
    "S1 = {2, 4, 6, 8}\n",
    "S1.add(10)\n",
    "S1"
   ]
  },
  {
   "cell_type": "code",
   "execution_count": 24,
   "metadata": {},
   "outputs": [],
   "source": [
    "def Rectangle(length, width):\n",
    "    area = length * width\n",
    "    perimeter  = 2 * (length + width)\n",
    "    \n",
    "    return area, perimeter "
   ]
  },
  {
   "cell_type": "code",
   "execution_count": 25,
   "metadata": {},
   "outputs": [
    {
     "data": {
      "text/plain": [
       "(8, 12)"
      ]
     },
     "execution_count": 25,
     "metadata": {},
     "output_type": "execute_result"
    }
   ],
   "source": [
    "Rectangle(2, 4)"
   ]
  },
  {
   "cell_type": "code",
   "execution_count": 26,
   "metadata": {},
   "outputs": [
    {
     "name": "stdout",
     "output_type": "stream",
     "text": [
      "area: 8, perimeter: 12\n"
     ]
    }
   ],
   "source": [
    "area, perimeter  = Rectangle(2, 4)\n",
    "\n",
    "print(f\"area: {area}, perimeter: {perimeter}\")"
   ]
  },
  {
   "cell_type": "code",
   "execution_count": 27,
   "metadata": {},
   "outputs": [
    {
     "name": "stdout",
     "output_type": "stream",
     "text": [
      "area: 8, perimeter: 12\n"
     ]
    }
   ],
   "source": [
    "area, perimeter  = Rectangle(length=2, width=4)\n",
    "\n",
    "print(f\"area: {area}, perimeter: {perimeter}\")"
   ]
  },
  {
   "cell_type": "code",
   "execution_count": 28,
   "metadata": {},
   "outputs": [
    {
     "name": "stdout",
     "output_type": "stream",
     "text": [
      "area: 8, perimeter: 12\n"
     ]
    }
   ],
   "source": [
    "area, perimeter  = Rectangle(width=4, length=2)\n",
    "\n",
    "print(f\"area: {area}, perimeter: {perimeter}\")"
   ]
  },
  {
   "cell_type": "code",
   "execution_count": 29,
   "metadata": {},
   "outputs": [],
   "source": [
    "def Adult(age):\n",
    "    if age < 18:\n",
    "        return False\n",
    "    elif age >= 18:\n",
    "        return True"
   ]
  },
  {
   "cell_type": "code",
   "execution_count": 30,
   "metadata": {},
   "outputs": [
    {
     "data": {
      "text/plain": [
       "False"
      ]
     },
     "execution_count": 30,
     "metadata": {},
     "output_type": "execute_result"
    }
   ],
   "source": [
    "Adult(15)"
   ]
  },
  {
   "cell_type": "code",
   "execution_count": 31,
   "metadata": {},
   "outputs": [
    {
     "name": "stdout",
     "output_type": "stream",
     "text": [
      "شما واجد دریافت گواهی نامه رانندگی نیستید\n"
     ]
    }
   ],
   "source": [
    "if Adult(15) == True:\n",
    "    print(\"شما می توانید جهت دریافت گواهی نامه رانندگی اقدام کنید\")\n",
    "else:\n",
    "    print(\"شما واجد دریافت گواهی نامه رانندگی نیستید\")"
   ]
  },
  {
   "cell_type": "code",
   "execution_count": 32,
   "metadata": {},
   "outputs": [],
   "source": [
    "def Adult2(age):\n",
    "    if age < 18:\n",
    "        text = \"شما می توانید جهت دریافت گواهی نامه رانندگی اقدام کنید\"\n",
    "    elif age >= 18:\n",
    "        text = \"شما واجد دریافت گواهی نامه رانندگی نیستید\"\n",
    "    return text"
   ]
  },
  {
   "cell_type": "code",
   "execution_count": 33,
   "metadata": {},
   "outputs": [
    {
     "data": {
      "text/plain": [
       "'شما واجد دریافت گواهی نامه رانندگی نیستید'"
      ]
     },
     "execution_count": 33,
     "metadata": {},
     "output_type": "execute_result"
    }
   ],
   "source": [
    "Adult2(30)"
   ]
  },
  {
   "cell_type": "code",
   "execution_count": 34,
   "metadata": {},
   "outputs": [],
   "source": [
    "def Adult3(age):\n",
    "    if age < 18:\n",
    "        return 0\n",
    "    elif age >= 18:\n",
    "        return 1"
   ]
  },
  {
   "cell_type": "code",
   "execution_count": 35,
   "metadata": {},
   "outputs": [
    {
     "data": {
      "text/plain": [
       "1"
      ]
     },
     "execution_count": 35,
     "metadata": {},
     "output_type": "execute_result"
    }
   ],
   "source": [
    "Adult3(25)"
   ]
  },
  {
   "cell_type": "code",
   "execution_count": 36,
   "metadata": {},
   "outputs": [
    {
     "name": "stdout",
     "output_type": "stream",
     "text": [
      "لطفا یکی از ماشین های زیر را انتخاب کنید:\n",
      "پراید، پژو، سمند، لامبورگینی، فراری\n"
     ]
    }
   ],
   "source": [
    "if Adult3(25) == 0:\n",
    "    print(\"متاسفم شما نمی توانید ماشین بخرید\")\n",
    "elif Adult3(25) == 1:\n",
    "    print(\"لطفا یکی از ماشین های زیر را انتخاب کنید:\")\n",
    "    print(\"پراید، پژو، سمند، لامبورگینی، فراری\")"
   ]
  },
  {
   "cell_type": "code",
   "execution_count": 37,
   "metadata": {},
   "outputs": [],
   "source": [
    "def Adult4(age, name):\n",
    "    boy = [\"Ali\", \"Mohammad\", \"Sina\", \"Reza\", \"Rasoul\", \"Mohsen\"]\n",
    "    \n",
    "    if Adult3(age) == 1 and name in boy:\n",
    "        return f\"Hi {name}, your age is {age} \"\n",
    "    elif Adult3(age) == 1 and name not in boy:\n",
    "        return f\"{name} is not exist\"\n",
    "    else:\n",
    "        return \"Error\""
   ]
  },
  {
   "cell_type": "code",
   "execution_count": 38,
   "metadata": {},
   "outputs": [
    {
     "data": {
      "text/plain": [
       "'Hi Reza, your age is 45 '"
      ]
     },
     "execution_count": 38,
     "metadata": {},
     "output_type": "execute_result"
    }
   ],
   "source": [
    "Adult4(45, \"Reza\")"
   ]
  },
  {
   "cell_type": "code",
   "execution_count": 39,
   "metadata": {},
   "outputs": [
    {
     "name": "stdout",
     "output_type": "stream",
     "text": [
      "Yes\n"
     ]
    }
   ],
   "source": [
    "def F9(a):\n",
    "    return (a**2) / (2*a)\n",
    "\n",
    "if F9(8) >= 4 and Adult3(25) == 1:\n",
    "    print(\"Yes\")\n",
    "else:\n",
    "    print(\"No\")"
   ]
  },
  {
   "cell_type": "code",
   "execution_count": 40,
   "metadata": {},
   "outputs": [],
   "source": [
    "def Check_B_G(name):\n",
    "    boy = [\"Ali\", \"Mohammad\", \"Sina\", \"Reza\", \"Rasoul\", \"Mohsen\"]\n",
    "    girl = [\"Zahra\", \"Bahar\", \"Fatemeh\", \"Mona\", \"Hana\", \"Parmida\"]\n",
    "    \n",
    "    if name in boy:\n",
    "        return \"BOY\"\n",
    "    elif name in girl:\n",
    "        return \"GIRL\"\n",
    "    else:\n",
    "        return 0"
   ]
  },
  {
   "cell_type": "code",
   "execution_count": 41,
   "metadata": {},
   "outputs": [
    {
     "name": "stdout",
     "output_type": "stream",
     "text": [
      "BOY\n",
      "<class 'str'>\n"
     ]
    }
   ],
   "source": [
    "x = Check_B_G(\"Ali\")\n",
    "print(x)\n",
    "print(type(x))"
   ]
  },
  {
   "cell_type": "code",
   "execution_count": 42,
   "metadata": {},
   "outputs": [],
   "source": [
    "def Person(Name=\"jack\", Family=\"jj\", Age=25):\n",
    "    return Name, Family, Age"
   ]
  },
  {
   "cell_type": "code",
   "execution_count": 43,
   "metadata": {},
   "outputs": [
    {
     "name": "stdout",
     "output_type": "stream",
     "text": [
      "jack jj 25\n"
     ]
    }
   ],
   "source": [
    "N, F, A = Person()\n",
    "\n",
    "print(N, F, A)"
   ]
  },
  {
   "cell_type": "code",
   "execution_count": 44,
   "metadata": {},
   "outputs": [
    {
     "name": "stdout",
     "output_type": "stream",
     "text": [
      "Rasoul Taheri 25\n"
     ]
    }
   ],
   "source": [
    "N, F, A = Person(Name=\"Rasoul\", Family=\"Taheri\")\n",
    "\n",
    "print(N, F, A)"
   ]
  },
  {
   "cell_type": "code",
   "execution_count": 45,
   "metadata": {},
   "outputs": [
    {
     "name": "stdout",
     "output_type": "stream",
     "text": [
      "Rasoul Taheri 26\n"
     ]
    }
   ],
   "source": [
    "N, F, A = Person(Name=\"Rasoul\", Family=\"Taheri\", Age=26)\n",
    "\n",
    "print(N, F, A)"
   ]
  },
  {
   "cell_type": "code",
   "execution_count": 46,
   "metadata": {},
   "outputs": [],
   "source": [
    "import math\n",
    "\n",
    "def Factorial(a):\n",
    "    f = []\n",
    "    for i in range(a):\n",
    "        f.append(math.factorial(i))\n",
    "    return f"
   ]
  },
  {
   "cell_type": "code",
   "execution_count": 47,
   "metadata": {},
   "outputs": [
    {
     "name": "stdout",
     "output_type": "stream",
     "text": [
      "x: [1, 1, 2, 6, 24, 120]\n",
      "{<class 'list'>}\n"
     ]
    }
   ],
   "source": [
    "x = Factorial(6)\n",
    "\n",
    "print(f\"x: {x}\")\n",
    "print({type(x)})"
   ]
  },
  {
   "cell_type": "code",
   "execution_count": 48,
   "metadata": {},
   "outputs": [],
   "source": [
    "L1 = [pow(2, i) for i in range(10)]\n",
    "\n",
    "def F10(a):\n",
    "    return a"
   ]
  },
  {
   "cell_type": "code",
   "execution_count": 49,
   "metadata": {},
   "outputs": [
    {
     "data": {
      "text/plain": [
       "[1, 2, 4, 8, 16, 32, 64, 128, 256, 512]"
      ]
     },
     "execution_count": 49,
     "metadata": {},
     "output_type": "execute_result"
    }
   ],
   "source": [
    "F10(L1)"
   ]
  },
  {
   "cell_type": "code",
   "execution_count": 50,
   "metadata": {},
   "outputs": [],
   "source": [
    "def F11(a):\n",
    "    l = []\n",
    "    for i in a:\n",
    "        if i >=16 and i<= 128:\n",
    "            l.append(i)\n",
    "    return l"
   ]
  },
  {
   "cell_type": "code",
   "execution_count": 51,
   "metadata": {},
   "outputs": [
    {
     "data": {
      "text/plain": [
       "[16, 32, 64, 128]"
      ]
     },
     "execution_count": 51,
     "metadata": {},
     "output_type": "execute_result"
    }
   ],
   "source": [
    "x = F11(L1)\n",
    "x"
   ]
  },
  {
   "cell_type": "code",
   "execution_count": 52,
   "metadata": {},
   "outputs": [],
   "source": [
    "D1 = {\n",
    "    \"id\": 332,\n",
    "    \"age\": 25,\n",
    "    \"number\": 423\n",
    "}"
   ]
  },
  {
   "cell_type": "code",
   "execution_count": 53,
   "metadata": {},
   "outputs": [],
   "source": [
    "def F12(a):\n",
    "    k, v = [], []\n",
    "    for key, value in a.items():\n",
    "        k.append(key)\n",
    "        v.append(value)\n",
    "    return k, v"
   ]
  },
  {
   "cell_type": "code",
   "execution_count": 54,
   "metadata": {},
   "outputs": [
    {
     "name": "stdout",
     "output_type": "stream",
     "text": [
      "keys ['id', 'age', 'number'], <class 'list'>\n",
      "values [332, 25, 423], <class 'list'>\n"
     ]
    }
   ],
   "source": [
    "k, v = F12(D1)\n",
    "\n",
    "print(f\"keys {k}, {type(k)}\")\n",
    "print(f\"values {v}, {type(v)}\")"
   ]
  },
  {
   "cell_type": "code",
   "execution_count": 55,
   "metadata": {},
   "outputs": [],
   "source": [
    "L1 = [2, 4, 6]\n",
    "S1 = {\"python\", 'C#', 2, 9}\n",
    "\n",
    "def F13(a):\n",
    "    for i in a:\n",
    "        print(i)"
   ]
  },
  {
   "cell_type": "code",
   "execution_count": 56,
   "metadata": {},
   "outputs": [
    {
     "name": "stdout",
     "output_type": "stream",
     "text": [
      "2\n",
      "4\n",
      "6\n"
     ]
    }
   ],
   "source": [
    "F13(L1)"
   ]
  },
  {
   "cell_type": "code",
   "execution_count": 57,
   "metadata": {},
   "outputs": [
    {
     "name": "stdout",
     "output_type": "stream",
     "text": [
      "9\n",
      "2\n",
      "python\n",
      "C#\n"
     ]
    }
   ],
   "source": [
    "F13(S1)"
   ]
  },
  {
   "cell_type": "code",
   "execution_count": 58,
   "metadata": {},
   "outputs": [],
   "source": [
    "def F14(*args):\n",
    "    for i in args:\n",
    "        print(i)"
   ]
  },
  {
   "cell_type": "code",
   "execution_count": 59,
   "metadata": {},
   "outputs": [
    {
     "name": "stdout",
     "output_type": "stream",
     "text": [
      "4\n",
      "1\n",
      "python\n",
      "5\n",
      "2\n",
      "[10, 20, 'C#']\n"
     ]
    }
   ],
   "source": [
    "F14(4, 1, \"python\", 5, 2, [10, 20, \"C#\"])"
   ]
  },
  {
   "cell_type": "code",
   "execution_count": 60,
   "metadata": {},
   "outputs": [
    {
     "name": "stdout",
     "output_type": "stream",
     "text": [
      "[2, 4, 6]\n"
     ]
    }
   ],
   "source": [
    "F14(L1)"
   ]
  },
  {
   "cell_type": "code",
   "execution_count": 61,
   "metadata": {},
   "outputs": [],
   "source": [
    "import math\n",
    "\n",
    "def F15(*args):\n",
    "    L1 = []\n",
    "    for i in args:\n",
    "        L1.append(math.sqrt(i))\n",
    "    return L1"
   ]
  },
  {
   "cell_type": "code",
   "execution_count": 62,
   "metadata": {},
   "outputs": [
    {
     "name": "stdout",
     "output_type": "stream",
     "text": [
      "[5.0, 2.0, 6.0, 9.0, 10.0]\n",
      "[3.0]\n"
     ]
    }
   ],
   "source": [
    "x1 = F15(25, 4, 36, 81, 100)\n",
    "x2 = F15(9)\n",
    "\n",
    "print(x1)\n",
    "print(x2)"
   ]
  },
  {
   "cell_type": "code",
   "execution_count": 63,
   "metadata": {},
   "outputs": [],
   "source": [
    "def F16(*args):\n",
    "    Sum = 0\n",
    "    for i in args:\n",
    "        Sum += i\n",
    "    return Sum"
   ]
  },
  {
   "cell_type": "code",
   "execution_count": 64,
   "metadata": {},
   "outputs": [
    {
     "data": {
      "text/plain": [
       "16"
      ]
     },
     "execution_count": 64,
     "metadata": {},
     "output_type": "execute_result"
    }
   ],
   "source": [
    "F16(2, 8, 6)"
   ]
  },
  {
   "cell_type": "code",
   "execution_count": 65,
   "metadata": {},
   "outputs": [
    {
     "data": {
      "text/plain": [
       "32"
      ]
     },
     "execution_count": 65,
     "metadata": {},
     "output_type": "execute_result"
    }
   ],
   "source": [
    "L1 = [5, 6, 2, 8, 7, 4]\n",
    "\n",
    "F16(*L1)"
   ]
  },
  {
   "cell_type": "code",
   "execution_count": 66,
   "metadata": {},
   "outputs": [],
   "source": [
    "def F17(**kwargs):\n",
    "    return kwargs"
   ]
  },
  {
   "cell_type": "code",
   "execution_count": 67,
   "metadata": {},
   "outputs": [
    {
     "data": {
      "text/plain": [
       "{'name': 'Reza', 'score': 20}"
      ]
     },
     "execution_count": 67,
     "metadata": {},
     "output_type": "execute_result"
    }
   ],
   "source": [
    "F17(name=\"Reza\", score=20)"
   ]
  },
  {
   "cell_type": "code",
   "execution_count": 68,
   "metadata": {},
   "outputs": [],
   "source": [
    "def F18(**kwargs):\n",
    "    for key, value in kwargs.items():\n",
    "        print(f\"key: {key}, value: {value}\")"
   ]
  },
  {
   "cell_type": "code",
   "execution_count": 69,
   "metadata": {},
   "outputs": [
    {
     "name": "stdout",
     "output_type": "stream",
     "text": [
      "key: name, value: ali\n",
      "key: age, value: 25\n"
     ]
    }
   ],
   "source": [
    "F18(name=\"ali\", age=25)"
   ]
  },
  {
   "cell_type": "code",
   "execution_count": 70,
   "metadata": {},
   "outputs": [
    {
     "name": "stdout",
     "output_type": "stream",
     "text": [
      "key: id, value: 332\n",
      "key: age, value: 25\n",
      "key: number, value: 423\n"
     ]
    }
   ],
   "source": [
    "D1 = {\n",
    "    \"id\": 332,\n",
    "    \"age\": 25,\n",
    "    \"number\": 423\n",
    "}\n",
    "\n",
    "F18(**D1)"
   ]
  },
  {
   "cell_type": "code",
   "execution_count": 71,
   "metadata": {},
   "outputs": [],
   "source": [
    "def F19(**kwargs):\n",
    "    k, v = [], []\n",
    "    for key, value in kwargs.items():\n",
    "        k.append(key)\n",
    "        v.append(value)\n",
    "    return k, v"
   ]
  },
  {
   "cell_type": "code",
   "execution_count": 72,
   "metadata": {},
   "outputs": [
    {
     "data": {
      "text/plain": [
       "(['name', 'Score', 'City', 'Average'],\n",
       " [['Ali', 'Reza', 'Zahra'],\n",
       "  [19, 18, 20],\n",
       "  ['Tehran', 'Karaj', 'Kermanshah'],\n",
       "  18])"
      ]
     },
     "execution_count": 72,
     "metadata": {},
     "output_type": "execute_result"
    }
   ],
   "source": [
    "D2 = {\n",
    "    \"name\": [\"Ali\", \"Reza\", \"Zahra\"],\n",
    "    \"Score\": [19, 18, 20],\n",
    "    \"City\": [\"Tehran\", \"Karaj\", \"Kermanshah\"],\n",
    "    \"Average\": 18\n",
    "}\n",
    "\n",
    "F19(**D2)"
   ]
  },
  {
   "cell_type": "code",
   "execution_count": 73,
   "metadata": {},
   "outputs": [],
   "source": [
    "def F20(a, *args, default = \"python\", **kwargs):\n",
    "    return a, args, default, kwargs"
   ]
  },
  {
   "cell_type": "code",
   "execution_count": 74,
   "metadata": {},
   "outputs": [
    {
     "data": {
      "text/plain": [
       "(2,\n",
       " ([2, 3, 4],),\n",
       " 'bigdataworld',\n",
       " {'name': ['Ali', 'Reza', 'Zahra'],\n",
       "  'Score': [19, 18, 20],\n",
       "  'City': ['Tehran', 'Karaj', 'Kermanshah'],\n",
       "  'Average': 18})"
      ]
     },
     "execution_count": 74,
     "metadata": {},
     "output_type": "execute_result"
    }
   ],
   "source": [
    "F20(2, [2,3,4], default=\"bigdataworld\", **D2)"
   ]
  },
  {
   "cell_type": "code",
   "execution_count": 75,
   "metadata": {},
   "outputs": [],
   "source": [
    "a, b, c, d = F20(2, [2,3,4], default=\"bigdataworld\", **D2)"
   ]
  },
  {
   "cell_type": "code",
   "execution_count": 76,
   "metadata": {},
   "outputs": [
    {
     "name": "stdout",
     "output_type": "stream",
     "text": [
      "2\n",
      "([2, 3, 4],)\n",
      "bigdataworld\n",
      "{'name': ['Ali', 'Reza', 'Zahra'], 'Score': [19, 18, 20], 'City': ['Tehran', 'Karaj', 'Kermanshah'], 'Average': 18}\n"
     ]
    }
   ],
   "source": [
    "print(a)\n",
    "print(b)\n",
    "print(c)\n",
    "print(d)"
   ]
  },
  {
   "cell_type": "code",
   "execution_count": 77,
   "metadata": {},
   "outputs": [],
   "source": [
    "def F21(a, b, c, *args, default1 = \"python\", default2 = \"C#\", **kwargs):\n",
    "    \n",
    "    return a, b, c, args, default1, default2, kwargs"
   ]
  },
  {
   "cell_type": "code",
   "execution_count": 80,
   "metadata": {},
   "outputs": [],
   "source": [
    "a, b, c, d, e, f, g = F21(\"python\", \"bigdataworld\", 20, {5, \"jack\", \"jj\"}, default1=\"Django\", default2=\"C++\", **D2)"
   ]
  },
  {
   "cell_type": "code",
   "execution_count": 81,
   "metadata": {},
   "outputs": [
    {
     "name": "stdout",
     "output_type": "stream",
     "text": [
      "python\n",
      "bigdataworld\n",
      "20\n",
      "({'jj', 'jack', 5},)\n",
      "Django\n",
      "C++\n",
      "{'name': ['Ali', 'Reza', 'Zahra'], 'Score': [19, 18, 20], 'City': ['Tehran', 'Karaj', 'Kermanshah'], 'Average': 18}\n"
     ]
    }
   ],
   "source": [
    "print(a)\n",
    "print(b)\n",
    "print(c)\n",
    "print(d)\n",
    "print(e)\n",
    "print(f)\n",
    "print(g)"
   ]
  },
  {
   "cell_type": "code",
   "execution_count": null,
   "metadata": {},
   "outputs": [],
   "source": []
  }
 ],
 "metadata": {
  "kernelspec": {
   "display_name": "Python 3",
   "language": "python",
   "name": "python3"
  },
  "language_info": {
   "codemirror_mode": {
    "name": "ipython",
    "version": 3
   },
   "file_extension": ".py",
   "mimetype": "text/x-python",
   "name": "python",
   "nbconvert_exporter": "python",
   "pygments_lexer": "ipython3",
   "version": "3.12.2"
  }
 },
 "nbformat": 4,
 "nbformat_minor": 2
}
