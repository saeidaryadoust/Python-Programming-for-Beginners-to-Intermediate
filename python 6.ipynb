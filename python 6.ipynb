{
 "cells": [
  {
   "cell_type": "markdown",
   "metadata": {},
   "source": [
    "# Dictionary"
   ]
  },
  {
   "cell_type": "code",
   "execution_count": 75,
   "metadata": {},
   "outputs": [
    {
     "name": "stdout",
     "output_type": "stream",
     "text": [
      "{'name': 'jack', 'family': 'jj', 'age': 25, 'city': 'Kermanshah'}\n",
      "len: 4\n",
      "<class 'dict'>\n"
     ]
    }
   ],
   "source": [
    "D1 = {\n",
    "    \"name\" : \"jack\",\n",
    "    \"family\" : \"jj\",\n",
    "    \"age\" : 25,\n",
    "    \"city\" : \"Kermanshah\"\n",
    "     }\n",
    "\n",
    "\n",
    "print(D1)\n",
    "print(\"len:\", len(D1))\n",
    "print(type(D1))"
   ]
  },
  {
   "cell_type": "code",
   "execution_count": 76,
   "metadata": {},
   "outputs": [
    {
     "name": "stdout",
     "output_type": "stream",
     "text": [
      "{'name': ['Rasoul', 'jj', 'Javad'], 'number': [16, 17, 14]}\n",
      "len: 2\n",
      "<class 'dict'>\n"
     ]
    }
   ],
   "source": [
    "name = [\"Rasoul\", \"jj\", \"Javad\"]\n",
    "number = [16, 17, 14]\n",
    "\n",
    "D2 = {\n",
    "    \"name\": name,\n",
    "    \"number\" : number\n",
    "}\n",
    "\n",
    "print(D2)\n",
    "print(\"len:\", len(D2))\n",
    "print(type(D2))"
   ]
  },
  {
   "cell_type": "code",
   "execution_count": 77,
   "metadata": {},
   "outputs": [
    {
     "name": "stdout",
     "output_type": "stream",
     "text": [
      "{'even': [0, 2, 4, 6, 8], 'odd': [1, 3, 5, 7, 9]}\n",
      "len: 2\n",
      "<class 'dict'>\n"
     ]
    }
   ],
   "source": [
    "even = [i for i in range(10) if i%2 == 0]\n",
    "odd = [i for i in range(10) if i%2 != 0]\n",
    "\n",
    "D2 = {\n",
    "    \"even\": even,\n",
    "    \"odd\": odd\n",
    "}\n",
    "\n",
    "print(D2)\n",
    "print(\"len:\", len(D2))\n",
    "print(type(D2))"
   ]
  },
  {
   "cell_type": "code",
   "execution_count": 78,
   "metadata": {},
   "outputs": [
    {
     "data": {
      "text/plain": [
       "4"
      ]
     },
     "execution_count": 78,
     "metadata": {},
     "output_type": "execute_result"
    }
   ],
   "source": [
    "Set = {2, 5, 8, 3}\n",
    "List = [\"Ali\", 5, [2, 8, 9], {2, 8, \"Reza\"}]\n",
    "Tuple = (\"python\", 19, 25)\n",
    "Dict = {\n",
    "    \"Course\": \n",
    "    {\n",
    "        \"Python\": [\"Ali\", \"Sina\", \"Mehran\", \"Bahar\"],\n",
    "        \"Java\": [\"Farhad\", \"Bahar\"]\n",
    "    }\n",
    "}\n",
    "\n",
    "D3 = {\n",
    "    \"Set\": Set,\n",
    "    \"List\": List,\n",
    "    \"Tuple\": Tuple,\n",
    "    \"Dict\": Dict\n",
    "}\n",
    "\n",
    "len(D3)"
   ]
  },
  {
   "cell_type": "code",
   "execution_count": 79,
   "metadata": {},
   "outputs": [
    {
     "data": {
      "text/plain": [
       "{'Set': {2, 3, 5, 8},\n",
       " 'List': ['Ali', 5, [2, 8, 9], {2, 8, 'Reza'}],\n",
       " 'Tuple': ('python', 19, 25),\n",
       " 'Dict': {'Course': {'Python': ['Ali', 'Sina', 'Mehran', 'Bahar'],\n",
       "   'Java': ['Farhad', 'Bahar']}}}"
      ]
     },
     "execution_count": 79,
     "metadata": {},
     "output_type": "execute_result"
    }
   ],
   "source": [
    "D3"
   ]
  },
  {
   "cell_type": "code",
   "execution_count": 80,
   "metadata": {},
   "outputs": [
    {
     "name": "stdout",
     "output_type": "stream",
     "text": [
      "{'course': 'python', 'teacher': 'Ali', 'Id': 332, 'single': True, 'gmail': 'as@gmail.com'}\n",
      "len: 5\n",
      "<class 'dict'>\n"
     ]
    }
   ],
   "source": [
    "D3 = dict(course= \"python\", teacher= \"Ali\", Id= 332, single= True, gmail= \"as@gmail.com\")\n",
    "\n",
    "print(D3)\n",
    "print(\"len:\", len(D3))\n",
    "print(type(D3))"
   ]
  },
  {
   "cell_type": "code",
   "execution_count": 81,
   "metadata": {},
   "outputs": [
    {
     "name": "stdout",
     "output_type": "stream",
     "text": [
      "<class 'dict'>\n",
      "<class 'set'>\n"
     ]
    }
   ],
   "source": [
    "Person1 = {}\n",
    "Person2 = {1}\n",
    "\n",
    "print(type(Person1))\n",
    "print(type(Person2))"
   ]
  },
  {
   "cell_type": "code",
   "execution_count": 82,
   "metadata": {},
   "outputs": [
    {
     "data": {
      "text/plain": [
       "dict"
      ]
     },
     "execution_count": 82,
     "metadata": {},
     "output_type": "execute_result"
    }
   ],
   "source": [
    "Person = {}\n",
    "\n",
    "Person[\"name\"] = \"jack\"\n",
    "Person[\"family\"] = \"jj\"\n",
    "Person[\"age\"] = 25\n",
    "Person[\"Course\"] = [\"Python\", \"C#\", \"Matlab\"]\n",
    "Person[\"details\"] = {\n",
    "    \"City\": \"Tehran\",\n",
    "    \"Address\": \"Iran, Tehran, ...\"\n",
    "}\n",
    "\n",
    "type(Person)"
   ]
  },
  {
   "cell_type": "code",
   "execution_count": 83,
   "metadata": {},
   "outputs": [
    {
     "data": {
      "text/plain": [
       "{'name': 'jack',\n",
       " 'family': 'jj',\n",
       " 'age': 25,\n",
       " 'Course': ['Python', 'C#', 'Matlab'],\n",
       " 'details': {'City': 'Tehran', 'Address': 'Iran, Tehran, ...'}}"
      ]
     },
     "execution_count": 83,
     "metadata": {},
     "output_type": "execute_result"
    }
   ],
   "source": [
    "Person"
   ]
  },
  {
   "cell_type": "code",
   "execution_count": 84,
   "metadata": {},
   "outputs": [
    {
     "data": {
      "text/plain": [
       "{'course': 'python',\n",
       " 'teacher': 'Ali',\n",
       " 'Id': 332,\n",
       " 'single': True,\n",
       " 'gmail': 'as@gmail.com'}"
      ]
     },
     "execution_count": 84,
     "metadata": {},
     "output_type": "execute_result"
    }
   ],
   "source": [
    "D3"
   ]
  },
  {
   "cell_type": "code",
   "execution_count": 85,
   "metadata": {},
   "outputs": [
    {
     "name": "stdout",
     "output_type": "stream",
     "text": [
      "course\n",
      "teacher\n",
      "Id\n",
      "single\n",
      "gmail\n"
     ]
    }
   ],
   "source": [
    "for key in D3.keys():\n",
    "    print(key)"
   ]
  },
  {
   "cell_type": "code",
   "execution_count": 86,
   "metadata": {},
   "outputs": [
    {
     "data": {
      "text/plain": [
       "dict_keys(['course', 'teacher', 'Id', 'single', 'gmail'])"
      ]
     },
     "execution_count": 86,
     "metadata": {},
     "output_type": "execute_result"
    }
   ],
   "source": [
    "D3.keys()"
   ]
  },
  {
   "cell_type": "code",
   "execution_count": 87,
   "metadata": {},
   "outputs": [
    {
     "name": "stdout",
     "output_type": "stream",
     "text": [
      "python\n",
      "Ali\n",
      "332\n",
      "True\n",
      "as@gmail.com\n"
     ]
    }
   ],
   "source": [
    "for value in D3.values():\n",
    "    print(value)"
   ]
  },
  {
   "cell_type": "code",
   "execution_count": 88,
   "metadata": {},
   "outputs": [
    {
     "data": {
      "text/plain": [
       "dict_values(['python', 'Ali', 332, True, 'as@gmail.com'])"
      ]
     },
     "execution_count": 88,
     "metadata": {},
     "output_type": "execute_result"
    }
   ],
   "source": [
    "D3.values()"
   ]
  },
  {
   "cell_type": "code",
   "execution_count": 89,
   "metadata": {},
   "outputs": [
    {
     "name": "stdout",
     "output_type": "stream",
     "text": [
      "course : python\n",
      "teacher : Ali\n",
      "Id : 332\n",
      "single : True\n",
      "gmail : as@gmail.com\n"
     ]
    }
   ],
   "source": [
    "for key, value in D3.items(): \n",
    "    print(key ,\":\", value)"
   ]
  },
  {
   "cell_type": "code",
   "execution_count": 90,
   "metadata": {},
   "outputs": [],
   "source": [
    "x = []\n",
    "y = []\n",
    "\n",
    "for key, value in D3.items(): \n",
    "    x.append(key)\n",
    "    y.append(value)"
   ]
  },
  {
   "cell_type": "code",
   "execution_count": 91,
   "metadata": {},
   "outputs": [
    {
     "name": "stdout",
     "output_type": "stream",
     "text": [
      "['course', 'teacher', 'Id', 'single', 'gmail']\n",
      "['python', 'Ali', 332, True, 'as@gmail.com']\n"
     ]
    }
   ],
   "source": [
    "print(x)\n",
    "print(y)"
   ]
  },
  {
   "cell_type": "code",
   "execution_count": 92,
   "metadata": {},
   "outputs": [
    {
     "data": {
      "text/plain": [
       "dict_items([('course', 'python'), ('teacher', 'Ali'), ('Id', 332), ('single', True), ('gmail', 'as@gmail.com')])"
      ]
     },
     "execution_count": 92,
     "metadata": {},
     "output_type": "execute_result"
    }
   ],
   "source": [
    "D3.items()"
   ]
  },
  {
   "cell_type": "code",
   "execution_count": 93,
   "metadata": {},
   "outputs": [
    {
     "name": "stdout",
     "output_type": "stream",
     "text": [
      "<class 'dict'>\n",
      "<class 'dict'>\n"
     ]
    }
   ],
   "source": [
    "D4 = D3\n",
    "D5 = D3.copy()\n",
    "\n",
    "print(type(D4))\n",
    "print(type(D5))"
   ]
  },
  {
   "cell_type": "code",
   "execution_count": 94,
   "metadata": {},
   "outputs": [
    {
     "name": "stdout",
     "output_type": "stream",
     "text": [
      "D3:  {}\n",
      "D5:  {'course': 'python', 'teacher': 'Ali', 'Id': 332, 'single': True, 'gmail': 'as@gmail.com'}\n"
     ]
    }
   ],
   "source": [
    "D3.clear()\n",
    "\n",
    "print(\"D3: \", D3)\n",
    "print(\"D5: \", D5)"
   ]
  },
  {
   "cell_type": "code",
   "execution_count": 95,
   "metadata": {},
   "outputs": [],
   "source": [
    "del D3"
   ]
  },
  {
   "cell_type": "code",
   "execution_count": 96,
   "metadata": {},
   "outputs": [],
   "source": [
    "# D3"
   ]
  },
  {
   "cell_type": "code",
   "execution_count": 97,
   "metadata": {},
   "outputs": [
    {
     "data": {
      "text/plain": [
       "{'course': 'python',\n",
       " 'teacher': 'Ali',\n",
       " 'Id': 332,\n",
       " 'single': True,\n",
       " 'gmail': 'as@gmail.com'}"
      ]
     },
     "execution_count": 97,
     "metadata": {},
     "output_type": "execute_result"
    }
   ],
   "source": [
    "D5"
   ]
  },
  {
   "cell_type": "code",
   "execution_count": 98,
   "metadata": {},
   "outputs": [
    {
     "data": {
      "text/plain": [
       "'Ali'"
      ]
     },
     "execution_count": 98,
     "metadata": {},
     "output_type": "execute_result"
    }
   ],
   "source": [
    "D5.get('teacher')"
   ]
  },
  {
   "cell_type": "code",
   "execution_count": 99,
   "metadata": {},
   "outputs": [
    {
     "data": {
      "text/plain": [
       "'Ali'"
      ]
     },
     "execution_count": 99,
     "metadata": {},
     "output_type": "execute_result"
    }
   ],
   "source": [
    "D5['teacher']"
   ]
  },
  {
   "cell_type": "code",
   "execution_count": 100,
   "metadata": {},
   "outputs": [
    {
     "data": {
      "text/plain": [
       "{'teacher': 'Ali', 'Id': 332, 'single': True, 'gmail': 'as@gmail.com'}"
      ]
     },
     "execution_count": 100,
     "metadata": {},
     "output_type": "execute_result"
    }
   ],
   "source": [
    "D5.pop('course')\n",
    "D5"
   ]
  },
  {
   "cell_type": "code",
   "execution_count": 101,
   "metadata": {},
   "outputs": [
    {
     "data": {
      "text/plain": [
       "{'teacher': 'Ali', 'Id': 332, 'single': True}"
      ]
     },
     "execution_count": 101,
     "metadata": {},
     "output_type": "execute_result"
    }
   ],
   "source": [
    "D5.popitem()\n",
    "D5"
   ]
  },
  {
   "cell_type": "code",
   "execution_count": 102,
   "metadata": {},
   "outputs": [
    {
     "data": {
      "text/plain": [
       "True"
      ]
     },
     "execution_count": 102,
     "metadata": {},
     "output_type": "execute_result"
    }
   ],
   "source": [
    "'teacher' in D5"
   ]
  },
  {
   "cell_type": "code",
   "execution_count": 103,
   "metadata": {},
   "outputs": [
    {
     "data": {
      "text/plain": [
       "True"
      ]
     },
     "execution_count": 103,
     "metadata": {},
     "output_type": "execute_result"
    }
   ],
   "source": [
    "'teacher' in D5.keys()"
   ]
  },
  {
   "cell_type": "code",
   "execution_count": 104,
   "metadata": {},
   "outputs": [
    {
     "data": {
      "text/plain": [
       "False"
      ]
     },
     "execution_count": 104,
     "metadata": {},
     "output_type": "execute_result"
    }
   ],
   "source": [
    "'Ali' in D5"
   ]
  },
  {
   "cell_type": "code",
   "execution_count": 105,
   "metadata": {},
   "outputs": [
    {
     "data": {
      "text/plain": [
       "True"
      ]
     },
     "execution_count": 105,
     "metadata": {},
     "output_type": "execute_result"
    }
   ],
   "source": [
    "'Ali' in D5.values()"
   ]
  },
  {
   "cell_type": "code",
   "execution_count": 106,
   "metadata": {},
   "outputs": [
    {
     "data": {
      "text/plain": [
       "{'teacher': 'Ali', 'Id': 332, 'single': True}"
      ]
     },
     "execution_count": 106,
     "metadata": {},
     "output_type": "execute_result"
    }
   ],
   "source": [
    "D5"
   ]
  },
  {
   "cell_type": "code",
   "execution_count": 107,
   "metadata": {},
   "outputs": [
    {
     "data": {
      "text/plain": [
       "{'gmail': 'computer.engineer.as@gmail.com',\n",
       " 'name': 'jack',\n",
       " 'family': 'jj',\n",
       " 'age': 25,\n",
       " 'city': 'Kermanshah'}"
      ]
     },
     "execution_count": 107,
     "metadata": {},
     "output_type": "execute_result"
    }
   ],
   "source": [
    "D6 = {\n",
    "    \"gmail\": \"computer.engineer.as@gmail.com\"\n",
    "}\n",
    "\n",
    "D6.update(D1)\n",
    "D6"
   ]
  },
  {
   "cell_type": "code",
   "execution_count": 108,
   "metadata": {},
   "outputs": [
    {
     "data": {
      "text/plain": [
       "{}"
      ]
     },
     "execution_count": 108,
     "metadata": {},
     "output_type": "execute_result"
    }
   ],
   "source": [
    "D6.clear()\n",
    "D6"
   ]
  },
  {
   "cell_type": "code",
   "execution_count": 109,
   "metadata": {},
   "outputs": [
    {
     "data": {
      "text/plain": [
       "{'gmail': 'as@gmail.com',\n",
       " 'name': 'jack',\n",
       " 'age': 25,\n",
       " 'family': 'jj',\n",
       " 'city': 'Kermanshah'}"
      ]
     },
     "execution_count": 109,
     "metadata": {},
     "output_type": "execute_result"
    }
   ],
   "source": [
    "D6 = {\n",
    "    'gmail': \"as@gmail.com\",\n",
    "    'name': \"Rasoul\",\n",
    "    'age': 26\n",
    "}\n",
    "\n",
    "D6.update(D1)\n",
    "D6"
   ]
  },
  {
   "cell_type": "code",
   "execution_count": 110,
   "metadata": {},
   "outputs": [
    {
     "data": {
      "text/plain": [
       "{0: 'even',\n",
       " 1: 'odd',\n",
       " 2: 'even',\n",
       " 3: 'odd',\n",
       " 4: 'even',\n",
       " 5: 'odd',\n",
       " 6: 'even',\n",
       " 7: 'odd',\n",
       " 8: 'even',\n",
       " 9: 'odd'}"
      ]
     },
     "execution_count": 110,
     "metadata": {},
     "output_type": "execute_result"
    }
   ],
   "source": [
    "D7 = {i: (\"even\" if i % 2 == 0 else \"odd\") for i in range(10)}\n",
    "D7"
   ]
  },
  {
   "cell_type": "code",
   "execution_count": 111,
   "metadata": {},
   "outputs": [
    {
     "data": {
      "text/plain": [
       "{'id': 664, 'age': 50, 'number': 246}"
      ]
     },
     "execution_count": 111,
     "metadata": {},
     "output_type": "execute_result"
    }
   ],
   "source": [
    "D7 = {\n",
    "    \"id\": 332,\n",
    "    \"age\": 25,\n",
    "    \"number\": 123\n",
    "}\n",
    "\n",
    "D8 = {key: value*2 for key, value in D7.items()}\n",
    "D8"
   ]
  },
  {
   "cell_type": "code",
   "execution_count": 112,
   "metadata": {},
   "outputs": [],
   "source": [
    "Python = {\n",
    "    \"Teacher\":\n",
    "    {\n",
    "        \"Name\": \"jack\",\n",
    "        \"Family\": \"jj\",\n",
    "        \"Age\": 25,\n",
    "        \"Gmail\": \"as@gmail.com\"\n",
    "    },\n",
    "    \n",
    "    \"chapter\":\n",
    "    {\n",
    "        \"chapter1\": \"معرفی زبان پایتون و محیط های برنامه نویسی\", \n",
    "        \"chapter2\": \"عملگرها، رشته ها و ریاضیات\",\n",
    "        \"chapter3\": \"حلقه ها و دستورات شرطی\" ,\n",
    "        \"chapter4\": \"set - مجموعه ها\",\n",
    "        \"chapter5\": \"list - لیست ها\",\n",
    "        \"chapter6\": \"tuple - تاپل ها\",\n",
    "        \"chapter7\": \"dictionary - دیکشتری ها\",\n",
    "    },\n",
    "    \n",
    "    \"Students\":\n",
    "    {\n",
    "        \"name\": [\"Reza\", \"Afarin\", \"Mehrnoush\", \"Sina\"],\n",
    "        \"number\": [18, 20, 19, 19]\n",
    "    },\n",
    "    \n",
    "    \"Score\": 20\n",
    "}"
   ]
  },
  {
   "cell_type": "code",
   "execution_count": 113,
   "metadata": {},
   "outputs": [
    {
     "data": {
      "text/plain": [
       "4"
      ]
     },
     "execution_count": 113,
     "metadata": {},
     "output_type": "execute_result"
    }
   ],
   "source": [
    "len(Python)"
   ]
  },
  {
   "cell_type": "code",
   "execution_count": 114,
   "metadata": {},
   "outputs": [
    {
     "data": {
      "text/plain": [
       "dict_keys(['Teacher', 'chapter', 'Students', 'Score'])"
      ]
     },
     "execution_count": 114,
     "metadata": {},
     "output_type": "execute_result"
    }
   ],
   "source": [
    "Python.keys()"
   ]
  },
  {
   "cell_type": "code",
   "execution_count": 115,
   "metadata": {},
   "outputs": [
    {
     "name": "stdout",
     "output_type": "stream",
     "text": [
      "{'Name': 'jack', 'Family': 'jj', 'Age': 25, 'Gmail': 'as@gmail.com'}\n",
      "{'chapter1': 'معرفی زبان پایتون و محیط های برنامه نویسی', 'chapter2': 'عملگرها، رشته ها و ریاضیات', 'chapter3': 'حلقه ها و دستورات شرطی', 'chapter4': 'set - مجموعه ها', 'chapter5': 'list - لیست ها', 'chapter6': 'tuple - تاپل ها', 'chapter7': 'dictionary - دیکشتری ها'}\n",
      "{'name': ['Reza', 'Afarin', 'Mehrnoush', 'Sina'], 'number': [18, 20, 19, 19]}\n",
      "20\n"
     ]
    }
   ],
   "source": [
    "for value in Python.values():\n",
    "    print(value)"
   ]
  },
  {
   "cell_type": "code",
   "execution_count": 116,
   "metadata": {},
   "outputs": [
    {
     "data": {
      "text/plain": [
       "{'Name': 'jack', 'Family': 'jj', 'Age': 25, 'Gmail': 'as@gmail.com'}"
      ]
     },
     "execution_count": 116,
     "metadata": {},
     "output_type": "execute_result"
    }
   ],
   "source": [
    "Python[\"Teacher\"]"
   ]
  },
  {
   "cell_type": "code",
   "execution_count": 117,
   "metadata": {},
   "outputs": [
    {
     "data": {
      "text/plain": [
       "'as@gmail.com'"
      ]
     },
     "execution_count": 117,
     "metadata": {},
     "output_type": "execute_result"
    }
   ],
   "source": [
    "Python[\"Teacher\"][\"Gmail\"]"
   ]
  },
  {
   "cell_type": "code",
   "execution_count": 118,
   "metadata": {},
   "outputs": [
    {
     "data": {
      "text/plain": [
       "{'name': ['Reza', 'Afarin', 'Mehrnoush', 'Sina'], 'number': [18, 20, 19, 19]}"
      ]
     },
     "execution_count": 118,
     "metadata": {},
     "output_type": "execute_result"
    }
   ],
   "source": [
    "Python[\"Students\"]"
   ]
  },
  {
   "cell_type": "code",
   "execution_count": 119,
   "metadata": {},
   "outputs": [
    {
     "data": {
      "text/plain": [
       "[18, 20, 19, 19]"
      ]
     },
     "execution_count": 119,
     "metadata": {},
     "output_type": "execute_result"
    }
   ],
   "source": [
    "Python[\"Students\"][\"number\"]"
   ]
  },
  {
   "cell_type": "code",
   "execution_count": 120,
   "metadata": {},
   "outputs": [
    {
     "data": {
      "text/plain": [
       "20"
      ]
     },
     "execution_count": 120,
     "metadata": {},
     "output_type": "execute_result"
    }
   ],
   "source": [
    "Python[\"Students\"][\"number\"][1]"
   ]
  },
  {
   "cell_type": "code",
   "execution_count": 121,
   "metadata": {},
   "outputs": [
    {
     "data": {
      "text/plain": [
       "False"
      ]
     },
     "execution_count": 121,
     "metadata": {},
     "output_type": "execute_result"
    }
   ],
   "source": [
    "Python[\"Students\"][\"number\"][0] == 56"
   ]
  },
  {
   "cell_type": "code",
   "execution_count": 122,
   "metadata": {},
   "outputs": [
    {
     "data": {
      "text/plain": [
       "['Reza', 'Afarin', 'Mehrnoush', 'Sina']"
      ]
     },
     "execution_count": 122,
     "metadata": {},
     "output_type": "execute_result"
    }
   ],
   "source": [
    "Python[\"Students\"][\"name\"]"
   ]
  },
  {
   "cell_type": "code",
   "execution_count": 123,
   "metadata": {},
   "outputs": [
    {
     "data": {
      "text/plain": [
       "'Afarin'"
      ]
     },
     "execution_count": 123,
     "metadata": {},
     "output_type": "execute_result"
    }
   ],
   "source": [
    "Python[\"Students\"][\"name\"][1]"
   ]
  },
  {
   "cell_type": "code",
   "execution_count": 124,
   "metadata": {},
   "outputs": [
    {
     "data": {
      "text/plain": [
       "True"
      ]
     },
     "execution_count": 124,
     "metadata": {},
     "output_type": "execute_result"
    }
   ],
   "source": [
    "\"Afarin\" in Python[\"Students\"][\"name\"]"
   ]
  },
  {
   "cell_type": "code",
   "execution_count": 125,
   "metadata": {},
   "outputs": [
    {
     "data": {
      "text/plain": [
       "['Ali', 'Javad', 'Bahar', 'Mehran']"
      ]
     },
     "execution_count": 125,
     "metadata": {},
     "output_type": "execute_result"
    }
   ],
   "source": [
    "Python[\"Students\"][\"name\"] = [\"Ali\", \"Javad\", \"Bahar\", \"Mehran\"]\n",
    "Python[\"Students\"][\"name\"]"
   ]
  },
  {
   "cell_type": "code",
   "execution_count": 126,
   "metadata": {},
   "outputs": [
    {
     "data": {
      "text/plain": [
       "100"
      ]
     },
     "execution_count": 126,
     "metadata": {},
     "output_type": "execute_result"
    }
   ],
   "source": [
    "Python[\"Students\"][\"number\"][0] = 100\n",
    "Python[\"Students\"][\"number\"][0]"
   ]
  },
  {
   "cell_type": "code",
   "execution_count": 127,
   "metadata": {},
   "outputs": [
    {
     "name": "stdout",
     "output_type": "stream",
     "text": [
      "Help on built-in function fromkeys:\n",
      "\n",
      "fromkeys(iterable, value=None, /) method of builtins.type instance\n",
      "    Create a new dictionary with keys from iterable and values set to value.\n",
      "\n"
     ]
    }
   ],
   "source": [
    "help(Python.fromkeys)"
   ]
  },
  {
   "cell_type": "code",
   "execution_count": 128,
   "metadata": {},
   "outputs": [
    {
     "name": "stdout",
     "output_type": "stream",
     "text": [
      "Help on built-in function setdefault:\n",
      "\n",
      "setdefault(key, default=None, /) method of builtins.dict instance\n",
      "    Insert key with a value of default if key is not in the dictionary.\n",
      "\n",
      "    Return the value for key if key is in the dictionary, else default.\n",
      "\n"
     ]
    }
   ],
   "source": [
    "help(Python.setdefault)"
   ]
  }
 ],
 "metadata": {
  "kernelspec": {
   "display_name": "Python 3",
   "language": "python",
   "name": "python3"
  },
  "language_info": {
   "codemirror_mode": {
    "name": "ipython",
    "version": 3
   },
   "file_extension": ".py",
   "mimetype": "text/x-python",
   "name": "python",
   "nbconvert_exporter": "python",
   "pygments_lexer": "ipython3",
   "version": "3.12.2"
  }
 },
 "nbformat": 4,
 "nbformat_minor": 2
}
