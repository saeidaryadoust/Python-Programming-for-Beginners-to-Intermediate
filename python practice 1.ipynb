{
 "cells": [
  {
   "cell_type": "markdown",
   "metadata": {},
   "source": [
    "# Session_2_1"
   ]
  },
  {
   "cell_type": "markdown",
   "metadata": {},
   "source": [
    "# Practice 1"
   ]
  },
  {
   "cell_type": "code",
   "execution_count": 7,
   "metadata": {},
   "outputs": [
    {
     "name": "stdout",
     "output_type": "stream",
     "text": [
      "NOT 0 = True\n",
      "NOT 1 = False\n"
     ]
    }
   ],
   "source": [
    "# NOT\n",
    "print(f\"NOT 0 = {not 0}\")\n",
    "print(f\"NOT 1 = {not 1}\")"
   ]
  },
  {
   "cell_type": "code",
   "execution_count": 9,
   "metadata": {},
   "outputs": [
    {
     "name": "stdout",
     "output_type": "stream",
     "text": [
      " 0 AND 0 = 0\n",
      " 0 AND 1 = 0\n",
      " 1 AND 0 = 0\n",
      " 1 AND 1 = 1\n"
     ]
    }
   ],
   "source": [
    "# AND\n",
    "print(f\" 0 AND 0 = {0 & 0}\")\n",
    "print(f\" 0 AND 1 = {0 & 1}\")\n",
    "print(f\" 1 AND 0 = {1 & 0}\")\n",
    "print(f\" 1 AND 1 = {1 & 1}\")"
   ]
  },
  {
   "cell_type": "code",
   "execution_count": 10,
   "metadata": {},
   "outputs": [
    {
     "name": "stdout",
     "output_type": "stream",
     "text": [
      " 0 NAND 0 = True\n",
      " 0 NAND 1 = True\n",
      " 1 NAND 0 = True\n",
      " 1 NAND 1 = False\n"
     ]
    }
   ],
   "source": [
    "# NAND\n",
    "print(f\" 0 NAND 0 = {not (0 & 0)}\")\n",
    "print(f\" 0 NAND 1 = {not (0 & 1)}\")\n",
    "print(f\" 1 NAND 0 = {not (1 & 0)}\")\n",
    "print(f\" 1 NAND 1 = {not (1 & 1)}\")"
   ]
  },
  {
   "cell_type": "code",
   "execution_count": 11,
   "metadata": {},
   "outputs": [
    {
     "name": "stdout",
     "output_type": "stream",
     "text": [
      " 0 OR 0 = 0\n",
      " 0 OR 1 = 1\n",
      " 1 OR 0 = 1\n",
      " 1 PR 1 = 1\n"
     ]
    }
   ],
   "source": [
    "# OR\n",
    "print(f\" 0 OR 0 = {0 | 0}\")\n",
    "print(f\" 0 OR 1 = {0 | 1}\")\n",
    "print(f\" 1 OR 0 = {1 | 0}\")\n",
    "print(f\" 1 PR 1 = {1 | 1}\")"
   ]
  },
  {
   "cell_type": "code",
   "execution_count": 12,
   "metadata": {},
   "outputs": [
    {
     "name": "stdout",
     "output_type": "stream",
     "text": [
      " 0 NOR 0 = True\n",
      " 0 NOR 1 = False\n",
      " 1 NOR 0 = False\n",
      " 1 NOR 1 = False\n"
     ]
    }
   ],
   "source": [
    "# NOR\n",
    "print(f\" 0 NOR 0 = {not (0 | 0)}\")\n",
    "print(f\" 0 NOR 1 = {not (0 | 1)}\")\n",
    "print(f\" 1 NOR 0 = {not (1 | 0)}\")\n",
    "print(f\" 1 NOR 1 = {not (1 | 1)}\")"
   ]
  },
  {
   "cell_type": "code",
   "execution_count": 13,
   "metadata": {},
   "outputs": [
    {
     "name": "stdout",
     "output_type": "stream",
     "text": [
      " 0 XOR 0 = 0\n",
      " 0 XOR 1 = 1\n",
      " 1 XOR 0 = 1\n",
      " 1 XOR 1 = 0\n"
     ]
    }
   ],
   "source": [
    "# XOR\n",
    "print(f\" 0 XOR 0 = {0 ^ 0}\")\n",
    "print(f\" 0 XOR 1 = {0 ^ 1}\")\n",
    "print(f\" 1 XOR 0 = {1 ^ 0}\")\n",
    "print(f\" 1 XOR 1 = {1 ^ 1}\")"
   ]
  },
  {
   "cell_type": "code",
   "execution_count": 14,
   "metadata": {},
   "outputs": [
    {
     "name": "stdout",
     "output_type": "stream",
     "text": [
      " 0 XOR 0 = True\n",
      " 0 XOR 1 = False\n",
      " 1 XOR 0 = False\n",
      " 1 XOR 1 = True\n"
     ]
    }
   ],
   "source": [
    "# XOR\n",
    "print(f\" 0 XOR 0 = {0 == 0}\")\n",
    "print(f\" 0 XOR 1 = {0 == 1}\")\n",
    "print(f\" 1 XOR 0 = {1 == 0}\")\n",
    "print(f\" 1 XOR 1 = {1 == 1}\")"
   ]
  },
  {
   "cell_type": "code",
   "execution_count": 15,
   "metadata": {},
   "outputs": [
    {
     "name": "stdout",
     "output_type": "stream",
     "text": [
      " 0 XNOR 0 = False\n",
      " 0 XNOR 1 = True\n",
      " 1 XNOR 0 = True\n",
      " 1 XNOR 1 = False\n"
     ]
    }
   ],
   "source": [
    "# XNOR\n",
    "print(f\" 0 XNOR 0 = {not (0 == 0)}\")\n",
    "print(f\" 0 XNOR 1 = {not (0 == 1)}\")\n",
    "print(f\" 1 XNOR 0 = {not (1 == 0)}\")\n",
    "print(f\" 1 XNOR 1 = {not (1 == 1)}\")"
   ]
  },
  {
   "cell_type": "markdown",
   "metadata": {},
   "source": [
    "# Practice 2"
   ]
  },
  {
   "cell_type": "code",
   "execution_count": 17,
   "metadata": {},
   "outputs": [
    {
     "data": {
      "text/plain": [
       "1"
      ]
     },
     "execution_count": 17,
     "metadata": {},
     "output_type": "execute_result"
    }
   ],
   "source": [
    "a = 0\n",
    "b = 0\n",
    "\n",
    "x = a & b\n",
    "y = (not a) & (not b)\n",
    "z = x | y\n",
    "z"
   ]
  },
  {
   "cell_type": "markdown",
   "metadata": {},
   "source": [
    "# Practice 3"
   ]
  },
  {
   "cell_type": "code",
   "execution_count": 18,
   "metadata": {},
   "outputs": [
    {
     "data": {
      "text/plain": [
       "2.5"
      ]
     },
     "execution_count": 18,
     "metadata": {},
     "output_type": "execute_result"
    }
   ],
   "source": [
    "# 1/1! + 2/2! + 3/3!\n",
    "\n",
    "import math\n",
    "\n",
    "x = (1/math.factorial(1)) + (2/math.factorial(2)) + (3/math.factorial(3))\n",
    "x"
   ]
  },
  {
   "cell_type": "markdown",
   "metadata": {},
   "source": [
    "# Practice 4"
   ]
  },
  {
   "cell_type": "code",
   "execution_count": 19,
   "metadata": {},
   "outputs": [
    {
     "data": {
      "text/plain": [
       "2.9047375096555625"
      ]
     },
     "execution_count": 19,
     "metadata": {},
     "output_type": "execute_result"
    }
   ],
   "source": [
    "a = 2\n",
    "b = 4\n",
    "c = 3\n",
    "\n",
    "p = (a + b + c) / 2\n",
    "area = math.sqrt(p *(p-a) * (p-b) * (p-c))\n",
    "area"
   ]
  },
  {
   "cell_type": "markdown",
   "metadata": {},
   "source": [
    "# Practice 5"
   ]
  },
  {
   "cell_type": "code",
   "execution_count": 20,
   "metadata": {},
   "outputs": [
    {
     "data": {
      "text/plain": [
       "8.0"
      ]
     },
     "execution_count": 20,
     "metadata": {},
     "output_type": "execute_result"
    }
   ],
   "source": [
    "x = 8\n",
    "a,b,c,d = 0,10,0, 10\n",
    "Result =  ((x-a)/(b-a)) * ((d-c) + c)\n",
    "Result"
   ]
  },
  {
   "cell_type": "markdown",
   "metadata": {},
   "source": [
    "# Practice 6"
   ]
  },
  {
   "cell_type": "code",
   "execution_count": 21,
   "metadata": {},
   "outputs": [
    {
     "data": {
      "text/plain": [
       "1"
      ]
     },
     "execution_count": 21,
     "metadata": {},
     "output_type": "execute_result"
    }
   ],
   "source": [
    "# a = b\n",
    "# c = ?\n",
    "\n",
    "#1 = 1000\n",
    "#1.5 = ?\n",
    "\n",
    "a = 1\n",
    "b = 1000\n",
    "c = 1.5\n",
    "\n",
    "Result = (b*c) / a\n",
    "\n",
    "Result\n",
    "\n",
    "#3 = 8\n",
    "#12 = ?\n",
    "a,b,c = 3,8,12\n",
    "\n",
    "Result = (b*c) / a\n",
    "Result\n",
    "\n",
    "1"
   ]
  },
  {
   "cell_type": "markdown",
   "metadata": {},
   "source": [
    "# Practice 7"
   ]
  },
  {
   "cell_type": "code",
   "execution_count": 22,
   "metadata": {},
   "outputs": [
    {
     "name": "stdout",
     "output_type": "stream",
     "text": [
      "Irancell: True\n",
      "IR_MCI: False\n",
      "Ritell: False\n"
     ]
    }
   ],
   "source": [
    "Phone = \"09331367233\"\n",
    "Irancell = Phone[0:3] == \"093\"\n",
    "IR_MCI = Phone[0:3] == \"091\"\n",
    "Ritell = Phone[0:3] == \"090\"\n",
    "\n",
    "print(f\"Irancell: {Irancell}\")\n",
    "print(f\"IR_MCI: {IR_MCI}\")\n",
    "print(f\"Ritell: {Ritell}\")"
   ]
  },
  {
   "cell_type": "markdown",
   "metadata": {},
   "source": [
    "# Practice 8"
   ]
  },
  {
   "cell_type": "code",
   "execution_count": 38,
   "metadata": {},
   "outputs": [
    {
     "data": {
      "text/plain": [
       "['زبان پایتون یکی از قوی ترین زبان های برنامه نویسی است',\n",
       " ' در سال های گذشته رشد بسیار زیادی داشته است و افراد زیادی خواهان یادگیری آن هستند',\n",
       " ' یکی از مهم ترین مزیت های پایتون سادگی آن است',\n",
       " ' یعنی شما می توانید الگوریتم های مختلف رابه راحتی در این زبان پیاده سازی کنید',\n",
       " '']"
      ]
     },
     "execution_count": 38,
     "metadata": {},
     "output_type": "execute_result"
    }
   ],
   "source": [
    "text = '''\n",
    "زبان پایتون یکی از قوی ترین زبان های برنامه نویسی است. در سال های گذشته رشد بسیار زیادی داشته است و افراد زیادی \n",
    "خواهان یادگیری آن هستند. یکی از مهم ترین مزیت های پایتون سادگی آن است. یعنی شما می توانید الگوریتم های مختلف را\n",
    "به راحتی در این زبان پیاده سازی کنید.\n",
    "'''\n",
    "text = text.replace(\"\\n\", '')\n",
    "text.split('.')"
   ]
  }
 ],
 "metadata": {
  "kernelspec": {
   "display_name": "Python 3",
   "language": "python",
   "name": "python3"
  },
  "language_info": {
   "codemirror_mode": {
    "name": "ipython",
    "version": 3
   },
   "file_extension": ".py",
   "mimetype": "text/x-python",
   "name": "python",
   "nbconvert_exporter": "python",
   "pygments_lexer": "ipython3",
   "version": "3.8.8"
  }
 },
 "nbformat": 4,
 "nbformat_minor": 2
}
