{
 "cells": [
  {
   "cell_type": "markdown",
   "metadata": {},
   "source": [
    "# Practice 1: ذخیره داده های درون دیکشنری در داده ساختارهای مختلف"
   ]
  },
  {
   "cell_type": "code",
   "execution_count": 1,
   "metadata": {},
   "outputs": [
    {
     "data": {
      "text/plain": [
       "5"
      ]
     },
     "execution_count": 1,
     "metadata": {},
     "output_type": "execute_result"
    }
   ],
   "source": [
    "Students = {\n",
    "    \"name\": [\"Ali\", \"Mohsen\", \"Rasoul\", \"Bahar\", \"Zahra\"],\n",
    "    \"Course\": [\"Python\", \"C#\", \"Java\", \"Android\", \"Matlab\"],\n",
    "    \"number\": [18, 20, 16, 18, 17],\n",
    "    \n",
    "    \"details\":\n",
    "    {\n",
    "        \"Teacher\": [\"Sina\", \"Fatemeh\", \"Hana\", \"Nima\", \"Reza\"],\n",
    "        \"City\": [\"Kermanshah\", \"Kermanshah\", \"Ahvaz\", \"Tehran\", \"Karaj\"],\n",
    "    },\n",
    "    \n",
    "    \"score\": 'A'\n",
    "}\n",
    "\n",
    "len(Students)"
   ]
  },
  {
   "cell_type": "code",
   "execution_count": 7,
   "metadata": {},
   "outputs": [
    {
     "name": "stdout",
     "output_type": "stream",
     "text": [
      "name: {'Ali', 'Zahra', 'Rasoul', 'Mohsen', 'Bahar'},            type: <class 'set'>\n",
      "Course: ['Python', 'C#', 'Java', 'Android', 'Matlab'],          type: <class 'list'>\n",
      "number: (18, 20, 16, 18, 17),                                   type: <class 'tuple'>\n",
      "Teacher: ['Python', 'C#', 'Java', 'Android', 'Matlab'],         type: <class 'list'>\n",
      "City: ['Kermanshah', 'Kermanshah', 'Ahvaz', 'Tehran', 'Karaj'], type: <class 'list'>\n",
      "Group: A, type: <class 'str'>\n"
     ]
    }
   ],
   "source": [
    "Set_name = set(Students[\"name\"])\n",
    "List_Course = list(Students[\"Course\"])\n",
    "Tuple_number = tuple(Students[\"number\"])\n",
    "List_Teacher = list(Students[\"details\"][\"Teacher\"])\n",
    "List_City = list(Students[\"details\"][\"City\"])\n",
    "Str_Group = str(Students[\"score\"])\n",
    "\n",
    "print(f\"name: {Set_name},            type: {type(Set_name)}\")\n",
    "print(f\"Course: {List_Course},          type: {type(List_Course)}\")\n",
    "print(f\"number: {Tuple_number},                                   type: {type(Tuple_number)}\")\n",
    "print(f\"Teacher: {List_Course},         type: {type(List_Teacher)}\")\n",
    "print(f\"City: {List_City}, type: {type(List_City)}\")\n",
    "print(f\"Group: {Str_Group}, type: {type(Str_Group)}\")"
   ]
  },
  {
   "cell_type": "code",
   "execution_count": 3,
   "metadata": {},
   "outputs": [
    {
     "data": {
      "text/plain": [
       "17.8"
      ]
     },
     "execution_count": 3,
     "metadata": {},
     "output_type": "execute_result"
    }
   ],
   "source": [
    "sum(Tuple_number) / len(Tuple_number)"
   ]
  },
  {
   "cell_type": "code",
   "execution_count": 4,
   "metadata": {},
   "outputs": [
    {
     "name": "stdout",
     "output_type": "stream",
     "text": [
      "16\n",
      "20\n"
     ]
    }
   ],
   "source": [
    "print(min(Tuple_number))\n",
    "print(max(Tuple_number))"
   ]
  },
  {
   "cell_type": "code",
   "execution_count": 5,
   "metadata": {},
   "outputs": [
    {
     "name": "stdout",
     "output_type": "stream",
     "text": [
      "Excellent\n"
     ]
    }
   ],
   "source": [
    "if Str_Group == \"A\":\n",
    "    print(\"Excellent\")\n",
    "    \n",
    "elif Str_Group == \"B\":\n",
    "    print(\"Good\")"
   ]
  },
  {
   "cell_type": "markdown",
   "metadata": {},
   "source": [
    "# Practice 2: جستجو متن درون یک دیکشنری"
   ]
  },
  {
   "cell_type": "code",
   "execution_count": 8,
   "metadata": {},
   "outputs": [],
   "source": [
    "Search = {\n",
    "    \"هوش مصنوعی\": [\"Artificial intelligence (AI) is intelligence demonstrated by machines, as opposed to the natural intelligence displayed by humans or animals.\",\n",
    "                   \"AI applications include advanced web search engines (i.e. Google), recommendation systems (used by YouTube, Amazon and Netflix), understanding human speech (such as Siri or Alexa), self-driving cars (e.g. Tesla)\",\n",
    "                   \"To become an AI engineer, you must learn math, programming and problem solving.\"],\n",
    "    \n",
    "    \"زیر شاخه های هوش مصنوعی\": [\"data mining\", \"machine learning\", \"deep learning\", \"expert system\", \"fuzzy logic\", \"ontological engineering\"],\n",
    "    \n",
    "    \"زبان های برنامه نویسی\" : [\"Python\", \"C++\", \"C#\", \"Java\", \"Matlab\", \"Prolog\", \"Lisp\"],\n",
    "    \n",
    "    \"یادگیری\": [\"paper\", \"book\", \"video\", \"self study\"]\n",
    "}"
   ]
  },
  {
   "cell_type": "code",
   "execution_count": 9,
   "metadata": {},
   "outputs": [
    {
     "name": "stdout",
     "output_type": "stream",
     "text": [
      "Search... هوش مصنوعی\n",
      "هوش مصنوعی \n",
      " ['Artificial intelligence (AI) is intelligence demonstrated by machines, as opposed to the natural intelligence displayed by humans or animals.', 'AI applications include advanced web search engines (i.e. Google), recommendation systems (used by YouTube, Amazon and Netflix), understanding human speech (such as Siri or Alexa), self-driving cars (e.g. Tesla)', 'To become an AI engineer, you must learn math, programming and problem solving.'] \n",
      "\n",
      "زیر شاخه های هوش مصنوعی \n",
      " ['data mining', 'machine learning', 'deep learning', 'expert system', 'fuzzy logic', 'ontological engineering'] \n",
      "\n"
     ]
    }
   ],
   "source": [
    "user = input(\"Search... \")\n",
    "\n",
    "\n",
    "for key, value in Search.items():\n",
    "    if user in key:\n",
    "        print(f\"{key} \\n {Search[key]} \\n\")"
   ]
  },
  {
   "cell_type": "markdown",
   "metadata": {},
   "source": [
    "# Practice 3: تشخیص بیماری کرونا از طریق سوال پرسیدن از فرد"
   ]
  },
  {
   "cell_type": "code",
   "execution_count": 10,
   "metadata": {},
   "outputs": [],
   "source": [
    "Covid_19 = {\n",
    "    \"بی حالی و ضعف\": [55, round(55/259, 2)],\n",
    "    \n",
    "    \"سر درد\": [53, round(53/259, 2)],\n",
    "    \n",
    "    \"تب\": [50, round(50/259, 2)],\n",
    "    \n",
    "    \"گلو درد\": [38, round(38/259, 2)],\n",
    "    \n",
    "    \"بی اشتهایی\": [35, round(35/259, 2)],\n",
    "    \n",
    "    \"مشکلات پوستی\": [15, round(15/259, 2)],\n",
    "    \n",
    "    \"اسهال\": [13, round(13/259, 2)],\n",
    "    \n",
    "    \"Test\": [\"نترس کرونا نداری اما مراقب خوبی هات باش\",\n",
    "             \"پروتکل های بهداشتی رو رعایت کن\",\n",
    "             \"زیاد از خانه بیرون نرو و سیستم ایمنی خودت را تقویت کن، اکر فکر کردی حالت بده برو دکتر\",\n",
    "             \"احتمال این که کرونا داشته باشی وجود داره اما قطعی نیست، در نتیجه تا حد امکان بیرون نرو و سیستم ایمنی بدنت رو قوی کن\",\n",
    "             \"متاسفانه اکثر نشانه های کرونا در شما وجود دار. اگر حالتان بد است سریعتر به پزشک مراجعه کنید در غیر این صورت در خانه بمانید و غذای مقوی بخورید\"]\n",
    "}"
   ]
  },
  {
   "cell_type": "code",
   "execution_count": 13,
   "metadata": {},
   "outputs": [
    {
     "name": "stdout",
     "output_type": "stream",
     "text": [
      " آیا احساس بیحالی می کنید؟ بله / خیر: بله\n",
      " آیا سر درد دارید؟ بله / خیر: خیر\n",
      " آیا تب دارید؟ بله / خیر: بله\n",
      " آیا حس می کنید که گلویتان درد می کند؟ بله / خیر: خیر\n",
      " آیا بی اشتها شده اید؟ بله / خیر: بله\n",
      " آیا دچار بیماری های پوستی شده اید؟ بله / خیر: خیر\n",
      " آیا به بیماری اسهال دچا شده اید؟ بله / خیر: بله\n"
     ]
    }
   ],
   "source": [
    "Answers = []\n",
    "\n",
    "Bihali = input(\" آیا احساس بیحالی می کنید؟ بله / خیر: \")\n",
    "if Bihali == \"بله\":\n",
    "    Answers.append(Covid_19[\"بی حالی و ضعف\"][1])\n",
    "    \n",
    "Sardard = input(\" آیا سر درد دارید؟ بله / خیر: \")\n",
    "if Sardard == \"بله\":\n",
    "    Answers.append(Covid_19[\"سر درد\"][1])\n",
    "\n",
    "Tab = input(\" آیا تب دارید؟ بله / خیر: \")\n",
    "if Tab == \"بله\":\n",
    "    Answers.append(Covid_19[\"تب\"][1])\n",
    "\n",
    "Gelodard = input(\" آیا حس می کنید که گلویتان درد می کند؟ بله / خیر: \")\n",
    "if Gelodard == \"بله\":\n",
    "    Answers.append(Covid_19[\"گلو درد\"][1])\n",
    "\n",
    "Bieshteha = input(\" آیا بی اشتها شده اید؟ بله / خیر: \")\n",
    "if Bieshteha == \"بله\":\n",
    "    Answers.append(Covid_19[\"بی اشتهایی\"][1])\n",
    "\n",
    "Post = input(\" آیا دچار بیماری های پوستی شده اید؟ بله / خیر: \")\n",
    "if Post == \"بله\":\n",
    "    Answers.append(Covid_19[\"مشکلات پوستی\"][1])\n",
    "\n",
    "Eshal = input(\" آیا به بیماری اسهال دچا شده اید؟ بله / خیر: \")\n",
    "if Eshal == \"بله\":\n",
    "    Answers.append(Covid_19[\"اسهال\"][1])"
   ]
  },
  {
   "cell_type": "code",
   "execution_count": 15,
   "metadata": {},
   "outputs": [
    {
     "name": "stdout",
     "output_type": "stream",
     "text": [
      "0.5900000000000001 : زیاد از خانه بیرون نرو و سیستم ایمنی خودت را تقویت کن، اکر فکر کردی حالت بده برو دکتر\n"
     ]
    }
   ],
   "source": [
    "if sum(Answers) >= 0 and sum(Answers) < 0.20:\n",
    "    print(f\"{sum(Answers)} : {Covid_19['Test'][0]}\")\n",
    "    \n",
    "elif sum(Answers) >= 0.20 and sum(Answers) < 0.40:\n",
    "    print(f\"{sum(Answers)} : {Covid_19['Test'][1]}\")\n",
    "    \n",
    "elif sum(Answers) >= 0.40 and sum(Answers) < 0.60:\n",
    "    print(f\"{sum(Answers)} : {Covid_19['Test'][2]}\")\n",
    "    \n",
    "elif sum(Answers) >= 0.60 and sum(Answers) < 0.80:\n",
    "    print(f\"{sum(Answers)} : {Covid_19['Test'][3]}\")\n",
    "    \n",
    "elif sum(Answers) >= 0.80 and sum(Answers) <= 1.1:\n",
    "    print(f\"{sum(Answers)} : {Covid_19['Test'][4]}\")"
   ]
  },
  {
   "cell_type": "markdown",
   "metadata": {},
   "source": [
    "# Practice 4: جستجو افراد، تخصص های مورد نظر و اطلاعات مهم"
   ]
  },
  {
   "cell_type": "code",
   "execution_count": 16,
   "metadata": {},
   "outputs": [],
   "source": [
    "Students = {\n",
    "    \"Name\" : [\"Farhad\", \"Afarin\", \"Mahsa\", \"Nima\", \"Ali\", \"Rasoul\", \"Mehran\", \"Zahra\", \"Mohsen\", \"Ahmad\"],\n",
    "    \"Score\" : [18, 19, 17, 16, 20, 20, 19, 17, 18, 18],\n",
    "    \"City\" : [\"Kermanshah\", \"Tehran\", \"Tehran\", \"Tabriz\", \"Tehran\", \"Kermanshah\", \"Kermanshah\", \"Tehran\", \"Kermanshah\", \"Tabriz\"],\n",
    "    \"Age\" : [24, 29, 21, 28, 25, 26, 32, 23, 25, 26],\n",
    "    \"education\" : [\"B\", \"M\", \"B\", \"M\", \"M\", \"B\", \"D\", \"B\", \"M\", \"M\"],\n",
    "    \n",
    "    \"Expertise\" :\n",
    "    {\n",
    "        \"Farhad\": [\"C#\", \"Java\", \"Asp.Net\"],\n",
    "        \"Afarin\": [\"Python\", \"Deep Learning\", \"Machine Learning\", \"AI\"],\n",
    "        \"Mahsa\": [\"C++\", \"C#\", \"Asp.Net\", \"AI\", \"Java\", \"Sql Server\"],\n",
    "        \"Nima\": [\"C#\", \"Fuzzy Logic\", \"Django\", \"AI\"],\n",
    "        \"Ali\": [\"AI\", \"Machine Learning\", \"Python\", \"Mongo DB\", \"Deep Learning\", \"Django\"],\n",
    "        \"Rasoul\": [\"Fuzzy Logic\", \"Mongo DB\", \"AI\"],\n",
    "        \"Mehran\": [\"Mongo DB\", \"Asp.Net\", \"Machine Learning\", \"Sql Server\"],\n",
    "        \"Zahra\": [\"Deep Learning\", \"Machine Learning\", \"Python\", \"Sql Server\", \"AI\"],\n",
    "        \"Mohsen\": [\"Django\", \"Python\", \"C#\", \"Asp.Net\", \"Mongo DB\", \"AI\"],\n",
    "        \"Ahmad\": [\"C++\", \"Java\"]\n",
    "    }\n",
    "}"
   ]
  },
  {
   "cell_type": "code",
   "execution_count": 17,
   "metadata": {},
   "outputs": [
    {
     "name": "stdout",
     "output_type": "stream",
     "text": [
      "نام فرد را وارد کنید: Ali\n",
      "*** Ali ***\n",
      "Score: 20 \n",
      "City: Tehran \n",
      "Age: 25 \n",
      "education: Masters \n",
      "Expertise: ['AI', 'Machine Learning', 'Python', 'Mongo DB', 'Deep Learning', 'Django'] \n"
     ]
    }
   ],
   "source": [
    "# اطلاعات هر فرد\n",
    "\n",
    "Name = input(\"نام فرد را وارد کنید: \")\n",
    "\n",
    "List_Name = Students[\"Name\"]\n",
    "Index = -1\n",
    "\n",
    "if Name in List_Name:\n",
    "    Index = List_Name.index(Name)\n",
    "    \n",
    "    print(f\"*** {Name} ***\")\n",
    "    print(f\"Score: {Students['Score'][Index]} \")\n",
    "    print(f\"City: {Students['City'][Index]} \")\n",
    "    print(f\"Age: {Students['Age'][Index]} \")\n",
    "\n",
    "    if Students['education'][Index] == 'B':\n",
    "        print(f\"education: Bachelor \")\n",
    "    elif  Students['education'][Index] == 'M':\n",
    "        print(f\"education: Masters \")  \n",
    "    elif  Students['education'][Index] == 'D':\n",
    "        print(f\"education: Doctorate \")  \n",
    "\n",
    "    print(f\"Expertise: {Students['Expertise'][Name]} \")\n",
    "    \n",
    "else:\n",
    "    print(\"نام وارد شده یافت نشد\")"
   ]
  },
  {
   "cell_type": "code",
   "execution_count": 18,
   "metadata": {},
   "outputs": [
    {
     "name": "stdout",
     "output_type": "stream",
     "text": [
      "Expertise... C# , Python\n"
     ]
    },
    {
     "data": {
      "text/plain": [
       "{'Afarin', 'Ali', 'Farhad', 'Mahsa', 'Mohsen', 'Nima', 'Zahra'}"
      ]
     },
     "execution_count": 18,
     "metadata": {},
     "output_type": "execute_result"
    }
   ],
   "source": [
    "# تخصص\n",
    "\n",
    "text = input(\"Expertise... \")\n",
    "text2 = text.split(' , ')\n",
    "text3 = set()\n",
    "\n",
    "for i in Students['Expertise']:\n",
    "    for j in range(len(text2)):\n",
    "        if text2[j] in Students['Expertise'][i][:]:\n",
    "            text3.add(i)\n",
    "\n",
    "text3"
   ]
  },
  {
   "cell_type": "markdown",
   "metadata": {},
   "source": [
    "# Practice 5: رمز گذاری و رمز گشایی اطلاعات"
   ]
  },
  {
   "cell_type": "code",
   "execution_count": 19,
   "metadata": {},
   "outputs": [],
   "source": [
    "Code = {\n",
    "    'a': '!',\n",
    "    'b': 'v',\n",
    "    'c': '6',\n",
    "    'd': '(',\n",
    "    'e': 'w',\n",
    "    'f': '1',\n",
    "    'g': ']',\n",
    "    'h': 'A',\n",
    "    'i': '=',\n",
    "    'j': '?',\n",
    "    'k': 'N',\n",
    "    'l': '[',\n",
    "    'm': '@',\n",
    "    'n': '-',\n",
    "    'o': '/',\n",
    "    'p': '#',\n",
    "    'q': '2',\n",
    "    'r': '%',\n",
    "    's': '*',\n",
    "    't': '+',\n",
    "    'u': '3',\n",
    "    'v': 'r',\n",
    "    'w': 'y',\n",
    "    'x': '4',\n",
    "    'y': '&',\n",
    "    'z': ')',\n",
    "    '.': 'U ',\n",
    "    ' ': '_',\n",
    "    'A': '2',\n",
    "    \n",
    "}"
   ]
  },
  {
   "cell_type": "code",
   "execution_count": 20,
   "metadata": {},
   "outputs": [
    {
     "data": {
      "text/plain": [
       "'#&+A/-_#%/]%!@@=-]'"
      ]
     },
     "execution_count": 20,
     "metadata": {},
     "output_type": "execute_result"
    }
   ],
   "source": [
    "# encode\n",
    "\n",
    "X = \"python programming\"\n",
    "Y = \"\"\n",
    "\n",
    "for i in X:\n",
    "    for j in Code:\n",
    "        if i == j:\n",
    "            Y += Code[i]\n",
    "            \n",
    "Y"
   ]
  },
  {
   "cell_type": "code",
   "execution_count": 21,
   "metadata": {},
   "outputs": [
    {
     "data": {
      "text/plain": [
       "'python programming'"
      ]
     },
     "execution_count": 21,
     "metadata": {},
     "output_type": "execute_result"
    }
   ],
   "source": [
    "# decode\n",
    "\n",
    "Z = \"\"\n",
    "for i in Y:\n",
    "    for j in Code:\n",
    "        if i == Code[j]:\n",
    "            Z += j\n",
    "Z   "
   ]
  },
  {
   "cell_type": "markdown",
   "metadata": {},
   "source": [
    "# Practice 6: رمز گذاری و رمز گشایی کلمات مهم درون متن"
   ]
  },
  {
   "cell_type": "code",
   "execution_count": 22,
   "metadata": {},
   "outputs": [
    {
     "data": {
      "text/plain": [
       "{'python': '*)7R', 'AI': ':)', 'C#': 'J&5', 'java': '9%#_'}"
      ]
     },
     "execution_count": 22,
     "metadata": {},
     "output_type": "execute_result"
    }
   ],
   "source": [
    "Code2 = {\n",
    "    \"python\": \"*)7R\",\n",
    "    \"AI\": \":)\",\n",
    "    \"C#\": \"J&5\",\n",
    "    \"java\": \"9%#_\"\n",
    "}\n",
    "\n",
    "Code2"
   ]
  },
  {
   "cell_type": "code",
   "execution_count": 23,
   "metadata": {},
   "outputs": [
    {
     "data": {
      "text/plain": [
       "'*)7R and J&5 programming is good. Of course, 9%#_ is not bad either.'"
      ]
     },
     "execution_count": 23,
     "metadata": {},
     "output_type": "execute_result"
    }
   ],
   "source": [
    "# encode\n",
    "\n",
    "X = \"python and C# programming is good. Of course, java is not bad either.\"\n",
    "\n",
    "for i in X.split():\n",
    "    for j in Code2:\n",
    "        if i == j:\n",
    "            X = X.replace(i, Code2[i])\n",
    "            \n",
    "X"
   ]
  },
  {
   "cell_type": "code",
   "execution_count": 24,
   "metadata": {},
   "outputs": [
    {
     "data": {
      "text/plain": [
       "'python and C# programming is good. Of course, java is not bad either.'"
      ]
     },
     "execution_count": 24,
     "metadata": {},
     "output_type": "execute_result"
    }
   ],
   "source": [
    "# decode\n",
    "\n",
    "#X = \"python programming and C# are good.\"\n",
    "Y = X\n",
    "\n",
    "for i in Y.split():\n",
    "    for j in Code2:\n",
    "        if i == Code2[j]:\n",
    "            Y = Y.replace(i, j)\n",
    "            \n",
    "Y"
   ]
  },
  {
   "cell_type": "code",
   "execution_count": null,
   "metadata": {},
   "outputs": [],
   "source": []
  }
 ],
 "metadata": {
  "kernelspec": {
   "display_name": "Python 3",
   "language": "python",
   "name": "python3"
  },
  "language_info": {
   "codemirror_mode": {
    "name": "ipython",
    "version": 3
   },
   "file_extension": ".py",
   "mimetype": "text/x-python",
   "name": "python",
   "nbconvert_exporter": "python",
   "pygments_lexer": "ipython3",
   "version": "3.8.8"
  }
 },
 "nbformat": 4,
 "nbformat_minor": 4
}
