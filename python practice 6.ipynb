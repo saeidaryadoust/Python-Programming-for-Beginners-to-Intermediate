{
 "cells": [
  {
   "cell_type": "markdown",
   "id": "1caa9b82",
   "metadata": {},
   "source": [
    "# practice 1: استخراج شماره موبایل های درون متن با تابع"
   ]
  },
  {
   "cell_type": "code",
   "execution_count": 2,
   "id": "2582ca7d",
   "metadata": {},
   "outputs": [],
   "source": [
    "def F1(Str):\n",
    "    List = []\n",
    "    for i in range(len(Str)):\n",
    "        if Str[i] == '0' and Str[i+1] == '9':\n",
    "            List.append(Str[i:i+11])\n",
    "            \n",
    "    return List"
   ]
  },
  {
   "cell_type": "code",
   "execution_count": 3,
   "id": "1f379adf",
   "metadata": {},
   "outputs": [
    {
     "name": "stdout",
     "output_type": "stream",
     "text": [
      "['09331234567', '09121234567']\n",
      "<class 'list'>\n",
      "2\n"
     ]
    }
   ],
   "source": [
    "Text = \"Hi Friends my name is Ali and my phone number is 09331234567 and 0912123456789.\"\n",
    "\n",
    "y = F1(Text)\n",
    "\n",
    "print(y)\n",
    "print(type(y))\n",
    "print(len(y))"
   ]
  },
  {
   "cell_type": "markdown",
   "id": "c60a528b",
   "metadata": {},
   "source": [
    "# practice 2: پیشبینی احتمال موفقیت افراد با داشتن ویژگی های مهم"
   ]
  },
  {
   "cell_type": "code",
   "execution_count": 4,
   "id": "5ebe969d",
   "metadata": {},
   "outputs": [],
   "source": [
    "# سحر خیزی\n",
    "# علاقه\n",
    "# سخت کوشی\n",
    "# علاقه به یادگیری\n",
    "# مطالعه\n",
    "# ورزش\n",
    "# قهوه و غذای مقوی\n",
    "# خواب کافی\n",
    "\n",
    "def Success(Getting_Up_Early=0, Interest=0, Diligence=0, Interest_in_Learning=0, Study=0, Sport=0, Coffee_food=0, Sleep=0): \n",
    "    \"\"\"\n",
    "    به کمک این تابع می توانید درصد موفقیت شغلی یا تحصیلی خود را تخمین بزنید.\n",
    "    برای این کار تنها کافی است که برای هر یک از پارامترهای تابع، یک عدد بین 0 تا 100 قرار دهید که نشان دهنده درصد انجام آن کار یا داشتن آن ویژگی است.\n",
    "    بدیهی است که اگر برای پارامترهای تابع عدد نفرستید، عدد پیش فرض صفر جای هر یک قرار خواهد گرفت.\n",
    "    \"\"\"\n",
    "\n",
    "    x = (Getting_Up_Early + 2*Interest + 3*Diligence + 4*Interest_in_Learning + 2*Study + 2*Sport + 4*Coffee_food + 2*Sleep)/20   \n",
    "    return x"
   ]
  },
  {
   "cell_type": "code",
   "execution_count": 5,
   "id": "7d2de150",
   "metadata": {},
   "outputs": [
    {
     "name": "stdout",
     "output_type": "stream",
     "text": [
      "Help on function Success in module __main__:\n",
      "\n",
      "Success(Getting_Up_Early=0, Interest=0, Diligence=0, Interest_in_Learning=0, Study=0, Sport=0, Coffee_food=0, Sleep=0)\n",
      "    به کمک این تابع می توانید درصد موفقیت شغلی یا تحصیلی خود را تخمین بزنید.\n",
      "    برای این کار تنها کافی است که برای هر یک از پارامترهای تابع، یک عدد بین 0 تا 100 قرار دهید که نشان دهنده درصد انجام آن کار یا داشتن آن ویژگی است.\n",
      "    بدیهی است که اگر برای پارامترهای تابع عدد نفرستید، عدد پیش فرض صفر جای هر یک قرار خواهد گرفت.\n",
      "\n"
     ]
    }
   ],
   "source": [
    "help(Success)"
   ]
  },
  {
   "cell_type": "code",
   "execution_count": 6,
   "id": "cf6a65dd",
   "metadata": {},
   "outputs": [
    {
     "data": {
      "text/plain": [
       "91.6"
      ]
     },
     "execution_count": 6,
     "metadata": {},
     "output_type": "execute_result"
    }
   ],
   "source": [
    "y = Success(95, 100, 95, 98, 90, 75, 90, 85)\n",
    "y"
   ]
  },
  {
   "cell_type": "markdown",
   "id": "becf983d",
   "metadata": {},
   "source": [
    "# practice 3: تشخیص زبان متن"
   ]
  },
  {
   "cell_type": "code",
   "execution_count": 7,
   "id": "8e36844e",
   "metadata": {},
   "outputs": [],
   "source": [
    "def Check_Language(text):\n",
    "    \n",
    "    EN = {'a', 'b', 'c', 'd', 'e', 'f', 'g', 'h', 'i', 'j', 'k', 'l', 'm', 'n', 'o', 'p', 'q', 'r', 's', 't', 'u', 'v', 'w', 'x', 'y', 'z'}\n",
    "    FA = {'ی', 'ه', 'و', 'ن', 'م', 'ل', 'گ', 'ک', 'ق', 'ف', 'غ', 'ع', 'ظ', 'ط', 'ض', 'ص', 'ش', 'س', 'ژ', 'ز', 'ر', 'ذ', 'د', 'خ', 'ح', 'چ', 'ج', 'ث', 'ت', 'پ', 'ب' ,'آ', 'ا'}\n",
    "    \n",
    "    Ch_FA = 0\n",
    "    Ch_EN = 0\n",
    "    \n",
    "    for i in text:\n",
    "        if i in FA:\n",
    "            Ch_FA += 1\n",
    "        elif i in EN:\n",
    "            Ch_EN += 1\n",
    "\n",
    "    if Ch_FA >= Ch_EN:\n",
    "        Result = \"Persian\"\n",
    "        Percentage = Ch_FA / (Ch_FA + Ch_EN)\n",
    "        \n",
    "    elif Ch_EN >= Ch_FA:\n",
    "        Result = \"English\"\n",
    "        Percentage = Ch_EN / (Ch_FA + Ch_EN)\n",
    "        \n",
    "    return Result, round(Percentage, 2)"
   ]
  },
  {
   "cell_type": "code",
   "execution_count": 8,
   "id": "3a85abdd",
   "metadata": {},
   "outputs": [
    {
     "name": "stdout",
     "output_type": "stream",
     "text": [
      "English\n",
      "1.0\n"
     ]
    }
   ],
   "source": [
    "Text = \"سلام دوستان من Ali هستم\"\n",
    "Text2 = \"Hi Ai\"\n",
    "\n",
    "x, y = Check_Language(Text2)\n",
    "print(x)\n",
    "print(y)"
   ]
  },
  {
   "cell_type": "markdown",
   "id": "832cb084",
   "metadata": {},
   "source": [
    "# practice 4: استخراج اطلاعات افراد از متن با تابع"
   ]
  },
  {
   "cell_type": "code",
   "execution_count": 9,
   "id": "5c0e959a",
   "metadata": {},
   "outputs": [],
   "source": [
    "def Name(name, **dic):\n",
    "    \n",
    "    List_Name = dic[\"Name\"]\n",
    "    Index = -1\n",
    "\n",
    "    if name in List_Name:\n",
    "        Index = List_Name.index(name)\n",
    "\n",
    "        print(f\"*** {name} ***\")\n",
    "        print(f\"Score: {dic['Score'][Index]} \")\n",
    "        print(f\"City: {dic['City'][Index]} \")\n",
    "        print(f\"Age: {dic['Age'][Index]} \")\n",
    "\n",
    "        if dic['education'][Index] == 'B':\n",
    "            print(f\"education: Bachelor \")\n",
    "        elif  dic['education'][Index] == 'M':\n",
    "            print(f\"education: Masters \")  \n",
    "        elif  dic['education'][Index] == 'D':\n",
    "            print(f\"education: Doctorate \")  \n",
    "\n",
    "        print(f\"Expertise: {dic['Expertise'][name]} \")\n",
    "\n",
    "    else:\n",
    "        print(\"نام وارد شده یافت نشد\")\n",
    "# =====================================================================\n",
    "\n",
    "def Expertise(expet, **dic):\n",
    "    \n",
    "    text2 = expet.split(' , ')\n",
    "    text3 = set()\n",
    "\n",
    "    for i in dic['Expertise']:\n",
    "        for j in range(len(text2)):\n",
    "            if text2[j] in dic['Expertise'][i][:]:\n",
    "                text3.add(i)\n",
    "                \n",
    "    return text3"
   ]
  },
  {
   "cell_type": "code",
   "execution_count": 10,
   "id": "d686d2ad",
   "metadata": {},
   "outputs": [],
   "source": [
    "Students = {\n",
    "    \"Name\" : [\"Farhad\", \"Afarin\", \"Mahsa\", \"Nima\", \"Ali\", \"Rasoul\", \"Mehran\", \"Zahra\", \"Mohsen\", \"Ahmad\"],\n",
    "    \"Score\" : [18, 19, 17, 16, 20, 20, 19, 17, 18, 18],\n",
    "    \"City\" : [\"Kermanshah\", \"Tehran\", \"Tehran\", \"Tabriz\", \"Tehran\", \"Kermanshah\", \"Kermanshah\", \"Tehran\", \"Kermanshah\", \"Tabriz\"],\n",
    "    \"Age\" : [24, 29, 21, 28, 25, 26, 32, 23, 25, 26],\n",
    "    \"education\" : [\"B\", \"M\", \"B\", \"M\", \"M\", \"B\", \"D\", \"B\", \"M\", \"M\"],\n",
    "    \n",
    "    \"Expertise\" :\n",
    "    {\n",
    "        \"Farhad\": [\"C#\", \"Java\", \"Asp.Net\"],\n",
    "        \"Afarin\": [\"Python\", \"Deep Learning\", \"Machine Learning\", \"AI\"],\n",
    "        \"Mahsa\": [\"C++\", \"C#\", \"Asp.Net\", \"AI\", \"Java\", \"Sql Server\"],\n",
    "        \"Nima\": [\"C#\", \"Fuzzy Logic\", \"Django\", \"AI\"],\n",
    "        \"Ali\": [\"AI\", \"Machine Learning\", \"Python\", \"Mongo DB\", \"Deep Learning\", \"Django\"],\n",
    "        \"Rasoul\": [\"Fuzzy Logic\", \"Mongo DB\", \"AI\"],\n",
    "        \"Mehran\": [\"Mongo DB\", \"Asp.Net\", \"Machine Learning\", \"Sql Server\"],\n",
    "        \"Zahra\": [\"Deep Learning\", \"Machine Learning\", \"Python\", \"Sql Server\", \"AI\"],\n",
    "        \"Mohsen\": [\"Django\", \"Python\", \"C#\", \"Asp.Net\", \"Mongo DB\", \"AI\"],\n",
    "        \"Ahmad\": [\"C++\", \"Java\"]\n",
    "    }\n",
    "}"
   ]
  },
  {
   "cell_type": "code",
   "execution_count": 11,
   "id": "743f1910",
   "metadata": {},
   "outputs": [
    {
     "name": "stdout",
     "output_type": "stream",
     "text": [
      "*** Mehran ***\n",
      "Score: 19 \n",
      "City: Kermanshah \n",
      "Age: 32 \n",
      "education: Doctorate \n",
      "Expertise: ['Mongo DB', 'Asp.Net', 'Machine Learning', 'Sql Server'] \n"
     ]
    }
   ],
   "source": [
    "Name(\"Mehran\", **Students)"
   ]
  },
  {
   "cell_type": "code",
   "execution_count": 12,
   "id": "40c75597",
   "metadata": {},
   "outputs": [
    {
     "name": "stdout",
     "output_type": "stream",
     "text": [
      "{'Ali', 'Mahsa', 'Nima', 'Mohsen', 'Farhad', 'Zahra', 'Afarin'}\n"
     ]
    },
    {
     "data": {
      "text/plain": [
       "set"
      ]
     },
     "execution_count": 12,
     "metadata": {},
     "output_type": "execute_result"
    }
   ],
   "source": [
    "y = Expertise(\"C# , Python\", **Students)\n",
    "\n",
    "print(y)\n",
    "type(y)"
   ]
  },
  {
   "cell_type": "markdown",
   "id": "99494a18",
   "metadata": {},
   "source": [
    "# practice 5: تولید خودکار پسورد"
   ]
  },
  {
   "cell_type": "code",
   "execution_count": 13,
   "id": "a9846c7f",
   "metadata": {},
   "outputs": [],
   "source": [
    "def Password(length = 8):\n",
    "    \n",
    "    en = ['a', 'b', 'c', 'd', 'e', 'f', 'g', 'h', 'i', 'j', 'k', 'l', 'm', 'n', 'o', 'p', 'q', 'r', 's', 't', 'u', 'v', 'w', 'x', 'y', 'z']\n",
    "    \n",
    "    from random import randint\n",
    "    from math import floor\n",
    "    password = \"\"\n",
    "\n",
    "    for i in range(floor(length/2)):\n",
    "        r1 = randint(0, 9)\n",
    "        r2 = randint(0, 25)\n",
    "        ch = en[r2]\n",
    "        password += str(r1)\n",
    "        password += str(ch)\n",
    "        \n",
    "        \n",
    "    if len(password) == length:\n",
    "        return password\n",
    "    else:\n",
    "        r1 = randint(0, 9)\n",
    "        password += str(r1)\n",
    "        return password"
   ]
  },
  {
   "cell_type": "code",
   "execution_count": 14,
   "id": "d46ef544",
   "metadata": {},
   "outputs": [
    {
     "data": {
      "text/plain": [
       "'7r1j'"
      ]
     },
     "execution_count": 14,
     "metadata": {},
     "output_type": "execute_result"
    }
   ],
   "source": [
    "x = Password(4)\n",
    "x"
   ]
  },
  {
   "cell_type": "markdown",
   "id": "34891240",
   "metadata": {},
   "source": [
    "# practice 6: بررسی درست بودن ایمیل"
   ]
  },
  {
   "cell_type": "code",
   "execution_count": 15,
   "id": "f33f55b1",
   "metadata": {},
   "outputs": [],
   "source": [
    "def F_main(text):\n",
    "    \n",
    "    if '@' not in text:\n",
    "        return False\n",
    "    else:\n",
    "        \n",
    "        x, y = text.split('@')\n",
    "\n",
    "        r1 = F1(x)\n",
    "        r2 = F2(y)\n",
    "\n",
    "        if r1 == True and r2 == True:\n",
    "            return True\n",
    "        else:\n",
    "            return False\n",
    "\n",
    "\n",
    "def F1(text):\n",
    "    Len = len(text) >=5 and len(text) <= 50\n",
    "    num = text[0].isdigit()\n",
    "    \n",
    "    if Len == True and num ==False:\n",
    "        return True\n",
    "    else:\n",
    "        return False\n",
    "# ----------------------------------------------\n",
    "\n",
    "def F2(text):\n",
    "    if (text.split('.')[0] == \"gmail\" or text.split('.')[0] == \"yahoo\") and text.split('.')[1] == \"com\":\n",
    "        return True\n",
    "    else:\n",
    "        return False"
   ]
  },
  {
   "cell_type": "code",
   "execution_count": 16,
   "id": "47820d9d",
   "metadata": {},
   "outputs": [
    {
     "data": {
      "text/plain": [
       "False"
      ]
     },
     "execution_count": 16,
     "metadata": {},
     "output_type": "execute_result"
    }
   ],
   "source": [
    "email = \"1computer.enginiuheer.as@gmukjhail.com\"\n",
    "F_main(email)"
   ]
  },
  {
   "cell_type": "markdown",
   "id": "71170f02",
   "metadata": {},
   "source": [
    "# practice 7: حل یک معادله ریاضی"
   ]
  },
  {
   "cell_type": "code",
   "execution_count": 17,
   "id": "96650fb9",
   "metadata": {},
   "outputs": [],
   "source": [
    "def F1(i):\n",
    "    from math import pi, sin\n",
    "    y = pi* pow(2, i) + sin(pi)\n",
    "    return round(y)"
   ]
  },
  {
   "cell_type": "code",
   "execution_count": 18,
   "id": "5f4ef67f",
   "metadata": {},
   "outputs": [],
   "source": [
    "def F2(i, a):\n",
    "    from math import factorial\n",
    "    y = factorial(i) * a\n",
    "    return round(y)"
   ]
  },
  {
   "cell_type": "code",
   "execution_count": 19,
   "id": "2a929934",
   "metadata": {},
   "outputs": [],
   "source": [
    "def F3(i, n):\n",
    "    from math import factorial\n",
    "    x = factorial(i) * factorial(n-i)\n",
    "    y = factorial(n) / x\n",
    "    return y"
   ]
  },
  {
   "cell_type": "code",
   "execution_count": 20,
   "id": "70f6c544",
   "metadata": {},
   "outputs": [],
   "source": [
    "def F4(n, a):\n",
    "    from math import sqrt\n",
    "    Sum = 0\n",
    "    for i in range(n+1):\n",
    "        f3 = F3(i ,n)\n",
    "        f1 = F1(i)\n",
    "        f2 = F2(i, a)\n",
    "        \n",
    "        y = f3 + f1 + pow(a, n) * sqrt(i + F2(i, a))\n",
    "        Sum += y\n",
    "    \n",
    "    return Sum "
   ]
  },
  {
   "cell_type": "code",
   "execution_count": 21,
   "id": "5d87fc54",
   "metadata": {},
   "outputs": [
    {
     "data": {
      "text/plain": [
       "4.892447800060001e+41"
      ]
     },
     "execution_count": 21,
     "metadata": {},
     "output_type": "execute_result"
    }
   ],
   "source": [
    "x = F4(20, 38)\n",
    "x"
   ]
  },
  {
   "cell_type": "code",
   "execution_count": null,
   "id": "1836ea27",
   "metadata": {},
   "outputs": [],
   "source": []
  }
 ],
 "metadata": {
  "kernelspec": {
   "display_name": "Python 3",
   "language": "python",
   "name": "python3"
  },
  "language_info": {
   "codemirror_mode": {
    "name": "ipython",
    "version": 3
   },
   "file_extension": ".py",
   "mimetype": "text/x-python",
   "name": "python",
   "nbconvert_exporter": "python",
   "pygments_lexer": "ipython3",
   "version": "3.8.8"
  }
 },
 "nbformat": 4,
 "nbformat_minor": 5
}
