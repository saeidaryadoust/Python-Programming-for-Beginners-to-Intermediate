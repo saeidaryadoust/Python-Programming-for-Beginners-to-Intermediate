{
 "cells": [
  {
   "cell_type": "markdown",
   "metadata": {},
   "source": [
    "# Practice 1: شمارش تعداد کاراکترهای یکتا"
   ]
  },
  {
   "cell_type": "code",
   "execution_count": 1,
   "metadata": {},
   "outputs": [
    {
     "name": "stdout",
     "output_type": "stream",
     "text": [
      "19\n",
      "{'a', 'r', 'g', 'c', 'n', 'u', 'y', ' ', 'h', 'e', 'i', 'H', 't', 's', 'd', 'o', 'F', 'm', 'p'}\n"
     ]
    }
   ],
   "source": [
    "Str = \"Hi Friendes this course is python programming\"\n",
    "Char = set()\n",
    "\n",
    "for i in Str:\n",
    "    Char.add(i)\n",
    "\n",
    "print(len(Char))\n",
    "print(Char)\n"
   ]
  },
  {
   "cell_type": "markdown",
   "metadata": {},
   "source": [
    "# Practice 2: شمارش تعداد کلمات یکتا"
   ]
  },
  {
   "cell_type": "code",
   "execution_count": 2,
   "metadata": {},
   "outputs": [
    {
     "name": "stdout",
     "output_type": "stream",
     "text": [
      "14\n",
      "{'که', 'باشه', 'پایتون', 'امیدوارم', 'میکنیم', 'حالتون', 'دوستان', 'این', 'شروع', 'رو', 'خوب', 'براتون', 'جلسه', 'مفید'}\n"
     ]
    }
   ],
   "source": [
    "Str = \" دوستان امیدوارم حالتون خوب باشه. دوستان این جلسه پایتون رو شروع میکنیم که امیدوارم براتون مفید باشه\"\n",
    "Word = set()\n",
    "\n",
    "for i in Str.split():\n",
    "    Word.add(i)\n",
    "    \n",
    "#print(len(Word))\n",
    "#print(Word)\n",
    "#-----------------------------\n",
    "\n",
    "Word2 = set()\n",
    "Str2 = Str.replace('.', '')\n",
    "\n",
    "for i in Str2.split():\n",
    "    Word2.add(i)\n",
    "    \n",
    "print(len(Word2))\n",
    "print(Word2)"
   ]
  },
  {
   "cell_type": "markdown",
   "metadata": {},
   "source": [
    "# Practice 3: انتخاب اعداد تصادفی بدون تکرار"
   ]
  },
  {
   "cell_type": "code",
   "execution_count": 3,
   "metadata": {},
   "outputs": [
    {
     "data": {
      "text/plain": [
       "{25, 39, 40, 46, 53, 75, 78, 82, 92, 93}"
      ]
     },
     "execution_count": 3,
     "metadata": {},
     "output_type": "execute_result"
    }
   ],
   "source": [
    "import random as rand\n",
    "\n",
    "numbers = set()\n",
    "\n",
    "for i in range(0, 10):\n",
    "    R = rand.randint(0, 100)\n",
    "    numbers.add(R)\n",
    "\n",
    "numbers"
   ]
  },
  {
   "cell_type": "markdown",
   "metadata": {},
   "source": [
    "# Practice 4: برنامه شبیه سازی رأی گیری "
   ]
  },
  {
   "cell_type": "code",
   "execution_count": 4,
   "metadata": {},
   "outputs": [
    {
     "name": "stdout",
     "output_type": "stream",
     "text": [
      "کد ملی: 5\n",
      "به چه نامزدی رای می دهید: Ali\n",
      "کد ملی: 3\n",
      "به چه نامزدی رای می دهید: Reza\n",
      "کد ملی: 3\n",
      "به چه نامزدی رای می دهید: Reza\n",
      "کد ملی: 0\n",
      "به چه نامزدی رای می دهید: 0\n"
     ]
    }
   ],
   "source": [
    "Persons = set()\n",
    "mohsen, Ali, Reza =0, 0, 0\n",
    "Void_Votes = 0\n",
    "len_Persons = 0\n",
    "\n",
    "while (True):\n",
    "    vote = int(input(\"کد ملی: \"))\n",
    "    candidate = input(\"به چه نامزدی رای می دهید: \")\n",
    "    \n",
    "    Persons.add(vote)\n",
    "    \n",
    "    if len(Persons) > len_Persons:\n",
    "        if candidate == \"mohsen\":\n",
    "            mohsen += 1\n",
    "        elif candidate == \"Ali\":\n",
    "            Ali += 1\n",
    "        elif candidate == \"Reza\":\n",
    "            Reza += 1\n",
    "        else:\n",
    "            Void_Votes += 1\n",
    "            \n",
    "    len_Persons = len(Persons)\n",
    "    \n",
    "    if candidate == \"0\":\n",
    "        break"
   ]
  },
  {
   "cell_type": "code",
   "execution_count": 5,
   "metadata": {},
   "outputs": [
    {
     "name": "stdout",
     "output_type": "stream",
     "text": [
      "mohsen:  0\n",
      "Ali 1\n",
      "Reza:  1\n",
      "Void_Votes:  1\n",
      "Persons:  {0, 3, 5}\n"
     ]
    }
   ],
   "source": [
    "print(\"mohsen: \", mohsen)\n",
    "print(\"Ali\", Ali)\n",
    "print(\"Reza: \", Reza)\n",
    "print(\"Void_Votes: \", Void_Votes)\n",
    "print(\"Persons: \", Persons)"
   ]
  },
  {
   "cell_type": "markdown",
   "metadata": {},
   "source": [
    "# Practice 5: استخراج اطلاعات دلخواه از متن"
   ]
  },
  {
   "cell_type": "code",
   "execution_count": 6,
   "metadata": {},
   "outputs": [],
   "source": [
    "key_words = set()\n",
    "programming_language = {'C', 'C++', 'BASIC', 'Java', 'COBOL', 'Pascal', 'Ada', 'FORTRAN', 'C#', 'MATLAB', 'پایتون', 'سیشارپ'}\n",
    "\n",
    "text = '''A programming language is a vocabulary and set of grammatical rules for instructing a computer or \n",
    "computing device to perform specific tasks. The term programming language usually refers to high-level languages,\n",
    "such as BASIC , C , C++ , COBOL , Java , FORTRAN , Ada , and Pascal .\n",
    "High-level programming languages, while simple compared to human languages, are more complex than the languages\n",
    "the computer actually understands, called machine languages. Each different type of CPU has its own unique \n",
    "machine language.'''\n",
    "\n",
    "for t in text.split():\n",
    "    for p in programming_language:\n",
    "        if p == t:\n",
    "            key_words.add(t)"
   ]
  },
  {
   "cell_type": "code",
   "execution_count": 7,
   "metadata": {},
   "outputs": [
    {
     "data": {
      "text/plain": [
       "{'Ada', 'BASIC', 'C', 'C++', 'COBOL', 'FORTRAN', 'Java', 'Pascal'}"
      ]
     },
     "execution_count": 7,
     "metadata": {},
     "output_type": "execute_result"
    }
   ],
   "source": [
    "key_words"
   ]
  },
  {
   "cell_type": "markdown",
   "metadata": {},
   "source": [
    "# Practice 6: استخراج موجودیت های نامدار از متن"
   ]
  },
  {
   "cell_type": "code",
   "execution_count": 8,
   "metadata": {},
   "outputs": [],
   "source": [
    "List_Name_Person = {'فرهاد', 'جواد', 'رضا', 'عباس', 'رسول'}\n",
    "List_Family_Person = {'سعیدی', 'جواد', 'ابراهیمی', 'محمدی', 'احمدی'}\n",
    "List_City = {'ایلام', 'ارومیه', 'سنندج','مازندران', 'مشهد', 'تهران', 'کرمانشاه'}\n",
    "List_Univercity = {'کردستان','رازی', 'آزاد', 'شریف', 'تهران'}\n",
    "List_Expertise = {'AI', \"NLP\", '', 'C++', 'python', 'Java', 'Django', 'Flask', 'MATLAB'}\n",
    "\n",
    "name_person = set()\n",
    "family_person = set()\n",
    "city = set()\n",
    "univercity = set()\n",
    "expertise = set()\n",
    "\n",
    "\n",
    "email = '''\n",
    "سلام وقتتون بخیر بابت آگهی مزاحم تون شدم اسم بنده رضا ابراهیمی است،\n",
    "فارغ التحصیل مهندسی کامپیوتر از دانشگاه تهران. محل سکونت هم در شمال تهران \n",
    "و دارای تخصص های متفاوتی هستم مانند: NLP , C++ , Django .\n",
    "    ممنون میشم روزمه بنده رو مطالعه و به من اطلاع دهید. خیلی ممنون.\n",
    "\n",
    "'''\n",
    "\n",
    "for i in email.split():\n",
    "    \n",
    "    for np in List_Name_Person:\n",
    "        if i == np:\n",
    "            name_person.add(np)\n",
    "            \n",
    "    for fp in List_Family_Person:\n",
    "        if i == fp:\n",
    "            family_person.add(fp)\n",
    "            \n",
    "    for c in List_City:\n",
    "        if i == c:\n",
    "            city.add(c)\n",
    "            \n",
    "    for u in List_Univercity:\n",
    "        if i == u:\n",
    "            univercity.add(u)\n",
    "            \n",
    "    for e in List_Expertise:\n",
    "        if i == e:\n",
    "            expertise.add(e)"
   ]
  },
  {
   "cell_type": "code",
   "execution_count": 9,
   "metadata": {},
   "outputs": [
    {
     "name": "stdout",
     "output_type": "stream",
     "text": [
      "name: {'رضا'}\n",
      "family: {'ابراهیمی'}\n",
      "city: {'تهران'}\n",
      "univercity: {'تهران'}\n",
      "expertise: {'NLP', 'Django', 'C++'}\n"
     ]
    }
   ],
   "source": [
    "print(f\"name: {name_person}\")\n",
    "print(f\"family: {family_person}\")\n",
    "print(f\"city: {city}\")\n",
    "print(f\"univercity: {univercity}\")\n",
    "print(f\"expertise: {expertise}\")"
   ]
  },
  {
   "cell_type": "markdown",
   "metadata": {},
   "source": [
    "# Practice 7: تشخیص شباهت بین دو متن"
   ]
  },
  {
   "cell_type": "code",
   "execution_count": 10,
   "metadata": {},
   "outputs": [],
   "source": [
    "Str1 = \"زبان پایتون دارای کتابخانه های بیشماری است و جهت پیاده سازی هر الگوریتمی می توان از کتابخانه های مربوطه استفاده کرد\"\n",
    "Str2 = \"پایتون دارای کتابخانه های زیادی است و از کتابخانه های مختلف می توان جهت پیاده سازی هر الگوریتمی استفاده کرد\"\n",
    "\n",
    "Set1 = set()\n",
    "Set2 = set()\n",
    "\n",
    "for i in Str1.split():\n",
    "    Set1.add(i)\n",
    "\n",
    "for j in Str2.split():\n",
    "    Set2.add(j)"
   ]
  },
  {
   "cell_type": "code",
   "execution_count": 11,
   "metadata": {},
   "outputs": [
    {
     "data": {
      "text/plain": [
       "{'از',\n",
       " 'است',\n",
       " 'استفاده',\n",
       " 'الگوریتمی',\n",
       " 'توان',\n",
       " 'جهت',\n",
       " 'دارای',\n",
       " 'سازی',\n",
       " 'می',\n",
       " 'های',\n",
       " 'هر',\n",
       " 'و',\n",
       " 'پایتون',\n",
       " 'پیاده',\n",
       " 'کتابخانه',\n",
       " 'کرد'}"
      ]
     },
     "execution_count": 11,
     "metadata": {},
     "output_type": "execute_result"
    }
   ],
   "source": [
    "Set3 = Set1.intersection(Set2)\n",
    "Set3"
   ]
  },
  {
   "cell_type": "code",
   "execution_count": 12,
   "metadata": {},
   "outputs": [
    {
     "name": "stdout",
     "output_type": "stream",
     "text": [
      "len_Set1: 19\n",
      "len_Set2: 18\n",
      "len_Set3: 16\n"
     ]
    }
   ],
   "source": [
    "print(f\"len_Set1: {len(Set1)}\")  \n",
    "print(f\"len_Set2: {len(Set2)}\")  \n",
    "print(f\"len_Set3: {len(Set3)}\")  "
   ]
  },
  {
   "cell_type": "code",
   "execution_count": 13,
   "metadata": {},
   "outputs": [
    {
     "data": {
      "text/plain": [
       "88.89"
      ]
     },
     "execution_count": 13,
     "metadata": {},
     "output_type": "execute_result"
    }
   ],
   "source": [
    "x = len(Set3)\n",
    "a, b, c, d = 0, len(Set2), 0, 100\n",
    "Result =  ((x-a)/(b-a)) * ((d-c) + c)\n",
    "\n",
    "round(Result,2)"
   ]
  },
  {
   "cell_type": "markdown",
   "metadata": {},
   "source": [
    "# Practice 8: دسته بندی کلمات یکتا با توجه به تعداد کاراکترها"
   ]
  },
  {
   "cell_type": "code",
   "execution_count": 14,
   "metadata": {},
   "outputs": [],
   "source": [
    "Str1 = \"این یک متن تستی است که تعداد کاراکترهای هر کلمه بررسی و در مجموعه های مختلف دسته بندی می شوند\"\n",
    "\n",
    "Set_1, Set_2, Set_3, Set_4, Set_5 = set(), set(), set(), set(), set()\n",
    "Set_6, Set_7, Set_8, Set_9, Set_10 = set(), set(), set(), set(), set()\n",
    "\n",
    "for i in Str1.split():\n",
    "    if len(i) == 1:\n",
    "        Set_1.add(i)\n",
    "        \n",
    "    if len(i) == 2:\n",
    "        Set_2.add(i)\n",
    "\n",
    "    if len(i) == 3:\n",
    "        Set_3.add(i)\n",
    "        \n",
    "    if len(i) == 4:\n",
    "        Set_4.add(i)\n",
    "        \n",
    "    if len(i) == 5:\n",
    "        Set_5.add(i)\n",
    "        \n",
    "    if len(i) == 6:\n",
    "        Set_6.add(i)\n",
    "        \n",
    "    if len(i) == 7:\n",
    "        Set_7.add(i)\n",
    "        \n",
    "    if len(i) == 8:\n",
    "        Set_8.add(i)\n",
    "        \n",
    "    if len(i) == 9:\n",
    "        Set_9.add(i)\n",
    "        \n",
    "    if len(i) == 10:\n",
    "        Set_10.add(i)"
   ]
  },
  {
   "cell_type": "code",
   "execution_count": 15,
   "metadata": {},
   "outputs": [
    {
     "name": "stdout",
     "output_type": "stream",
     "text": [
      "Char_1: {'و'}\n",
      "Char_2: {'یک', 'که', 'در', 'هر', 'می'}\n",
      "Char_3: {'متن', 'این', 'است', 'های'}\n",
      "Char_4: {'بندی', 'دسته', 'شوند', 'تستی', 'کلمه'}\n",
      "Char_5: {'بررسی', 'تعداد', 'مختلف'}\n",
      "Char_6: {'مجموعه'}\n",
      "Char_7: set()\n",
      "Char_8: set()\n",
      "Char_9: set()\n",
      "Char_10: {'کاراکترهای'}\n"
     ]
    }
   ],
   "source": [
    "print(f\"Char_1: {Set_1}\")\n",
    "print(f\"Char_2: {Set_2}\")\n",
    "print(f\"Char_3: {Set_3}\")\n",
    "print(f\"Char_4: {Set_4}\")\n",
    "print(f\"Char_5: {Set_5}\")\n",
    "print(f\"Char_6: {Set_6}\")\n",
    "print(f\"Char_7: {Set_7}\")\n",
    "print(f\"Char_8: {Set_8}\")\n",
    "print(f\"Char_9: {Set_9}\")\n",
    "print(f\"Char_10: {Set_10}\")"
   ]
  },
  {
   "cell_type": "code",
   "execution_count": null,
   "metadata": {},
   "outputs": [],
   "source": []
  },
  {
   "cell_type": "code",
   "execution_count": null,
   "metadata": {},
   "outputs": [],
   "source": []
  }
 ],
 "metadata": {
  "kernelspec": {
   "display_name": "Python 3",
   "language": "python",
   "name": "python3"
  },
  "language_info": {
   "codemirror_mode": {
    "name": "ipython",
    "version": 3
   },
   "file_extension": ".py",
   "mimetype": "text/x-python",
   "name": "python",
   "nbconvert_exporter": "python",
   "pygments_lexer": "ipython3",
   "version": "3.8.8"
  }
 },
 "nbformat": 4,
 "nbformat_minor": 2
}
