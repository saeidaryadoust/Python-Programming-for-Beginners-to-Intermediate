{
 "cells": [
  {
   "cell_type": "markdown",
   "metadata": {},
   "source": [
    "##  txt"
   ]
  },
  {
   "cell_type": "code",
   "execution_count": 1,
   "metadata": {},
   "outputs": [],
   "source": [
    "file = open(\"E:\\Python\\Python_Text.txt\", 'r')\n",
    "\n",
    "text = file.read()\n",
    "file.close()"
   ]
  },
  {
   "cell_type": "code",
   "execution_count": 2,
   "metadata": {},
   "outputs": [
    {
     "data": {
      "text/plain": [
       "str"
      ]
     },
     "execution_count": 2,
     "metadata": {},
     "output_type": "execute_result"
    }
   ],
   "source": [
    "type(text)"
   ]
  },
  {
   "cell_type": "code",
   "execution_count": 3,
   "metadata": {},
   "outputs": [
    {
     "data": {
      "text/plain": [
       "'My Name is Ali Nazarizadeh.\\nPython.\\nMatlab.\\nmachine Learning.'"
      ]
     },
     "execution_count": 3,
     "metadata": {},
     "output_type": "execute_result"
    }
   ],
   "source": [
    "text"
   ]
  },
  {
   "cell_type": "code",
   "execution_count": 4,
   "metadata": {},
   "outputs": [
    {
     "name": "stdout",
     "output_type": "stream",
     "text": [
      "My Name is Ali Nazarizadeh.\n",
      "Python.\n",
      "Matlab.\n",
      "machine Learning.\n"
     ]
    }
   ],
   "source": [
    "print(text)"
   ]
  },
  {
   "cell_type": "code",
   "execution_count": null,
   "metadata": {},
   "outputs": [],
   "source": []
  },
  {
   "cell_type": "code",
   "execution_count": 5,
   "metadata": {},
   "outputs": [
    {
     "data": {
      "text/plain": [
       "'My Name is Ali Nazarizadeh. Python. Matlab. machine Learning.'"
      ]
     },
     "execution_count": 5,
     "metadata": {},
     "output_type": "execute_result"
    }
   ],
   "source": [
    "text2 = text.replace(\"\\n\", \" \")\n",
    "text2"
   ]
  },
  {
   "cell_type": "code",
   "execution_count": 6,
   "metadata": {},
   "outputs": [],
   "source": [
    "file = open(\"E:\\Python\\Python_Text2.txt\", 'r', encoding=\"Utf-8\")\n",
    "\n",
    "text = file.read()\n",
    "file.close()"
   ]
  },
  {
   "cell_type": "code",
   "execution_count": 7,
   "metadata": {},
   "outputs": [
    {
     "data": {
      "text/plain": [
       "'سلام دوستان، من علی نظری زاده هستم.\\nامیدوارم که دوره برنامه نویسی پایتون براتون مفید بوده باشه.'"
      ]
     },
     "execution_count": 7,
     "metadata": {},
     "output_type": "execute_result"
    }
   ],
   "source": [
    "text"
   ]
  },
  {
   "cell_type": "code",
   "execution_count": 8,
   "metadata": {},
   "outputs": [
    {
     "name": "stdout",
     "output_type": "stream",
     "text": [
      "سلام دوستان، من علی نظری زاده هستم.\n",
      "امیدوارم که دوره برنامه نویسی پایتون براتون مفید بوده باشه.\n"
     ]
    }
   ],
   "source": [
    "print(text)"
   ]
  },
  {
   "cell_type": "code",
   "execution_count": 9,
   "metadata": {},
   "outputs": [
    {
     "data": {
      "text/plain": [
       "'سلام دوستان، من علی نظری زاده هستم. امیدوارم که دوره برنامه نویسی پایتون براتون مفید بوده باشه.'"
      ]
     },
     "execution_count": 9,
     "metadata": {},
     "output_type": "execute_result"
    }
   ],
   "source": [
    "text2 = text.replace(\"\\n\", \" \")\n",
    "text2"
   ]
  },
  {
   "cell_type": "code",
   "execution_count": 10,
   "metadata": {},
   "outputs": [
    {
     "data": {
      "text/plain": [
       "'سلام دوستان، من علی نظری زاده هستم. امیدوارم که دوره برنامه نویسی سی شارپ براتون مفید بوده باشه.'"
      ]
     },
     "execution_count": 10,
     "metadata": {},
     "output_type": "execute_result"
    }
   ],
   "source": [
    "text3 = text2.replace(\"پایتون\", \"سی شارپ\")\n",
    "text3"
   ]
  },
  {
   "cell_type": "code",
   "execution_count": 12,
   "metadata": {},
   "outputs": [
    {
     "name": "stdout",
     "output_type": "stream",
     "text": [
      "My Nam\n"
     ]
    }
   ],
   "source": [
    "file = open(\"E:\\Python\\Python_Text.txt\", 'r')\n",
    "\n",
    "text2 = file.read(6)\n",
    "file.close()\n",
    "print(text2)"
   ]
  },
  {
   "cell_type": "code",
   "execution_count": 13,
   "metadata": {},
   "outputs": [
    {
     "name": "stdout",
     "output_type": "stream",
     "text": [
      "My Name is Ali Nazarizadeh.\n",
      "\n"
     ]
    }
   ],
   "source": [
    "file = open(\"E:\\Python\\Python_Text.txt\", 'r')\n",
    "text3 = file.readline()\n",
    "print(text3)"
   ]
  },
  {
   "cell_type": "code",
   "execution_count": 14,
   "metadata": {},
   "outputs": [
    {
     "name": "stdout",
     "output_type": "stream",
     "text": [
      "My Name is Ali Nazarizadeh.\n",
      "\n",
      "Python.\n",
      "\n",
      "Matlab.\n",
      "\n",
      "machine Learning.\n"
     ]
    }
   ],
   "source": [
    "file = open(\"E:\\Python\\Python_Text.txt\", 'r')\n",
    "\n",
    "for f in file:\n",
    "    print(f)"
   ]
  },
  {
   "cell_type": "code",
   "execution_count": 15,
   "metadata": {},
   "outputs": [
    {
     "name": "stdout",
     "output_type": "stream",
     "text": [
      "4\n",
      "['My Name is Ali Nazarizadeh.', 'Python.', 'Matlab.', 'machine Learning.']\n",
      "Python.\n"
     ]
    }
   ],
   "source": [
    "List = []\n",
    "file = open(\"E:\\Python\\Python_Text.txt\", 'r')\n",
    "\n",
    "for f in file:\n",
    "    n = f.replace('\\n', '')\n",
    "    List.append(n)\n",
    "    \n",
    "print(len(List))\n",
    "print(List)\n",
    "print(List[1])"
   ]
  },
  {
   "cell_type": "code",
   "execution_count": 16,
   "metadata": {},
   "outputs": [],
   "source": [
    "text1 = \"سلام من علی نظری زاده هستم\"\n",
    "\n",
    "text2 = \"\"\"آموزش پایتون\n",
    "هوش مصنوعی\n",
    "یادگیری ماشین\n",
    "دیتاساینس\n",
    "پردازش متن\n",
    "\"\"\"\n",
    "\n",
    "file2 = open(\"E:\\Python\\Python_Text3.txt\", 'w', encoding=\"Utf-8\")\n",
    "file2.writelines(text2)\n",
    "file2.close()"
   ]
  },
  {
   "cell_type": "code",
   "execution_count": 17,
   "metadata": {},
   "outputs": [],
   "source": [
    "file2 = open(\"E:\\Python\\Python_Text3.txt\", 'a', encoding=\"Utf-8\")\n",
    "file2.writelines(text1)\n",
    "file2.close()"
   ]
  },
  {
   "cell_type": "code",
   "execution_count": 18,
   "metadata": {},
   "outputs": [],
   "source": [
    "import math\n",
    "L1 = [math.sin(i) for i in range(100)]\n",
    "\n",
    "file2 = open(\"E:\\Python\\Python_Text4.txt\", 'a', encoding=\"Utf-8\")\n",
    "for i in L1:\n",
    "    file2.writelines(f\"\\n {i}\")\n",
    "file2.close()"
   ]
  },
  {
   "cell_type": "code",
   "execution_count": 19,
   "metadata": {},
   "outputs": [],
   "source": [
    "file2 = open(\"E:\\Python\\Python_Text5.txt\", 'a', encoding=\"Utf-8\")\n",
    "for i in range(100):\n",
    "    file2.writelines(f\"\\n sin {i} : {math.sin(i)}\")\n",
    "file2.close()"
   ]
  },
  {
   "cell_type": "code",
   "execution_count": 20,
   "metadata": {
    "collapsed": true
   },
   "outputs": [
    {
     "name": "stdout",
     "output_type": "stream",
     "text": [
      "\n",
      " sin 0 : 0.0\n",
      " sin 1 : 0.8414709848078965\n",
      " sin 2 : 0.9092974268256817\n",
      " sin 3 : 0.1411200080598672\n",
      " sin 4 : -0.7568024953079282\n",
      " sin 5 : -0.9589242746631385\n",
      " sin 6 : -0.27941549819892586\n",
      " sin 7 : 0.6569865987187891\n",
      " sin 8 : 0.9893582466233818\n",
      " sin 9 : 0.4121184852417566\n",
      " sin 10 : -0.5440211108893698\n",
      " sin 11 : -0.9999902065507035\n",
      " sin 12 : -0.5365729180004349\n",
      " sin 13 : 0.4201670368266409\n",
      " sin 14 : 0.9906073556948704\n",
      " sin 15 : 0.6502878401571168\n",
      " sin 16 : -0.2879033166650653\n",
      " sin 17 : -0.9613974918795568\n",
      " sin 18 : -0.7509872467716762\n",
      " sin 19 : 0.14987720966295234\n",
      " sin 20 : 0.9129452507276277\n",
      " sin 21 : 0.8366556385360561\n",
      " sin 22 : -0.008851309290403876\n",
      " sin 23 : -0.8462204041751706\n",
      " sin 24 : -0.9055783620066238\n",
      " sin 25 : -0.13235175009777303\n",
      " sin 26 : 0.7625584504796027\n",
      " sin 27 : 0.956375928404503\n",
      " sin 28 : 0.27090578830786904\n",
      " sin 29 : -0.6636338842129675\n",
      " sin 30 : -0.9880316240928618\n",
      " sin 31 : -0.404037645323065\n",
      " sin 32 : 0.5514266812416906\n",
      " sin 33 : 0.9999118601072672\n",
      " sin 34 : 0.5290826861200238\n",
      " sin 35 : -0.428182669496151\n",
      " sin 36 : -0.9917788534431158\n",
      " sin 37 : -0.6435381333569995\n",
      " sin 38 : 0.2963685787093853\n",
      " sin 39 : 0.9637953862840878\n",
      " sin 40 : 0.7451131604793488\n",
      " sin 41 : -0.158622668804709\n",
      " sin 42 : -0.9165215479156338\n",
      " sin 43 : -0.8317747426285983\n",
      " sin 44 : 0.017701925105413577\n",
      " sin 45 : 0.8509035245341184\n",
      " sin 46 : 0.9017883476488092\n",
      " sin 47 : 0.123573122745224\n",
      " sin 48 : -0.7682546613236668\n",
      " sin 49 : -0.9537526527594719\n",
      " sin 50 : -0.26237485370392877\n",
      " sin 51 : 0.6702291758433747\n",
      " sin 52 : 0.9866275920404853\n",
      " sin 53 : 0.39592515018183416\n",
      " sin 54 : -0.5587890488516163\n",
      " sin 55 : -0.9997551733586199\n",
      " sin 56 : -0.5215510020869119\n",
      " sin 57 : 0.43616475524782494\n",
      " sin 58 : 0.9928726480845371\n",
      " sin 59 : 0.6367380071391379\n",
      " sin 60 : -0.3048106211022167\n",
      " sin 61 : -0.9661177700083929\n",
      " sin 62 : -0.7391806966492228\n",
      " sin 63 : 0.16735570030280691\n",
      " sin 64 : 0.9200260381967907\n",
      " sin 65 : 0.8268286794901034\n",
      " sin 66 : -0.026551154023966794\n",
      " sin 67 : -0.8555199789753223\n",
      " sin 68 : -0.8979276806892913\n",
      " sin 69 : -0.11478481378318722\n",
      " sin 70 : 0.7738906815578891\n",
      " sin 71 : 0.9510546532543747\n",
      " sin 72 : 0.25382336276203626\n",
      " sin 73 : -0.6767719568873076\n",
      " sin 74 : -0.9851462604682474\n",
      " sin 75 : -0.38778163540943045\n",
      " sin 76 : 0.5661076368981803\n",
      " sin 77 : 0.9995201585807313\n",
      " sin 78 : 0.5139784559875352\n",
      " sin 79 : -0.4441126687075084\n",
      " sin 80 : -0.9938886539233752\n",
      " sin 81 : -0.6298879942744539\n",
      " sin 82 : 0.31322878243308516\n",
      " sin 83 : 0.9683644611001854\n",
      " sin 84 : 0.7331903200732922\n",
      " sin 85 : -0.1760756199485871\n",
      " sin 86 : -0.9234584470040598\n",
      " sin 87 : -0.8218178366308225\n",
      " sin 88 : 0.03539830273366068\n",
      " sin 89 : 0.8600694058124532\n",
      " sin 90 : 0.8939966636005579\n",
      " sin 91 : 0.10598751175115685\n",
      " sin 92 : -0.7794660696158047\n",
      " sin 93 : -0.9482821412699473\n",
      " sin 94 : -0.24525198546765434\n",
      " sin 95 : 0.683261714736121\n",
      " sin 96 : 0.9835877454343449\n",
      " sin 97 : 0.3796077390275217\n",
      " sin 98 : -0.5733818719904229\n",
      " sin 99 : -0.9992068341863537\n"
     ]
    }
   ],
   "source": [
    "with open (\"E:\\Python\\Python_Text5.txt\", 'r') as file:\n",
    "    text = file.read()\n",
    "    file.close()\n",
    "\n",
    "print(text)"
   ]
  },
  {
   "cell_type": "markdown",
   "metadata": {},
   "source": [
    "## Json"
   ]
  },
  {
   "cell_type": "code",
   "execution_count": 21,
   "metadata": {},
   "outputs": [
    {
     "name": "stdout",
     "output_type": "stream",
     "text": [
      "<class 'dict'>\n"
     ]
    }
   ],
   "source": [
    "import json\n",
    "\n",
    "with open('E:\\Python\\Python_json.json', 'r') as openfile:\n",
    "    json_object = json.load(openfile)\n",
    "\n",
    "print(type(json_object))"
   ]
  },
  {
   "cell_type": "code",
   "execution_count": 22,
   "metadata": {},
   "outputs": [
    {
     "data": {
      "text/plain": [
       "{'Teacher': {'Name': 'Ali',\n",
       "  'Family': 'Nazarizadeh',\n",
       "  'Age': 25,\n",
       "  'Gmail': 'computer.engineer.as@gmail.com'},\n",
       " 'Season': {'season1': 'تفکر برنامه نویسی و حل مسئله',\n",
       "  'season2': 'مسیر یادگیری پایتون و ابزارهای مورد نیاز',\n",
       "  'season3': 'عملگرها، رشته ها و ریاضیات',\n",
       "  'season4': 'حل مسائل عملگرها، رشته ها و ریاضیات',\n",
       "  'season5': 'دستورات شرطی، تصمیم گیری و حلقه ها',\n",
       "  'season6': 'حل مسائل دستورات شرطی، تصمیم گیری و حلقه ها',\n",
       "  'season7': ':مجموعه ها',\n",
       "  'season8': 'حل مسائل مجموعه ها',\n",
       "  'season9': 'لیست ها',\n",
       "  'season10': 'حل مسائل لیست ها'},\n",
       " 'Students': {'name': ['Reza', 'Afarin', 'Mehrnoush', 'Sina'],\n",
       "  'number': [56, 32, 48, 25]},\n",
       " 'Score': 20}"
      ]
     },
     "execution_count": 22,
     "metadata": {},
     "output_type": "execute_result"
    }
   ],
   "source": [
    "json_object"
   ]
  },
  {
   "cell_type": "code",
   "execution_count": 23,
   "metadata": {},
   "outputs": [
    {
     "data": {
      "text/plain": [
       "{'Name': 'Ali',\n",
       " 'Family': 'Nazarizadeh',\n",
       " 'Age': 25,\n",
       " 'Gmail': 'computer.engineer.as@gmail.com'}"
      ]
     },
     "execution_count": 23,
     "metadata": {},
     "output_type": "execute_result"
    }
   ],
   "source": [
    "json_object[\"Teacher\"]"
   ]
  },
  {
   "cell_type": "code",
   "execution_count": 24,
   "metadata": {},
   "outputs": [],
   "source": [
    "Python = {\n",
    "    \"Teacher\":\n",
    "    {\n",
    "        \"Name\": \"Ali\",\n",
    "        \"Family\": \"Nazarizadeh\",\n",
    "        \"Age\": 25,\n",
    "        \"Gmail\": \"computer.engineer.as@gmail.com\"\n",
    "    },\n",
    "    \n",
    "    \"Season\":\n",
    "    {\n",
    "        \"season1\": \"تفکر برنامه نویسی و حل مسئله\", \n",
    "        \"season2\": \"مسیر یادگیری پایتون و ابزارهای مورد نیاز\",\n",
    "        \"season3\": \"عملگرها، رشته ها و ریاضیات\" ,\n",
    "        \"season4\": \"حل مسائل عملگرها، رشته ها و ریاضیات\",\n",
    "        \"season5\": \"دستورات شرطی، تصمیم گیری و حلقه ها\",\n",
    "        \"season6\": \"حل مسائل دستورات شرطی، تصمیم گیری و حلقه ها\",\n",
    "        \"season7\": \":مجموعه ها\",\n",
    "        \"season8\": \"حل مسائل مجموعه ها\",\n",
    "        \"season9\": \"لیست ها\",\n",
    "        \"season10\": \"حل مسائل لیست ها\"\n",
    "    },\n",
    "    \n",
    "    \"Students\":\n",
    "    {\n",
    "        \"name\": [\"Reza\", \"Afarin\", \"Mehrnoush\", \"Sina\"],\n",
    "        \"number\": [56, 32, 48, 25]\n",
    "    },\n",
    "    \n",
    "    \"Score\": 20\n",
    "}"
   ]
  },
  {
   "cell_type": "code",
   "execution_count": 25,
   "metadata": {},
   "outputs": [],
   "source": [
    "with open('E:\\Python\\Python_json2.json', 'w', encoding=\"Utf-8\") as json_file:\n",
    "    json.dump(Python, json_file)\n",
    "json_file.close()"
   ]
  },
  {
   "cell_type": "markdown",
   "metadata": {},
   "source": [
    "## word"
   ]
  },
  {
   "cell_type": "code",
   "execution_count": null,
   "metadata": {},
   "outputs": [],
   "source": [
    "pip install python-docx"
   ]
  },
  {
   "cell_type": "code",
   "execution_count": 34,
   "metadata": {
    "scrolled": true
   },
   "outputs": [],
   "source": [
    "import docx"
   ]
  },
  {
   "cell_type": "code",
   "execution_count": 36,
   "metadata": {},
   "outputs": [],
   "source": [
    "word = open('E:\\Python\\word-file.docx', 'rb')\n",
    "\n",
    "word2 = docx.Document(word)"
   ]
  },
  {
   "cell_type": "code",
   "execution_count": 37,
   "metadata": {},
   "outputs": [],
   "source": [
    "text2 = \"\"\n",
    "for i in word2.paragraphs:\n",
    "    text2 += i.text"
   ]
  },
  {
   "cell_type": "code",
   "execution_count": 38,
   "metadata": {},
   "outputs": [
    {
     "data": {
      "text/plain": [
       "'سلام دوستان وقتتون بخیر.امیدوارم که تا این جای دوره، از مطالب لذت برده باشید.آموزش جامع زبان برنامه نویسی پایتون.'"
      ]
     },
     "execution_count": 38,
     "metadata": {},
     "output_type": "execute_result"
    }
   ],
   "source": [
    "text2"
   ]
  },
  {
   "cell_type": "code",
   "execution_count": 39,
   "metadata": {},
   "outputs": [
    {
     "data": {
      "text/plain": [
       "'سلام دوستان وقتتون بخیر.امیدوارم که تا این جای دوره، از مطالب لذت برده باشید.آموزش جامع زبان برنامه نویسی پایتون.'"
      ]
     },
     "execution_count": 39,
     "metadata": {},
     "output_type": "execute_result"
    }
   ],
   "source": [
    "text2 = text2.replace(\"\\n\", '.')\n",
    "text2"
   ]
  },
  {
   "cell_type": "code",
   "execution_count": 40,
   "metadata": {},
   "outputs": [],
   "source": [
    "text = \"\"\"\n",
    "Python,\n",
    "C#,\n",
    "Java,\n",
    "Matlab,\n",
    "C++,\n",
    "Mongo DB\n",
    "\"\"\"\n",
    "\n",
    "my_doc = docx.Document()\n",
    "\n",
    "my_doc.add_paragraph(text)\n",
    "\n",
    "my_doc.save(\"E:\\Python\\word-file2.docx\")"
   ]
  },
  {
   "cell_type": "markdown",
   "metadata": {},
   "source": [
    "## PDF"
   ]
  },
  {
   "cell_type": "code",
   "execution_count": null,
   "metadata": {},
   "outputs": [],
   "source": [
    "pip install PyPDF2"
   ]
  },
  {
   "cell_type": "code",
   "execution_count": 41,
   "metadata": {},
   "outputs": [],
   "source": [
    "import PyPDF2"
   ]
  },
  {
   "cell_type": "code",
   "execution_count": 42,
   "metadata": {},
   "outputs": [],
   "source": [
    "pdf = open(\"E:\\Python\\pdf-file.pdf\", 'rb')"
   ]
  },
  {
   "cell_type": "code",
   "execution_count": 43,
   "metadata": {},
   "outputs": [],
   "source": [
    "pdf_reader = PyPDF2.PdfFileReader(pdf)"
   ]
  },
  {
   "cell_type": "code",
   "execution_count": null,
   "metadata": {},
   "outputs": [],
   "source": [
    "PyPDF2."
   ]
  },
  {
   "cell_type": "code",
   "execution_count": null,
   "metadata": {},
   "outputs": [],
   "source": [
    "pdf_reader."
   ]
  },
  {
   "cell_type": "code",
   "execution_count": 44,
   "metadata": {},
   "outputs": [
    {
     "data": {
      "text/plain": [
       "2"
      ]
     },
     "execution_count": 44,
     "metadata": {},
     "output_type": "execute_result"
    }
   ],
   "source": [
    "pdf_reader.numPages"
   ]
  },
  {
   "cell_type": "code",
   "execution_count": 48,
   "metadata": {},
   "outputs": [],
   "source": [
    "page = pdf_reader.getPage(1)"
   ]
  },
  {
   "cell_type": "code",
   "execution_count": 49,
   "metadata": {},
   "outputs": [],
   "source": [
    "x = page.extractText()"
   ]
  },
  {
   "cell_type": "code",
   "execution_count": 50,
   "metadata": {
    "collapsed": true
   },
   "outputs": [
    {
     "data": {
      "text/plain": [
       "' semiconductor optical amplifiers,\\n16 light-emitting \\ndiodes,\\n17 and solar cells.\\n18 In case of the laser example\\n, the authors try to deduce the laser design from the \\ndesired light-current (LI) characteristic. But instead of \\ntypical design parameters such as wavelength, \\n\\nmaterials, layer thicknesses, and facet reflectivity, \\n\\npractically unknown modeling parameters are used for \\n\\nANN training, such as injection efficiency and \\n\\ntemperature coefficients.\\n15 Based on such training, the \\ninverse ANN design produces many broadly scattered \\n\\nparameter sets for the same LI characteristic. Further \\n\\nmachine learning pitfalls in optoelectronic device \\n\\ndesign are evaluated elsewhere.\\n19  \\n Most of these examples operate within the \\n\\nvirtual reality created by numerical simulations (Fig. \\n1).  The quantitative validation of models and results \\nby measurements is missing. In order to achieve more \\nrealistic predictions, several improvement options are \\n\\nsuggested in the following. \\n  Fig\\n. 2: Reported Auger recombination coefficients. \\n  A main source of simulation uncertainties are \\n\\nthe material properties used in the model\\n. Published \\nvalues of some key parameters scatter widely (Fig. \\n\\n2).\\n20  The analysis of such variations as well as their \\nimplementation in the numerical procedure can help \\nestablishing error ranges for simulation results.\\n21  \\n The Materials Genome Initiative provides \\nmany good examples for the synergetic combination of \\n\\ntheoretical models, computational methods, and \\n\\nexperimental procedures.\\n22,23 This may lead to more \\nreliable models of optoelectronic material properties \\n\\nemployable by device simulations. \\n Key processes in optoelectronic devices, such \\n\\nas the optical gain, are often represented by simplified \\n\\nmodels to reduce the computation time of full device \\n\\nsimulations\\n. High-end models for such complex \\nprocesses can be calculated separately and then \\n\\nimported into the device simulation via ANN or other \\n\\nsuitable means.\\n24  \\n Assumptions about the simulated device are \\n\\nusually based on design intentions and not on the \\nstructure actually fabricated, hindering a comparison \\nbetween simulation and experiment. Typical examples \\nare layer thicknesses, material compositions, and \\ndoping profiles. Direct measurements of such \\nstructural data should be preferred in the simulation \\nsetup, whenever possible. \\n The initial disagreement between simulation \\n\\nresults and performance measurements is often \\n\\neliminated by adjusting parameters in the model.\\n25 However, this is a slow iterative process mostly based \\n\\non intuition. Each parameter usually requires \\na different measurement for calibration\\n. Such multi-\\ndimensional fitting procedure opens the door for \\n\\nmachine learning from experimental data. As most \\n\\nmaterial parameters change with temperature\\n, improved strategies are especially needed when \\n\\nthermal effects are releva\\nnt.        \\n The industrial fabrication of optoelectronic \\ndevices often \\nincludes the automatic acquisition of \\nperformance data from various measurements. Some \\ndata scatter significantly, which may be related to \\n\\nunintended processing fluctuations. ANNs can be used \\n\\nto analyze such experimental variations and, e.g., \\n\\nselect the set of measured data that is most appropriate \\nfor evaluating and calibrating simulations\\n.   Generative adversarial networks (GANs) are \\nincreasingly popular in deep learning applications.\\n26 They may be able to combine simulation-based and \\n\\nexperimental input and help linking theory and reality.  \\n In conclusion\\n, the popular combination of \\ninductive and deductive computational methods \\n\\ntypically suffers from an insufficient inclusion of \\nexperimental data. Several approaches are proposed to \\nbridge the resulting gap between theory and reality, \\n\\nwhich is expected to improve the impact and the \\nreputation of numerical simulations.\\n       REFERENCES \\n                                                \\n 1 Y. LeCunn et al., Nature 531 (2015) 436 \\n2 D. Heaven, Nature 574 (2019) 163 \\n3 J. Schmidt et al., Comp. Mat. \\n5 (2019) 83\\n 4 B. Kailkhura, Comp. Mat. 5 (2019) 108\\n 5 A. Zunger, Nature 566 (2019) 447\\n 6 W. Gao et al., Opt. Expr. 28 (2020) 10438 \\n7 S. Chough et al., Optics Express 27 (2019) 36414 \\n8 M. H. Tahersima et al., Scient. Rep\\n.  9 (2019) 1368 \\n9 K. Yao et al., Nanophot. 8 (2019) 339 \\n10 T. Zhang et al., Photon. Research 7 (2019) 368 \\n11 J. Jiang et al., Nanophot\\n. 2019\\n-0330 (online) \\n12 R. Trivedi et al., Sci. Rep. \\n9 (2019) 12728 \\n13 S. Molesky et al., Nature Phot. 12 (2018) 659 \\n14 D. Zhu et al., Appl. \\nPhys. Expr. 5 (2012) 012102\\n 15 Z. Ma et al., SPIE Proc. 11209 (2019) \\n112092X\\n 16 F. Hakimian et al., Opt. Quant. Electr. 52 (2020\\n) 48 17 B. Rouet-Leduc et al., Sci. Rep. 6 (2016) 24862 \\n18 A. A. B. Baloch et al., Sci. Rep. 7 (2017) 11984 \\n19 J. Piprek, https://doi.org/10.36227/techrxiv.12540224.v1 \\n20 J. Piprek et al., Appl. Phys. Lett. 106 (2015) 101101 \\n 21 J. Piprek, Opt. Quant. Electr. 51 (2019) 60 \\n22 J. J. de Pablo et al., Comp. Mat.  \\n5 (2019) 41 \\n23 T. Lookman et al., Comp. Mat. 5 (2019) 21 \\n24 J. Piprek et al., \\nSPIE Proc. 5729 (2005) 170\\n 25 J. Piprek et al., J. Quant. Electron. 38 (2002) 1253 \\n26 I. Goodfellow, https://arxiv.org/abs/1701.00160\\n '"
      ]
     },
     "execution_count": 50,
     "metadata": {},
     "output_type": "execute_result"
    }
   ],
   "source": [
    "x"
   ]
  },
  {
   "cell_type": "code",
   "execution_count": null,
   "metadata": {},
   "outputs": [],
   "source": [
    "len(x)"
   ]
  },
  {
   "cell_type": "markdown",
   "metadata": {},
   "source": [
    "## CSV, Excel: در جلسات بعدی بررسی خواهند شد"
   ]
  },
  {
   "cell_type": "code",
   "execution_count": null,
   "metadata": {},
   "outputs": [],
   "source": []
  }
 ],
 "metadata": {
  "kernelspec": {
   "display_name": "Python 3",
   "language": "python",
   "name": "python3"
  },
  "language_info": {
   "codemirror_mode": {
    "name": "ipython",
    "version": 3
   },
   "file_extension": ".py",
   "mimetype": "text/x-python",
   "name": "python",
   "nbconvert_exporter": "python",
   "pygments_lexer": "ipython3",
   "version": "3.8.8"
  }
 },
 "nbformat": 4,
 "nbformat_minor": 4
}
