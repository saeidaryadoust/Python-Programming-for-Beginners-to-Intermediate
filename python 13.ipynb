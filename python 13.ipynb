{
 "cells": [
  {
   "cell_type": "markdown",
   "id": "37d1a3c7",
   "metadata": {},
   "source": [
    "# Human"
   ]
  },
  {
   "cell_type": "code",
   "execution_count": 131,
   "id": "a3294ab2",
   "metadata": {},
   "outputs": [],
   "source": [
    "class Human1:\n",
    "    Name = \"jack\"\n",
    "    Family = \"jj\"\n",
    "    City = \"Tehran\"\n",
    "    Age = 25\n",
    "    Friends = [\"Mohammad\", \"Rasoul\"]\n",
    "    Expert = [\"AI\", \"Machine Learning\", \"NLP\"]\n",
    "    \n",
    "    def Full_Name(self):\n",
    "        return self.Name + \" \" + self.Family\n",
    "    \n",
    "    def Guess_Number(self, a, b):\n",
    "        import random\n",
    "        x = random.randint(a, b)\n",
    "        return x\n",
    "    \n",
    "    def Say(self):\n",
    "        return \"hello I am a Human\""
   ]
  },
  {
   "cell_type": "code",
   "execution_count": 132,
   "id": "f5691951",
   "metadata": {},
   "outputs": [],
   "source": [
    "Ali = Human1()"
   ]
  },
  {
   "cell_type": "code",
   "execution_count": null,
   "id": "b4974d5e",
   "metadata": {},
   "outputs": [],
   "source": []
  },
  {
   "cell_type": "code",
   "execution_count": 133,
   "id": "ef9ff567",
   "metadata": {},
   "outputs": [
    {
     "data": {
      "text/plain": [
       "'jack jj'"
      ]
     },
     "execution_count": 133,
     "metadata": {},
     "output_type": "execute_result"
    }
   ],
   "source": [
    "Ali.Full_Name()"
   ]
  },
  {
   "cell_type": "code",
   "execution_count": 134,
   "id": "84ea5366",
   "metadata": {},
   "outputs": [
    {
     "data": {
      "text/plain": [
       "12"
      ]
     },
     "execution_count": 134,
     "metadata": {},
     "output_type": "execute_result"
    }
   ],
   "source": [
    "Ali.Guess_Number(2, 30)"
   ]
  },
  {
   "cell_type": "code",
   "execution_count": 135,
   "id": "ec6f0ea7",
   "metadata": {},
   "outputs": [
    {
     "data": {
      "text/plain": [
       "'hello I am a Human'"
      ]
     },
     "execution_count": 135,
     "metadata": {},
     "output_type": "execute_result"
    }
   ],
   "source": [
    "Ali.Say()"
   ]
  },
  {
   "cell_type": "code",
   "execution_count": 136,
   "id": "8b0e7954",
   "metadata": {},
   "outputs": [
    {
     "data": {
      "text/plain": [
       "'Tehran'"
      ]
     },
     "execution_count": 136,
     "metadata": {},
     "output_type": "execute_result"
    }
   ],
   "source": [
    "Ali.City"
   ]
  },
  {
   "cell_type": "code",
   "execution_count": 137,
   "id": "b31094f6",
   "metadata": {},
   "outputs": [
    {
     "data": {
      "text/plain": [
       "'jack'"
      ]
     },
     "execution_count": 137,
     "metadata": {},
     "output_type": "execute_result"
    }
   ],
   "source": [
    "Ali.Name"
   ]
  },
  {
   "cell_type": "code",
   "execution_count": 138,
   "id": "c8faab21",
   "metadata": {},
   "outputs": [
    {
     "data": {
      "text/plain": [
       "'Sina'"
      ]
     },
     "execution_count": 138,
     "metadata": {},
     "output_type": "execute_result"
    }
   ],
   "source": [
    "Ali.Name = \"Sina\"\n",
    "Ali.Name"
   ]
  },
  {
   "cell_type": "code",
   "execution_count": 139,
   "id": "42a52dda",
   "metadata": {},
   "outputs": [
    {
     "data": {
      "text/plain": [
       "'Kermanshah'"
      ]
     },
     "execution_count": 139,
     "metadata": {},
     "output_type": "execute_result"
    }
   ],
   "source": [
    "Ali.City = \"Kermanshah\"\n",
    "Ali.City"
   ]
  },
  {
   "cell_type": "code",
   "execution_count": null,
   "id": "aa6a51fe",
   "metadata": {},
   "outputs": [],
   "source": []
  },
  {
   "cell_type": "code",
   "execution_count": 140,
   "id": "df899d85",
   "metadata": {},
   "outputs": [],
   "source": [
    "Mohsen = Human1()"
   ]
  },
  {
   "cell_type": "code",
   "execution_count": 141,
   "id": "c9c32ced",
   "metadata": {},
   "outputs": [],
   "source": [
    "Mohsen.Name = \"Mohsen\"\n",
    "Mohsen.Family = \"Farhadi\"\n",
    "Mohsen.City = \"Sanandej\"\n",
    "Mohsen.Age = 18\n",
    "Mohsen.Friend = \"Farhad\"\n",
    "Mohsen.Expert = [\"C++\", \"Python\"]"
   ]
  },
  {
   "cell_type": "code",
   "execution_count": null,
   "id": "2737cdab",
   "metadata": {},
   "outputs": [],
   "source": []
  },
  {
   "cell_type": "code",
   "execution_count": 142,
   "id": "7dc3f6fb",
   "metadata": {},
   "outputs": [
    {
     "name": "stdout",
     "output_type": "stream",
     "text": [
      "Sina\n",
      "jj\n",
      "['AI', 'Machine Learning', 'NLP']\n",
      "Sina jj\n"
     ]
    }
   ],
   "source": [
    "print(Ali.Name)\n",
    "print(Ali.Family)\n",
    "print(Ali.Expert)\n",
    "print(Ali.Full_Name())"
   ]
  },
  {
   "cell_type": "code",
   "execution_count": 143,
   "id": "9a2f2fa0",
   "metadata": {},
   "outputs": [
    {
     "name": "stdout",
     "output_type": "stream",
     "text": [
      "Mohsen\n",
      "Farhadi\n",
      "['C++', 'Python']\n",
      "Mohsen Farhadi\n"
     ]
    }
   ],
   "source": [
    "print(Mohsen.Name)\n",
    "print(Mohsen.Family)\n",
    "print(Mohsen.Expert)\n",
    "print(Mohsen.Full_Name())"
   ]
  },
  {
   "cell_type": "code",
   "execution_count": null,
   "id": "760c8e95",
   "metadata": {},
   "outputs": [],
   "source": []
  },
  {
   "cell_type": "code",
   "execution_count": 144,
   "id": "9578af2c",
   "metadata": {},
   "outputs": [],
   "source": [
    "Str1 = \"Python Programming\"\n",
    "List1 = list()\n",
    "Set1 = set()\n",
    "Tup1 = tuple()\n",
    "Dict1 = dict()"
   ]
  },
  {
   "cell_type": "code",
   "execution_count": 145,
   "id": "314397cf",
   "metadata": {},
   "outputs": [
    {
     "data": {
      "text/plain": [
       "0.8939966636005579"
      ]
     },
     "execution_count": 145,
     "metadata": {},
     "output_type": "execute_result"
    }
   ],
   "source": [
    "import math\n",
    "math.sin(90)"
   ]
  },
  {
   "cell_type": "code",
   "execution_count": 146,
   "id": "c8445ef4",
   "metadata": {},
   "outputs": [],
   "source": [
    "############################################################################################"
   ]
  },
  {
   "cell_type": "code",
   "execution_count": 147,
   "id": "c884884d",
   "metadata": {},
   "outputs": [],
   "source": [
    "class Human2:\n",
    "    Name = \"jack\"\n",
    "    Family = \"jj\"\n",
    "    City = \"Tehran\"\n",
    "    Age = 25\n",
    "    Friend = [\"Mohammad\", \"Rasoul\",\"\"]\n",
    "    Expert = [\"AI\", \"Machine Learning\", \"NLP\"]\n",
    "    \n",
    "    def Full_Name(self):\n",
    "        return self.Name + \" \" + self.Family\n",
    "    \n",
    "    def Guess_Number(self, a, b):\n",
    "        import random\n",
    "        x = random.randint(a, b)\n",
    "        return x\n",
    "    \n",
    "    def Say(self):\n",
    "        return \"hello I am a Human\"\n",
    "    \n",
    "    def __init__(self, name = 'jack', family = 'jj', city = 'Tehran', age = 25, friend =[\"Mohammad\", \"Rasoul\",\"\"], expert = [\"AI\", \"Machine Learning\", \"NLP\"]):\n",
    "        self.Name = name\n",
    "        self.Family = family\n",
    "        self.City = city\n",
    "        self.Age = age\n",
    "        self.Friend = friend\n",
    "        self.Expert = expert\n"
   ]
  },
  {
   "cell_type": "code",
   "execution_count": 148,
   "id": "add50a70",
   "metadata": {},
   "outputs": [
    {
     "name": "stdout",
     "output_type": "stream",
     "text": [
      "jack jj\n"
     ]
    }
   ],
   "source": [
    "Reza = Human2()\n",
    "\n",
    "print( Reza.Full_Name() )  "
   ]
  },
  {
   "cell_type": "code",
   "execution_count": 149,
   "id": "9d52c490",
   "metadata": {},
   "outputs": [],
   "source": [
    "User1 = Human2()\n",
    "User1.Name = \"Fatemeh\"\n",
    "User1.Family = \"Jalali\"\n",
    "User1.City = \"Tehran\"\n",
    "User1.Age = 20\n",
    "User1.Expert = [\"NLP\", 'Python', 'C++']\n",
    "User1.Friend = [\"Zahra\", \"Zeynab\", \"Sara\"]"
   ]
  },
  {
   "cell_type": "code",
   "execution_count": 150,
   "id": "e8b8aae1",
   "metadata": {},
   "outputs": [
    {
     "name": "stdout",
     "output_type": "stream",
     "text": [
      "Fatemeh\n",
      "Jalali\n",
      "20\n",
      "Tehran\n",
      "['NLP', 'Python', 'C++']\n",
      "['Zahra', 'Zeynab', 'Sara']\n",
      "Fatemeh Jalali\n"
     ]
    }
   ],
   "source": [
    "print(User1.Name)\n",
    "print(User1.Family)\n",
    "print(User1.Age)\n",
    "print(User1.City)\n",
    "print(User1.Expert)\n",
    "print(User1.Friend)\n",
    "print(User1.Full_Name())"
   ]
  },
  {
   "cell_type": "code",
   "execution_count": 151,
   "id": "77c7526c",
   "metadata": {},
   "outputs": [],
   "source": [
    "Friend =[\"Abbas\", \"Nima\"]\n",
    "Expert = ['SQL', 'HTML', 'CSS']\n",
    "\n",
    "User2 = Human2(name = 'Ahmad', family = 'Moradi', city = 'Karaj', age = 38, friend = Friend, expert = Expert)"
   ]
  },
  {
   "cell_type": "code",
   "execution_count": 152,
   "id": "01918e58",
   "metadata": {},
   "outputs": [
    {
     "name": "stdout",
     "output_type": "stream",
     "text": [
      "Ahmad\n",
      "Moradi\n",
      "38\n",
      "Karaj\n",
      "['SQL', 'HTML', 'CSS']\n",
      "['Abbas', 'Nima']\n",
      "Ahmad Moradi\n"
     ]
    }
   ],
   "source": [
    "print(User2.Name)\n",
    "print(User2.Family)\n",
    "print(User2.Age)\n",
    "print(User2.City)\n",
    "print(User2.Expert)\n",
    "print(User2.Friend)\n",
    "print(User2.Full_Name())"
   ]
  },
  {
   "cell_type": "code",
   "execution_count": 153,
   "id": "9c354703",
   "metadata": {},
   "outputs": [],
   "source": [
    "############################################################################################"
   ]
  },
  {
   "cell_type": "code",
   "execution_count": 154,
   "id": "d7180199",
   "metadata": {},
   "outputs": [],
   "source": [
    "class Human3:\n",
    "\n",
    "    def __init__(self, name='', pregnancies='', glucose='', bloodPressure='', skinThickness='', insulin='', bmi='', diabetesPedigreeFunction='', age='', outcome=''):\n",
    "        self.Name = name\n",
    "        self.Pregnancies = pregnancies\n",
    "        self.Glucose = glucose\n",
    "        self.BloodPressure = bloodPressure\n",
    "        self.SkinThickness = skinThickness\n",
    "        self.Insulin = insulin\n",
    "        self.BMI = bmi\n",
    "        self.DiabetesPedigreeFunction = diabetesPedigreeFunction\n",
    "        self.Age = age\n",
    "        self.Outcome = outcome\n",
    "        \n",
    "    def Check(self, df):\n",
    "        x = df [df[\"Name\"] == self.Name ] [\"Outcome\"] \n",
    "        x2 = x.to_numpy()\n",
    "        if x2[0] == 0:\n",
    "            return \"دیابت ندارد\"\n",
    "        elif x2[0] == 1:\n",
    "            return \"دیابت دارد\"\n",
    "        "
   ]
  },
  {
   "cell_type": "code",
   "execution_count": 155,
   "id": "fca4256e",
   "metadata": {},
   "outputs": [],
   "source": [
    "User1 = Human3('Ali', 6, 148, 72, 35, 0, 33.6, 0.627, 50, 0)"
   ]
  },
  {
   "cell_type": "code",
   "execution_count": 157,
   "id": "ed77798e",
   "metadata": {},
   "outputs": [
    {
     "name": "stderr",
     "output_type": "stream",
     "text": [
      "<>:3: SyntaxWarning: invalid escape sequence '\\G'\n",
      "<>:3: SyntaxWarning: invalid escape sequence '\\G'\n",
      "C:\\Users\\saeid\\AppData\\Local\\Temp\\ipykernel_9192\\2108600213.py:3: SyntaxWarning: invalid escape sequence '\\G'\n",
      "  df = pd.read_csv(\"\\\\?\\G:\\paython--\\04 python\\01-1آموزشی جامع زبان برنامه نویسی پایتون و یادگیری ماشین با رویکرد حل مساله نظری زاده\\bigdataworld [python-programming-machine-learning]\\bigdataworld [python-programming-machine-learning]\\bigdataworld [python-programming-machine-learning]\\Datasets\")\n",
      "C:\\Users\\saeid\\AppData\\Local\\Temp\\ipykernel_9192\\2108600213.py:3: SyntaxWarning: invalid escape sequence '\\G'\n",
      "  df = pd.read_csv(\"\\\\?\\G:\\paython--\\04 python\\01-1آموزشی جامع زبان برنامه نویسی پایتون و یادگیری ماشین با رویکرد حل مساله نظری زاده\\bigdataworld [python-programming-machine-learning]\\bigdataworld [python-programming-machine-learning]\\bigdataworld [python-programming-machine-learning]\\Datasets\")\n"
     ]
    },
    {
     "ename": "OSError",
     "evalue": "[Errno 22] Invalid argument: '\\\\?\\\\G:\\\\paython--\\x04 python\\x01-1آموزشی جامع زبان برنامه نویسی پایتون و یادگیری ماشین با رویکرد حل مساله نظری زاده\\x08igdataworld [python-programming-machine-learning]\\x08igdataworld [python-programming-machine-learning]\\x08igdataworld [python-programming-machine-learning]\\\\Datasets'",
     "output_type": "error",
     "traceback": [
      "\u001b[1;31m---------------------------------------------------------------------------\u001b[0m",
      "\u001b[1;31mOSError\u001b[0m                                   Traceback (most recent call last)",
      "Cell \u001b[1;32mIn[157], line 3\u001b[0m\n\u001b[0;32m      1\u001b[0m \u001b[38;5;28;01mimport\u001b[39;00m \u001b[38;5;21;01mpandas\u001b[39;00m \u001b[38;5;28;01mas\u001b[39;00m \u001b[38;5;21;01mpd\u001b[39;00m\n\u001b[1;32m----> 3\u001b[0m df \u001b[38;5;241m=\u001b[39m \u001b[43mpd\u001b[49m\u001b[38;5;241;43m.\u001b[39;49m\u001b[43mread_csv\u001b[49m\u001b[43m(\u001b[49m\u001b[38;5;124;43m\"\u001b[39;49m\u001b[38;5;130;43;01m\\\\\u001b[39;49;00m\u001b[38;5;124;43m?\u001b[39;49m\u001b[38;5;124;43m\\\u001b[39;49m\u001b[38;5;124;43mG:\u001b[39;49m\u001b[38;5;124;43m\\\u001b[39;49m\u001b[38;5;124;43mpaython--\u001b[39;49m\u001b[38;5;130;43;01m\\04\u001b[39;49;00m\u001b[38;5;124;43m python\u001b[39;49m\u001b[38;5;130;43;01m\\01\u001b[39;49;00m\u001b[38;5;124;43m-1آموزشی جامع زبان برنامه نویسی پایتون و یادگیری ماشین با رویکرد حل مساله نظری زاده\u001b[39;49m\u001b[38;5;130;43;01m\\b\u001b[39;49;00m\u001b[38;5;124;43migdataworld [python-programming-machine-learning]\u001b[39;49m\u001b[38;5;130;43;01m\\b\u001b[39;49;00m\u001b[38;5;124;43migdataworld [python-programming-machine-learning]\u001b[39;49m\u001b[38;5;130;43;01m\\b\u001b[39;49;00m\u001b[38;5;124;43migdataworld [python-programming-machine-learning]\u001b[39;49m\u001b[38;5;124;43m\\\u001b[39;49m\u001b[38;5;124;43mDatasets\u001b[39;49m\u001b[38;5;124;43m\"\u001b[39;49m\u001b[43m)\u001b[49m\n\u001b[0;32m      4\u001b[0m df\u001b[38;5;241m.\u001b[39miloc[\u001b[38;5;241m0\u001b[39m]\n",
      "File \u001b[1;32m~\\AppData\\Roaming\\Python\\Python312\\site-packages\\pandas\\io\\parsers\\readers.py:1026\u001b[0m, in \u001b[0;36mread_csv\u001b[1;34m(filepath_or_buffer, sep, delimiter, header, names, index_col, usecols, dtype, engine, converters, true_values, false_values, skipinitialspace, skiprows, skipfooter, nrows, na_values, keep_default_na, na_filter, verbose, skip_blank_lines, parse_dates, infer_datetime_format, keep_date_col, date_parser, date_format, dayfirst, cache_dates, iterator, chunksize, compression, thousands, decimal, lineterminator, quotechar, quoting, doublequote, escapechar, comment, encoding, encoding_errors, dialect, on_bad_lines, delim_whitespace, low_memory, memory_map, float_precision, storage_options, dtype_backend)\u001b[0m\n\u001b[0;32m   1013\u001b[0m kwds_defaults \u001b[38;5;241m=\u001b[39m _refine_defaults_read(\n\u001b[0;32m   1014\u001b[0m     dialect,\n\u001b[0;32m   1015\u001b[0m     delimiter,\n\u001b[1;32m   (...)\u001b[0m\n\u001b[0;32m   1022\u001b[0m     dtype_backend\u001b[38;5;241m=\u001b[39mdtype_backend,\n\u001b[0;32m   1023\u001b[0m )\n\u001b[0;32m   1024\u001b[0m kwds\u001b[38;5;241m.\u001b[39mupdate(kwds_defaults)\n\u001b[1;32m-> 1026\u001b[0m \u001b[38;5;28;01mreturn\u001b[39;00m \u001b[43m_read\u001b[49m\u001b[43m(\u001b[49m\u001b[43mfilepath_or_buffer\u001b[49m\u001b[43m,\u001b[49m\u001b[43m \u001b[49m\u001b[43mkwds\u001b[49m\u001b[43m)\u001b[49m\n",
      "File \u001b[1;32m~\\AppData\\Roaming\\Python\\Python312\\site-packages\\pandas\\io\\parsers\\readers.py:620\u001b[0m, in \u001b[0;36m_read\u001b[1;34m(filepath_or_buffer, kwds)\u001b[0m\n\u001b[0;32m    617\u001b[0m _validate_names(kwds\u001b[38;5;241m.\u001b[39mget(\u001b[38;5;124m\"\u001b[39m\u001b[38;5;124mnames\u001b[39m\u001b[38;5;124m\"\u001b[39m, \u001b[38;5;28;01mNone\u001b[39;00m))\n\u001b[0;32m    619\u001b[0m \u001b[38;5;66;03m# Create the parser.\u001b[39;00m\n\u001b[1;32m--> 620\u001b[0m parser \u001b[38;5;241m=\u001b[39m \u001b[43mTextFileReader\u001b[49m\u001b[43m(\u001b[49m\u001b[43mfilepath_or_buffer\u001b[49m\u001b[43m,\u001b[49m\u001b[43m \u001b[49m\u001b[38;5;241;43m*\u001b[39;49m\u001b[38;5;241;43m*\u001b[39;49m\u001b[43mkwds\u001b[49m\u001b[43m)\u001b[49m\n\u001b[0;32m    622\u001b[0m \u001b[38;5;28;01mif\u001b[39;00m chunksize \u001b[38;5;129;01mor\u001b[39;00m iterator:\n\u001b[0;32m    623\u001b[0m     \u001b[38;5;28;01mreturn\u001b[39;00m parser\n",
      "File \u001b[1;32m~\\AppData\\Roaming\\Python\\Python312\\site-packages\\pandas\\io\\parsers\\readers.py:1620\u001b[0m, in \u001b[0;36mTextFileReader.__init__\u001b[1;34m(self, f, engine, **kwds)\u001b[0m\n\u001b[0;32m   1617\u001b[0m     \u001b[38;5;28mself\u001b[39m\u001b[38;5;241m.\u001b[39moptions[\u001b[38;5;124m\"\u001b[39m\u001b[38;5;124mhas_index_names\u001b[39m\u001b[38;5;124m\"\u001b[39m] \u001b[38;5;241m=\u001b[39m kwds[\u001b[38;5;124m\"\u001b[39m\u001b[38;5;124mhas_index_names\u001b[39m\u001b[38;5;124m\"\u001b[39m]\n\u001b[0;32m   1619\u001b[0m \u001b[38;5;28mself\u001b[39m\u001b[38;5;241m.\u001b[39mhandles: IOHandles \u001b[38;5;241m|\u001b[39m \u001b[38;5;28;01mNone\u001b[39;00m \u001b[38;5;241m=\u001b[39m \u001b[38;5;28;01mNone\u001b[39;00m\n\u001b[1;32m-> 1620\u001b[0m \u001b[38;5;28mself\u001b[39m\u001b[38;5;241m.\u001b[39m_engine \u001b[38;5;241m=\u001b[39m \u001b[38;5;28;43mself\u001b[39;49m\u001b[38;5;241;43m.\u001b[39;49m\u001b[43m_make_engine\u001b[49m\u001b[43m(\u001b[49m\u001b[43mf\u001b[49m\u001b[43m,\u001b[49m\u001b[43m \u001b[49m\u001b[38;5;28;43mself\u001b[39;49m\u001b[38;5;241;43m.\u001b[39;49m\u001b[43mengine\u001b[49m\u001b[43m)\u001b[49m\n",
      "File \u001b[1;32m~\\AppData\\Roaming\\Python\\Python312\\site-packages\\pandas\\io\\parsers\\readers.py:1880\u001b[0m, in \u001b[0;36mTextFileReader._make_engine\u001b[1;34m(self, f, engine)\u001b[0m\n\u001b[0;32m   1878\u001b[0m     \u001b[38;5;28;01mif\u001b[39;00m \u001b[38;5;124m\"\u001b[39m\u001b[38;5;124mb\u001b[39m\u001b[38;5;124m\"\u001b[39m \u001b[38;5;129;01mnot\u001b[39;00m \u001b[38;5;129;01min\u001b[39;00m mode:\n\u001b[0;32m   1879\u001b[0m         mode \u001b[38;5;241m+\u001b[39m\u001b[38;5;241m=\u001b[39m \u001b[38;5;124m\"\u001b[39m\u001b[38;5;124mb\u001b[39m\u001b[38;5;124m\"\u001b[39m\n\u001b[1;32m-> 1880\u001b[0m \u001b[38;5;28mself\u001b[39m\u001b[38;5;241m.\u001b[39mhandles \u001b[38;5;241m=\u001b[39m \u001b[43mget_handle\u001b[49m\u001b[43m(\u001b[49m\n\u001b[0;32m   1881\u001b[0m \u001b[43m    \u001b[49m\u001b[43mf\u001b[49m\u001b[43m,\u001b[49m\n\u001b[0;32m   1882\u001b[0m \u001b[43m    \u001b[49m\u001b[43mmode\u001b[49m\u001b[43m,\u001b[49m\n\u001b[0;32m   1883\u001b[0m \u001b[43m    \u001b[49m\u001b[43mencoding\u001b[49m\u001b[38;5;241;43m=\u001b[39;49m\u001b[38;5;28;43mself\u001b[39;49m\u001b[38;5;241;43m.\u001b[39;49m\u001b[43moptions\u001b[49m\u001b[38;5;241;43m.\u001b[39;49m\u001b[43mget\u001b[49m\u001b[43m(\u001b[49m\u001b[38;5;124;43m\"\u001b[39;49m\u001b[38;5;124;43mencoding\u001b[39;49m\u001b[38;5;124;43m\"\u001b[39;49m\u001b[43m,\u001b[49m\u001b[43m \u001b[49m\u001b[38;5;28;43;01mNone\u001b[39;49;00m\u001b[43m)\u001b[49m\u001b[43m,\u001b[49m\n\u001b[0;32m   1884\u001b[0m \u001b[43m    \u001b[49m\u001b[43mcompression\u001b[49m\u001b[38;5;241;43m=\u001b[39;49m\u001b[38;5;28;43mself\u001b[39;49m\u001b[38;5;241;43m.\u001b[39;49m\u001b[43moptions\u001b[49m\u001b[38;5;241;43m.\u001b[39;49m\u001b[43mget\u001b[49m\u001b[43m(\u001b[49m\u001b[38;5;124;43m\"\u001b[39;49m\u001b[38;5;124;43mcompression\u001b[39;49m\u001b[38;5;124;43m\"\u001b[39;49m\u001b[43m,\u001b[49m\u001b[43m \u001b[49m\u001b[38;5;28;43;01mNone\u001b[39;49;00m\u001b[43m)\u001b[49m\u001b[43m,\u001b[49m\n\u001b[0;32m   1885\u001b[0m \u001b[43m    \u001b[49m\u001b[43mmemory_map\u001b[49m\u001b[38;5;241;43m=\u001b[39;49m\u001b[38;5;28;43mself\u001b[39;49m\u001b[38;5;241;43m.\u001b[39;49m\u001b[43moptions\u001b[49m\u001b[38;5;241;43m.\u001b[39;49m\u001b[43mget\u001b[49m\u001b[43m(\u001b[49m\u001b[38;5;124;43m\"\u001b[39;49m\u001b[38;5;124;43mmemory_map\u001b[39;49m\u001b[38;5;124;43m\"\u001b[39;49m\u001b[43m,\u001b[49m\u001b[43m \u001b[49m\u001b[38;5;28;43;01mFalse\u001b[39;49;00m\u001b[43m)\u001b[49m\u001b[43m,\u001b[49m\n\u001b[0;32m   1886\u001b[0m \u001b[43m    \u001b[49m\u001b[43mis_text\u001b[49m\u001b[38;5;241;43m=\u001b[39;49m\u001b[43mis_text\u001b[49m\u001b[43m,\u001b[49m\n\u001b[0;32m   1887\u001b[0m \u001b[43m    \u001b[49m\u001b[43merrors\u001b[49m\u001b[38;5;241;43m=\u001b[39;49m\u001b[38;5;28;43mself\u001b[39;49m\u001b[38;5;241;43m.\u001b[39;49m\u001b[43moptions\u001b[49m\u001b[38;5;241;43m.\u001b[39;49m\u001b[43mget\u001b[49m\u001b[43m(\u001b[49m\u001b[38;5;124;43m\"\u001b[39;49m\u001b[38;5;124;43mencoding_errors\u001b[39;49m\u001b[38;5;124;43m\"\u001b[39;49m\u001b[43m,\u001b[49m\u001b[43m \u001b[49m\u001b[38;5;124;43m\"\u001b[39;49m\u001b[38;5;124;43mstrict\u001b[39;49m\u001b[38;5;124;43m\"\u001b[39;49m\u001b[43m)\u001b[49m\u001b[43m,\u001b[49m\n\u001b[0;32m   1888\u001b[0m \u001b[43m    \u001b[49m\u001b[43mstorage_options\u001b[49m\u001b[38;5;241;43m=\u001b[39;49m\u001b[38;5;28;43mself\u001b[39;49m\u001b[38;5;241;43m.\u001b[39;49m\u001b[43moptions\u001b[49m\u001b[38;5;241;43m.\u001b[39;49m\u001b[43mget\u001b[49m\u001b[43m(\u001b[49m\u001b[38;5;124;43m\"\u001b[39;49m\u001b[38;5;124;43mstorage_options\u001b[39;49m\u001b[38;5;124;43m\"\u001b[39;49m\u001b[43m,\u001b[49m\u001b[43m \u001b[49m\u001b[38;5;28;43;01mNone\u001b[39;49;00m\u001b[43m)\u001b[49m\u001b[43m,\u001b[49m\n\u001b[0;32m   1889\u001b[0m \u001b[43m\u001b[49m\u001b[43m)\u001b[49m\n\u001b[0;32m   1890\u001b[0m \u001b[38;5;28;01massert\u001b[39;00m \u001b[38;5;28mself\u001b[39m\u001b[38;5;241m.\u001b[39mhandles \u001b[38;5;129;01mis\u001b[39;00m \u001b[38;5;129;01mnot\u001b[39;00m \u001b[38;5;28;01mNone\u001b[39;00m\n\u001b[0;32m   1891\u001b[0m f \u001b[38;5;241m=\u001b[39m \u001b[38;5;28mself\u001b[39m\u001b[38;5;241m.\u001b[39mhandles\u001b[38;5;241m.\u001b[39mhandle\n",
      "File \u001b[1;32m~\\AppData\\Roaming\\Python\\Python312\\site-packages\\pandas\\io\\common.py:873\u001b[0m, in \u001b[0;36mget_handle\u001b[1;34m(path_or_buf, mode, encoding, compression, memory_map, is_text, errors, storage_options)\u001b[0m\n\u001b[0;32m    868\u001b[0m \u001b[38;5;28;01melif\u001b[39;00m \u001b[38;5;28misinstance\u001b[39m(handle, \u001b[38;5;28mstr\u001b[39m):\n\u001b[0;32m    869\u001b[0m     \u001b[38;5;66;03m# Check whether the filename is to be opened in binary mode.\u001b[39;00m\n\u001b[0;32m    870\u001b[0m     \u001b[38;5;66;03m# Binary mode does not support 'encoding' and 'newline'.\u001b[39;00m\n\u001b[0;32m    871\u001b[0m     \u001b[38;5;28;01mif\u001b[39;00m ioargs\u001b[38;5;241m.\u001b[39mencoding \u001b[38;5;129;01mand\u001b[39;00m \u001b[38;5;124m\"\u001b[39m\u001b[38;5;124mb\u001b[39m\u001b[38;5;124m\"\u001b[39m \u001b[38;5;129;01mnot\u001b[39;00m \u001b[38;5;129;01min\u001b[39;00m ioargs\u001b[38;5;241m.\u001b[39mmode:\n\u001b[0;32m    872\u001b[0m         \u001b[38;5;66;03m# Encoding\u001b[39;00m\n\u001b[1;32m--> 873\u001b[0m         handle \u001b[38;5;241m=\u001b[39m \u001b[38;5;28;43mopen\u001b[39;49m\u001b[43m(\u001b[49m\n\u001b[0;32m    874\u001b[0m \u001b[43m            \u001b[49m\u001b[43mhandle\u001b[49m\u001b[43m,\u001b[49m\n\u001b[0;32m    875\u001b[0m \u001b[43m            \u001b[49m\u001b[43mioargs\u001b[49m\u001b[38;5;241;43m.\u001b[39;49m\u001b[43mmode\u001b[49m\u001b[43m,\u001b[49m\n\u001b[0;32m    876\u001b[0m \u001b[43m            \u001b[49m\u001b[43mencoding\u001b[49m\u001b[38;5;241;43m=\u001b[39;49m\u001b[43mioargs\u001b[49m\u001b[38;5;241;43m.\u001b[39;49m\u001b[43mencoding\u001b[49m\u001b[43m,\u001b[49m\n\u001b[0;32m    877\u001b[0m \u001b[43m            \u001b[49m\u001b[43merrors\u001b[49m\u001b[38;5;241;43m=\u001b[39;49m\u001b[43merrors\u001b[49m\u001b[43m,\u001b[49m\n\u001b[0;32m    878\u001b[0m \u001b[43m            \u001b[49m\u001b[43mnewline\u001b[49m\u001b[38;5;241;43m=\u001b[39;49m\u001b[38;5;124;43m\"\u001b[39;49m\u001b[38;5;124;43m\"\u001b[39;49m\u001b[43m,\u001b[49m\n\u001b[0;32m    879\u001b[0m \u001b[43m        \u001b[49m\u001b[43m)\u001b[49m\n\u001b[0;32m    880\u001b[0m     \u001b[38;5;28;01melse\u001b[39;00m:\n\u001b[0;32m    881\u001b[0m         \u001b[38;5;66;03m# Binary mode\u001b[39;00m\n\u001b[0;32m    882\u001b[0m         handle \u001b[38;5;241m=\u001b[39m \u001b[38;5;28mopen\u001b[39m(handle, ioargs\u001b[38;5;241m.\u001b[39mmode)\n",
      "\u001b[1;31mOSError\u001b[0m: [Errno 22] Invalid argument: '\\\\?\\\\G:\\\\paython--\\x04 python\\x01-1آموزشی جامع زبان برنامه نویسی پایتون و یادگیری ماشین با رویکرد حل مساله نظری زاده\\x08igdataworld [python-programming-machine-learning]\\x08igdataworld [python-programming-machine-learning]\\x08igdataworld [python-programming-machine-learning]\\\\Datasets'"
     ]
    }
   ],
   "source": [
    "import pandas as pd\n",
    "\n",
    "df = pd.read_csv(\"E:\\dataset\\Diabetes.csv\")\n",
    "df.iloc[0]"
   ]
  },
  {
   "cell_type": "code",
   "execution_count": null,
   "id": "8477d1ae",
   "metadata": {},
   "outputs": [],
   "source": [
    "User1.Check(df)"
   ]
  },
  {
   "cell_type": "code",
   "execution_count": null,
   "id": "c7f2642b",
   "metadata": {},
   "outputs": [],
   "source": [
    "User2 = Human3()"
   ]
  },
  {
   "cell_type": "code",
   "execution_count": null,
   "id": "ace693b3",
   "metadata": {},
   "outputs": [],
   "source": [
    "User2.Name = df.iloc[1][0]\n",
    "User2.Pregnancies = df.iloc[1][1]\n",
    "User2.Glucose = df.iloc[1][2]\n",
    "User2.BloodPressure = df.iloc[1][3]\n",
    "User2.SkinThickness = df.iloc[1][4]\n",
    "User2.Insulin = df.iloc[1][5]\n",
    "User2.BMI = df.iloc[1][6]\n",
    "User2.DiabetesPedigreeFunction = df.iloc[1][7]\n",
    "User2.Age = df.iloc[1][8]\n",
    "User2.Outcome = df.iloc[1][9]"
   ]
  },
  {
   "cell_type": "code",
   "execution_count": null,
   "id": "70a36afd",
   "metadata": {},
   "outputs": [],
   "source": [
    "df.iloc[1]"
   ]
  },
  {
   "cell_type": "code",
   "execution_count": null,
   "id": "63c35202",
   "metadata": {},
   "outputs": [],
   "source": [
    "User2.Age"
   ]
  },
  {
   "cell_type": "code",
   "execution_count": null,
   "id": "d13a39fd",
   "metadata": {},
   "outputs": [],
   "source": [
    "User2.Name"
   ]
  },
  {
   "cell_type": "code",
   "execution_count": null,
   "id": "90643a87",
   "metadata": {},
   "outputs": [],
   "source": [
    "User2.Check(df)"
   ]
  },
  {
   "cell_type": "markdown",
   "id": "087d6e02",
   "metadata": {},
   "source": [
    "# Student"
   ]
  },
  {
   "cell_type": "code",
   "execution_count": 158,
   "id": "7e144cad",
   "metadata": {},
   "outputs": [],
   "source": [
    "class Student:\n",
    "    \n",
    "    Lessons = dict()\n",
    "    Average = 0\n",
    "    Debtor = 0\n",
    "    Vaziat = True\n",
    "    \n",
    "    def __init__(self, full_name = '', grade = '', field = '', age = 0, university = ''):\n",
    "        self.Full_Name = full_name\n",
    "        self.Grade = grade\n",
    "        self.Field = field\n",
    "        self.Age = age\n",
    "        self.University = university\n",
    "        \n",
    "    def EntehkhabVahed(self, x, y):\n",
    "        if self.Debtor == 1:\n",
    "            return \"به علت بدهی مجاز به انتخاب واحد نیستید\"\n",
    "        if self.Vaziat == False:\n",
    "            return \"وضعیت شما در سایت غیر فعال است\"\n",
    "        else:   \n",
    "            self.Lessons = dict()\n",
    "            print(\"انتخاب واحد کنید...\")\n",
    "            for i in range(len(x)):\n",
    "                self.Lessons[x[i]] = y[i]\n",
    "                \n",
    "    def sabt_nahaei(self):\n",
    "        if sum( self.Lessons.values() ) > 20:\n",
    "            self.Lessons = dict()\n",
    "            return \"تعداد واحد های شما بیش از حد مجاز است\"\n",
    "        elif sum( self.Lessons.values() ) <= 20:\n",
    "            self.Vaziat = True\n",
    "            return \"دروس با موفقیت ثبت شدند\"\n",
    "        \n",
    "        \n",
    "    def Exam(self):\n",
    "        if self.Debtor == 1:\n",
    "            return \"به علت بدهی مجاز به شرکت در امتحان نیستید\"\n",
    "        if self.Vaziat == False:\n",
    "            return \"وضعیت شما در سایت غیر فعال است\"\n",
    "        \n",
    "        else:\n",
    "            Questions = {\n",
    "                '0': ['sqrt(25)', 5],\n",
    "                '1': ['2 + 3 * 4', 14],\n",
    "                '2': ['6 + 2 - 4 / 2', 6],\n",
    "                '3': ['sum(2, 6, 1)', 10]\n",
    "                }\n",
    "\n",
    "            for i in range(len(Questions)):\n",
    "                x = int(input(Questions[ f'{i}'][0]) )\n",
    "                if x == ( Questions[f'{i}'][1] ):\n",
    "                    self.Average += 5\n",
    "\n",
    "            return self.Average\n",
    "        \n",
    "    def Show_Courses(self):\n",
    "        return self.Lessons"
   ]
  },
  {
   "cell_type": "code",
   "execution_count": 159,
   "id": "7cc147fa",
   "metadata": {},
   "outputs": [],
   "source": [
    "Stu1 = Student(\"Ali\", \"Computer\", \"AI\", 25, \"Tehran\")"
   ]
  },
  {
   "cell_type": "code",
   "execution_count": 160,
   "id": "26bf2b47",
   "metadata": {},
   "outputs": [
    {
     "name": "stdout",
     "output_type": "stream",
     "text": [
      "انتخاب واحد کنید...\n"
     ]
    }
   ],
   "source": [
    "Stu1.EntehkhabVahed(['NLP', 'AI', 'Python'], [4, 4, 3])"
   ]
  },
  {
   "cell_type": "code",
   "execution_count": 161,
   "id": "3eb66fda",
   "metadata": {},
   "outputs": [
    {
     "data": {
      "text/plain": [
       "'دروس با موفقیت ثبت شدند'"
      ]
     },
     "execution_count": 161,
     "metadata": {},
     "output_type": "execute_result"
    }
   ],
   "source": [
    "Stu1.sabt_nahaei()"
   ]
  },
  {
   "cell_type": "code",
   "execution_count": 162,
   "id": "948d17ad",
   "metadata": {},
   "outputs": [
    {
     "data": {
      "text/plain": [
       "True"
      ]
     },
     "execution_count": 162,
     "metadata": {},
     "output_type": "execute_result"
    }
   ],
   "source": [
    "Stu1.Vaziat"
   ]
  },
  {
   "cell_type": "code",
   "execution_count": 163,
   "id": "ed031d99",
   "metadata": {},
   "outputs": [
    {
     "data": {
      "text/plain": [
       "{'NLP': 4, 'AI': 4, 'Python': 3}"
      ]
     },
     "execution_count": 163,
     "metadata": {},
     "output_type": "execute_result"
    }
   ],
   "source": [
    "Stu1.Show_Courses()"
   ]
  },
  {
   "cell_type": "code",
   "execution_count": 164,
   "id": "4fe2490c",
   "metadata": {},
   "outputs": [
    {
     "data": {
      "text/plain": [
       "{'NLP': 4, 'AI': 4, 'Python': 3}"
      ]
     },
     "execution_count": 164,
     "metadata": {},
     "output_type": "execute_result"
    }
   ],
   "source": [
    "Stu1.Lessons"
   ]
  },
  {
   "cell_type": "code",
   "execution_count": null,
   "id": "2ce2e4e9",
   "metadata": {},
   "outputs": [],
   "source": []
  },
  {
   "cell_type": "code",
   "execution_count": 165,
   "id": "6daeb614",
   "metadata": {},
   "outputs": [],
   "source": [
    "Stu2 = Student(\"Mohammad\", \"Computer\", \"NLP\", 30, \"Kermanshah\")"
   ]
  },
  {
   "cell_type": "code",
   "execution_count": 166,
   "id": "5a7cba81",
   "metadata": {},
   "outputs": [
    {
     "name": "stdout",
     "output_type": "stream",
     "text": [
      "انتخاب واحد کنید...\n"
     ]
    }
   ],
   "source": [
    "Stu2.EntehkhabVahed(['C++', 'Matlab', 'Python', 'Java'], [3, 3, 4, 2])"
   ]
  },
  {
   "cell_type": "code",
   "execution_count": 167,
   "id": "3587b953",
   "metadata": {},
   "outputs": [
    {
     "data": {
      "text/plain": [
       "'دروس با موفقیت ثبت شدند'"
      ]
     },
     "execution_count": 167,
     "metadata": {},
     "output_type": "execute_result"
    }
   ],
   "source": [
    "Stu2.sabt_nahaei()"
   ]
  },
  {
   "cell_type": "code",
   "execution_count": 168,
   "id": "1774d418",
   "metadata": {},
   "outputs": [
    {
     "data": {
      "text/plain": [
       "True"
      ]
     },
     "execution_count": 168,
     "metadata": {},
     "output_type": "execute_result"
    }
   ],
   "source": [
    "Stu2.Vaziat"
   ]
  },
  {
   "cell_type": "code",
   "execution_count": 169,
   "id": "9ea10dc2",
   "metadata": {},
   "outputs": [
    {
     "data": {
      "text/plain": [
       "{'C++': 3, 'Matlab': 3, 'Python': 4, 'Java': 2}"
      ]
     },
     "execution_count": 169,
     "metadata": {},
     "output_type": "execute_result"
    }
   ],
   "source": [
    "Stu2.Show_Courses()"
   ]
  },
  {
   "cell_type": "markdown",
   "id": "ec00b972",
   "metadata": {},
   "source": [
    "# Class Text"
   ]
  },
  {
   "cell_type": "code",
   "execution_count": 170,
   "id": "07d9ee16",
   "metadata": {},
   "outputs": [],
   "source": [
    "class Text:\n",
    "    \n",
    "    def Extract_Mobile(self, Mobile=''):\n",
    "        mob = ''\n",
    "        for i in range(len(Mobile)):\n",
    "            if (Mobile[i] == '0' and Mobile[i+1] == '9'):\n",
    "                mob = Mobile[i:i+11]\n",
    "        if mob.isdigit() and len(mob) == 11:\n",
    "            return mob\n",
    "        else:\n",
    "             return 'no'\n",
    "            \n",
    "    def Type_Mobile(self, Mobile=''):\n",
    "        \n",
    "        y = self.Extract_Mobile(Mobile)\n",
    "        \n",
    "        if y == 'no':\n",
    "            return 'no'\n",
    "        else:\n",
    "            if y[0:3] == '093':\n",
    "                return 'ایرانسل'\n",
    "            elif y[0:3] == '091':\n",
    "                return 'همراه اول'\n",
    "            elif y[0:3] == '090':\n",
    "                return 'رایتل'\n",
    "            \n",
    "    def Separated_Words(self, text):\n",
    "        List = []\n",
    "        for i in text.split():\n",
    "            List.append(i)\n",
    "        return List\n",
    "    \n",
    "    def Uniqe_Words(self, text):\n",
    "        word = set()\n",
    "        for i in text.split():\n",
    "            word.add(i)\n",
    "        return word\n",
    "    \n",
    "    def Similarity(self, text1, text2):\n",
    "        Set1 = set()\n",
    "        Set2 = set()\n",
    "        \n",
    "        for i in text1.split():\n",
    "            Set1.add(i)\n",
    "            \n",
    "        for j in text2.split():\n",
    "            Set2.add(j)\n",
    "            \n",
    "        Set3 = Set1.intersection(Set2)\n",
    "        X = ( len(Set3) / len(Set2) ) * 100\n",
    "        \n",
    "        return round(X, 2)\n",
    "    "
   ]
  },
  {
   "cell_type": "code",
   "execution_count": 171,
   "id": "ec6d1ec1",
   "metadata": {},
   "outputs": [
    {
     "data": {
      "text/plain": [
       "'09331367233'"
      ]
     },
     "execution_count": 171,
     "metadata": {},
     "output_type": "execute_result"
    }
   ],
   "source": [
    "text1 = Text()\n",
    "text1.Extract_Mobile('Hi my name is jack jj, 09331367233')"
   ]
  },
  {
   "cell_type": "code",
   "execution_count": 172,
   "id": "425123e0",
   "metadata": {},
   "outputs": [
    {
     "data": {
      "text/plain": [
       "'ایرانسل'"
      ]
     },
     "execution_count": 172,
     "metadata": {},
     "output_type": "execute_result"
    }
   ],
   "source": [
    "text1.Type_Mobile('09331367233')"
   ]
  },
  {
   "cell_type": "code",
   "execution_count": 173,
   "id": "502a2fa6",
   "metadata": {},
   "outputs": [
    {
     "data": {
      "text/plain": [
       "['Hi', 'My', 'Name', 'is', 'jack', 'jj']"
      ]
     },
     "execution_count": 173,
     "metadata": {},
     "output_type": "execute_result"
    }
   ],
   "source": [
    "text1.Separated_Words(\"Hi My Name is jack jj\")"
   ]
  },
  {
   "cell_type": "code",
   "execution_count": 174,
   "id": "6328a05b",
   "metadata": {},
   "outputs": [
    {
     "data": {
      "text/plain": [
       "{'Python',\n",
       " 'has',\n",
       " 'is',\n",
       " 'languages.',\n",
       " 'many',\n",
       " 'most',\n",
       " 'of',\n",
       " 'one',\n",
       " 'powerful',\n",
       " 'the',\n",
       " 'uses'}"
      ]
     },
     "execution_count": 174,
     "metadata": {},
     "output_type": "execute_result"
    }
   ],
   "source": [
    "text1.Uniqe_Words(\"Python is one of the most powerful languages. Python has many uses\")"
   ]
  },
  {
   "cell_type": "code",
   "execution_count": 175,
   "id": "6332e0ff",
   "metadata": {},
   "outputs": [
    {
     "data": {
      "text/plain": [
       "66.67"
      ]
     },
     "execution_count": 175,
     "metadata": {},
     "output_type": "execute_result"
    }
   ],
   "source": [
    "text1.Similarity('Hi My Name is jack jj', 'Hi My Name is Reza Mohammadi')"
   ]
  },
  {
   "cell_type": "code",
   "execution_count": null,
   "id": "3c011262",
   "metadata": {},
   "outputs": [],
   "source": []
  },
  {
   "cell_type": "code",
   "execution_count": null,
   "id": "45c85bb0",
   "metadata": {},
   "outputs": [],
   "source": []
  }
 ],
 "metadata": {
  "kernelspec": {
   "display_name": "Python 3",
   "language": "python",
   "name": "python3"
  },
  "language_info": {
   "codemirror_mode": {
    "name": "ipython",
    "version": 3
   },
   "file_extension": ".py",
   "mimetype": "text/x-python",
   "name": "python",
   "nbconvert_exporter": "python",
   "pygments_lexer": "ipython3",
   "version": "3.12.2"
  }
 },
 "nbformat": 4,
 "nbformat_minor": 5
}
