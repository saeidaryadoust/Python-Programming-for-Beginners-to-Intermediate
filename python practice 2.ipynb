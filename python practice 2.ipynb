{
 "cells": [
  {
   "cell_type": "markdown",
   "metadata": {},
   "source": [
    "# Session_2_4"
   ]
  },
  {
   "cell_type": "markdown",
   "metadata": {},
   "source": [
    "# Practice 1"
   ]
  },
  {
   "cell_type": "code",
   "execution_count": 3,
   "metadata": {},
   "outputs": [
    {
     "name": "stdout",
     "output_type": "stream",
     "text": [
      "please enter a number: 8\n",
      "1\n",
      "2\n",
      "3\n",
      "5\n",
      "8\n",
      "13\n"
     ]
    }
   ],
   "source": [
    "# محاسبه سری فیبوناچی\n",
    "# fibonacci\n",
    "# 0, 1, 1, 2, 3, 5, 8, 13, 21\n",
    "a = int(input(\"please enter a number: \"))\n",
    "f = 0\n",
    "l = 1\n",
    "\n",
    "for i in range(2, a):\n",
    "    F_New = f + l\n",
    "    print(F_New)\n",
    "    f = l\n",
    "    l = F_New"
   ]
  },
  {
   "cell_type": "markdown",
   "metadata": {},
   "source": [
    "# Practice 2"
   ]
  },
  {
   "cell_type": "code",
   "execution_count": 5,
   "metadata": {},
   "outputs": [
    {
     "data": {
      "text/plain": [
       "True"
      ]
     },
     "execution_count": 5,
     "metadata": {},
     "output_type": "execute_result"
    }
   ],
   "source": [
    "# عدد اول\n",
    "number = 17\n",
    "\n",
    "if number <= 1:\n",
    "    prime = False\n",
    "if number == 2:\n",
    "    prime = True\n",
    "    \n",
    "elif number >= 3:\n",
    "    for i in range(2, number):\n",
    "        if (number % i) == 0:\n",
    "            prime = False\n",
    "            break\n",
    "        else:\n",
    "            prime = True\n",
    "\n",
    "prime"
   ]
  },
  {
   "cell_type": "markdown",
   "metadata": {},
   "source": [
    "# Practice 3"
   ]
  },
  {
   "cell_type": "code",
   "execution_count": 6,
   "metadata": {},
   "outputs": [
    {
     "data": {
      "text/plain": [
       "6.0"
      ]
     },
     "execution_count": 6,
     "metadata": {},
     "output_type": "execute_result"
    }
   ],
   "source": [
    "# C(n,r)\n",
    "import math\n",
    "n =4\n",
    "r = 2\n",
    "x = math.factorial(r) * math.factorial(n-r) \n",
    "Combinations = math.factorial(n) / x\n",
    "Combinations"
   ]
  },
  {
   "cell_type": "markdown",
   "metadata": {},
   "source": [
    "# Practice 4"
   ]
  },
  {
   "cell_type": "code",
   "execution_count": 7,
   "metadata": {},
   "outputs": [
    {
     "name": "stdout",
     "output_type": "stream",
     "text": [
      "number: 5\n",
      "یه کم برو بالاتر\n",
      "number: 8\n",
      "یه کم برو بالاتر\n",
      "number: 15\n",
      "یه کم برو بالاتر\n",
      "number: 20\n",
      "آفرین برنده شدی\n",
      "امتیاز: 17.0\n"
     ]
    }
   ],
   "source": [
    "import random\n",
    "a, b = 1, 20\n",
    "rand = random.randint(a, b)\n",
    "score = b\n",
    "\n",
    "x = score\n",
    "c,d = 0, 20\n",
    "Result =  ((x-a)/(b-a)) * ((d-c) + c)\n",
    "\n",
    "while(True):\n",
    "    number = int(input(\"number: \"))\n",
    "    if number == rand:\n",
    "        print(f\"آفرین برنده شدی\")\n",
    "        print(f\"امتیاز: {Result}\")\n",
    "        break\n",
    "    else:\n",
    "        if number > rand:\n",
    "            print(\"یه کم بیا پایین تر\")\n",
    "        elif number < rand:\n",
    "            print (\"یه کم برو بالاتر\")\n",
    "        Result -= 1\n"
   ]
  },
  {
   "cell_type": "markdown",
   "metadata": {},
   "source": [
    "# Practice 5"
   ]
  },
  {
   "cell_type": "code",
   "execution_count": 8,
   "metadata": {},
   "outputs": [
    {
     "name": "stdout",
     "output_type": "stream",
     "text": [
      "Sang, Kakhaz, Gheychisang\n",
      "Ali: sang\n",
      "Christopher: Sang\n",
      "*** Score ***\n",
      "Score_Ali: 0\n",
      "Score_Christopher: 0 \n",
      "\n",
      "Sang, Kakhaz, Gheychisang\n",
      "Ali: sang\n",
      "Christopher: Kakhaz\n",
      "*** Score ***\n",
      "Score_Ali: 0\n",
      "Score_Christopher: 0 \n",
      "\n",
      "Sang, Kakhaz, Gheychisang\n",
      "Ali: sang\n",
      "Christopher: Sang\n",
      "*** Score ***\n",
      "Score_Ali: 0\n",
      "Score_Christopher: 0 \n",
      "\n",
      "Sang, Kakhaz, Gheychisang\n",
      "Ali: sang\n",
      "Christopher: Gheychi\n",
      "*** Score ***\n",
      "Score_Ali: 0\n",
      "Score_Christopher: 0 \n",
      "\n",
      "Sang, Kakhaz, Gheychisang\n",
      "Ali: sang\n",
      "Christopher: Kakhaz\n",
      "*** Score ***\n",
      "Score_Ali: 0\n",
      "Score_Christopher: 0 \n",
      "\n",
      "Sang, Kakhaz, Gheychisang\n",
      "Ali: sang\n",
      "Christopher: Kakhaz\n",
      "*** Score ***\n",
      "Score_Ali: 0\n",
      "Score_Christopher: 0 \n",
      "\n",
      "Sang, Kakhaz, Gheychisang\n",
      "Ali: sang\n",
      "Christopher: Kakhaz\n",
      "*** Score ***\n",
      "Score_Ali: 0\n",
      "Score_Christopher: 0 \n",
      "\n",
      "Sang, Kakhaz, Gheychino\n",
      "Ali: no\n",
      "Christopher: Sang\n",
      "*** Score ***\n",
      "Score_Ali: 0\n",
      "Score_Christopher: 0 \n",
      "\n",
      "Sang, Kakhaz, Gheychino\n",
      "Ali: no\n",
      "Christopher: Kakhaz\n",
      "*** Score ***\n",
      "Score_Ali: 0\n",
      "Score_Christopher: 0 \n",
      "\n",
      "Sang, Kakhaz, Gheychin\n",
      "Ali: n\n",
      "Christopher: Gheychi\n",
      "*** Score ***\n",
      "Score_Ali: 0\n",
      "Score_Christopher: 0 \n",
      "\n"
     ]
    }
   ],
   "source": [
    "# سنگ کاغذ قیچی\n",
    "import random\n",
    "\n",
    "Score_Ali, Score_Christopher = 0, 0\n",
    "\n",
    "while (True):\n",
    "    Ali = input(\"Sang, Kakhaz, Gheychi\")\n",
    "    Christopher = random.randint(1, 3)\n",
    "\n",
    "    if Christopher == 1:\n",
    "        Christopher = \"Sang\"\n",
    "    elif Christopher == 2:\n",
    "        Christopher = \"Kakhaz\"\n",
    "    elif Christopher == 3:\n",
    "        Christopher = \"Gheychi\"\n",
    "        \n",
    "    if Ali == Christopher:\n",
    "        Score_Ali = Score_Ali\n",
    "        Score_Christopher = Score_Christopher\n",
    "        \n",
    "    elif Ali == \"Sang\" and Christopher == \"Kakhaz\":\n",
    "        Score_Christopher += 1\n",
    "        \n",
    "    elif Ali == \"Sang\" and Christopher == \"Gheychi\":\n",
    "        Score_Ali += 1\n",
    "\n",
    "    elif Ali == \"Kakhaz\" and Christopher == \"Sang\":\n",
    "        Score_Ali += 1\n",
    "   \n",
    "    elif Ali == \"Kakhaz\" and Christopher == \"Gheychi\":\n",
    "        Score_Christopher += 1\n",
    "\n",
    "    elif Ali == \"Gheychi\" and Christopher == \"Sang\":\n",
    "        Score_Christopher += 1\n",
    "\n",
    "    elif Ali == \"Gheychi\" and Christopher == \"Kakhaz\":\n",
    "        Score_Ali += 1\n",
    "        \n",
    "    print(f\"Ali: {Ali}\")\n",
    "    print(f\"Christopher: {Christopher}\")\n",
    "    print(\"*** Score ***\")\n",
    "    print(f\"Score_Ali: {Score_Ali}\")\n",
    "    print(f\"Score_Christopher: {Score_Christopher} \\n\")\n",
    "    \n",
    "    if Ali == \"n\":\n",
    "        break\n"
   ]
  },
  {
   "cell_type": "markdown",
   "metadata": {},
   "source": [
    "# Practice 6"
   ]
  },
  {
   "cell_type": "code",
   "execution_count": 9,
   "metadata": {},
   "outputs": [
    {
     "name": "stdout",
     "output_type": "stream",
     "text": [
      "تاس بنداز ... no\n",
      "Dice_Ali: 4\n",
      "Location_Ali_New: 4 \n",
      "\n",
      "Dice_Brian: 4\n",
      "Location_Brian_New: 4 \n",
      "\n",
      "تاس بنداز ... bo\n",
      "Dice_Ali: 6\n",
      "Location_Ali_New: 10 \n",
      "\n",
      "Dice_Brian: 5\n",
      "Location_Brian_New: 9 \n",
      "\n"
     ]
    },
    {
     "ename": "KeyboardInterrupt",
     "evalue": "Interrupted by user",
     "output_type": "error",
     "traceback": [
      "\u001b[1;31m---------------------------------------------------------------------------\u001b[0m",
      "\u001b[1;31mKeyboardInterrupt\u001b[0m                         Traceback (most recent call last)",
      "\u001b[1;32m<ipython-input-9-216073c04587>\u001b[0m in \u001b[0;36m<module>\u001b[1;34m\u001b[0m\n\u001b[0;32m     11\u001b[0m \u001b[1;32mwhile\u001b[0m \u001b[1;33m(\u001b[0m\u001b[0mLocation_Ali\u001b[0m \u001b[1;33m!=\u001b[0m\u001b[1;36m100\u001b[0m \u001b[1;32mor\u001b[0m \u001b[0mLocation_Brian\u001b[0m \u001b[1;33m!=\u001b[0m \u001b[1;36m100\u001b[0m\u001b[1;33m)\u001b[0m\u001b[1;33m:\u001b[0m\u001b[1;33m\u001b[0m\u001b[1;33m\u001b[0m\u001b[0m\n\u001b[0;32m     12\u001b[0m \u001b[1;33m\u001b[0m\u001b[0m\n\u001b[1;32m---> 13\u001b[1;33m     \u001b[0mDice_Ali2\u001b[0m \u001b[1;33m=\u001b[0m \u001b[0minput\u001b[0m\u001b[1;33m(\u001b[0m\u001b[1;34m\"تاس بنداز ... \"\u001b[0m\u001b[1;33m)\u001b[0m\u001b[1;33m\u001b[0m\u001b[1;33m\u001b[0m\u001b[0m\n\u001b[0m\u001b[0;32m     14\u001b[0m     \u001b[0mDice_Ali\u001b[0m \u001b[1;33m=\u001b[0m \u001b[0mrandom\u001b[0m\u001b[1;33m.\u001b[0m\u001b[0mrandint\u001b[0m\u001b[1;33m(\u001b[0m\u001b[1;36m1\u001b[0m\u001b[1;33m,\u001b[0m \u001b[1;36m6\u001b[0m\u001b[1;33m)\u001b[0m\u001b[1;33m\u001b[0m\u001b[1;33m\u001b[0m\u001b[0m\n\u001b[0;32m     15\u001b[0m     \u001b[1;31m#Location_Ali_Before = Dice_Ali\u001b[0m\u001b[1;33m\u001b[0m\u001b[1;33m\u001b[0m\u001b[1;33m\u001b[0m\u001b[0m\n",
      "\u001b[1;32m~\\anaconda3\\lib\\site-packages\\ipykernel\\kernelbase.py\u001b[0m in \u001b[0;36mraw_input\u001b[1;34m(self, prompt)\u001b[0m\n\u001b[0;32m    858\u001b[0m                 \u001b[1;34m\"raw_input was called, but this frontend does not support input requests.\"\u001b[0m\u001b[1;33m\u001b[0m\u001b[1;33m\u001b[0m\u001b[0m\n\u001b[0;32m    859\u001b[0m             )\n\u001b[1;32m--> 860\u001b[1;33m         return self._input_request(str(prompt),\n\u001b[0m\u001b[0;32m    861\u001b[0m             \u001b[0mself\u001b[0m\u001b[1;33m.\u001b[0m\u001b[0m_parent_ident\u001b[0m\u001b[1;33m,\u001b[0m\u001b[1;33m\u001b[0m\u001b[1;33m\u001b[0m\u001b[0m\n\u001b[0;32m    862\u001b[0m             \u001b[0mself\u001b[0m\u001b[1;33m.\u001b[0m\u001b[0m_parent_header\u001b[0m\u001b[1;33m,\u001b[0m\u001b[1;33m\u001b[0m\u001b[1;33m\u001b[0m\u001b[0m\n",
      "\u001b[1;32m~\\anaconda3\\lib\\site-packages\\ipykernel\\kernelbase.py\u001b[0m in \u001b[0;36m_input_request\u001b[1;34m(self, prompt, ident, parent, password)\u001b[0m\n\u001b[0;32m    902\u001b[0m             \u001b[1;32mexcept\u001b[0m \u001b[0mKeyboardInterrupt\u001b[0m\u001b[1;33m:\u001b[0m\u001b[1;33m\u001b[0m\u001b[1;33m\u001b[0m\u001b[0m\n\u001b[0;32m    903\u001b[0m                 \u001b[1;31m# re-raise KeyboardInterrupt, to truncate traceback\u001b[0m\u001b[1;33m\u001b[0m\u001b[1;33m\u001b[0m\u001b[1;33m\u001b[0m\u001b[0m\n\u001b[1;32m--> 904\u001b[1;33m                 \u001b[1;32mraise\u001b[0m \u001b[0mKeyboardInterrupt\u001b[0m\u001b[1;33m(\u001b[0m\u001b[1;34m\"Interrupted by user\"\u001b[0m\u001b[1;33m)\u001b[0m \u001b[1;32mfrom\u001b[0m \u001b[1;32mNone\u001b[0m\u001b[1;33m\u001b[0m\u001b[1;33m\u001b[0m\u001b[0m\n\u001b[0m\u001b[0;32m    905\u001b[0m             \u001b[1;32mexcept\u001b[0m \u001b[0mException\u001b[0m \u001b[1;32mas\u001b[0m \u001b[0me\u001b[0m\u001b[1;33m:\u001b[0m\u001b[1;33m\u001b[0m\u001b[1;33m\u001b[0m\u001b[0m\n\u001b[0;32m    906\u001b[0m                 \u001b[0mself\u001b[0m\u001b[1;33m.\u001b[0m\u001b[0mlog\u001b[0m\u001b[1;33m.\u001b[0m\u001b[0mwarning\u001b[0m\u001b[1;33m(\u001b[0m\u001b[1;34m\"Invalid Message:\"\u001b[0m\u001b[1;33m,\u001b[0m \u001b[0mexc_info\u001b[0m\u001b[1;33m=\u001b[0m\u001b[1;32mTrue\u001b[0m\u001b[1;33m)\u001b[0m\u001b[1;33m\u001b[0m\u001b[1;33m\u001b[0m\u001b[0m\n",
      "\u001b[1;31mKeyboardInterrupt\u001b[0m: Interrupted by user"
     ]
    }
   ],
   "source": [
    "# بازی مار پله\n",
    "import random\n",
    "\n",
    "Location_Ali = 0\n",
    "Location_Brian = 0\n",
    "\n",
    "\n",
    "# Snake = 34->7,  43->17, 71->56, 76->55, 94->79, 99->74\n",
    "# ladder= 18->55, 25->40, 37->66, 45->57, 75->89, 77->97\n",
    "\n",
    "while (Location_Ali !=100 or Location_Brian != 100):\n",
    "\n",
    "    Dice_Ali2 = input(\"تاس بنداز ... \")\n",
    "    Dice_Ali = random.randint(1, 6)\n",
    "    #Location_Ali_Before = Dice_Ali\n",
    "    Location_Ali += Dice_Ali\n",
    "    \n",
    "    \n",
    "    if Location_Ali == 34:\n",
    "        Location_Ali = 7\n",
    "        \n",
    "    elif Location_Ali == 43:\n",
    "        Location_Ali = 17\n",
    "        \n",
    "    elif Location_Ali == 71:\n",
    "        Location_Ali = 56\n",
    "        \n",
    "    elif Location_Ali == 76:\n",
    "        Location_Ali = 55\n",
    "        \n",
    "    elif Location_Ali == 94:\n",
    "        Location_Ali = 79\n",
    "        \n",
    "    elif Location_Ali == 99:\n",
    "        Location_Ali = 74\n",
    "\n",
    "# -------------------------------\n",
    "    if Location_Ali == 18:\n",
    "        Location_Ali = 55\n",
    "        \n",
    "    elif Location_Ali == 25:\n",
    "        Location_Ali = 40\n",
    "        \n",
    "    elif Location_Ali == 37:\n",
    "        Location_Ali = 66\n",
    "        \n",
    "    elif Location_Ali == 45:\n",
    "        Location_Ali = 57\n",
    "        \n",
    "    elif Location_Ali == 75:\n",
    "        Location_Ali = 89\n",
    "        \n",
    "    elif Location_Ali == 77:\n",
    "        Location_Ali = 97\n",
    "    \n",
    "    #print(f\"Location_Ali_Before: {Location_Ali_Before}\")\n",
    "    print(f\"Dice_Ali: {Dice_Ali}\")\n",
    "    if Location_Ali==34 or Location_Ali==43 or Location_Ali==71 or Location_Ali==76 or Location_Ali==94 or Location_Ali==99:\n",
    "        print(\"مار نیشت زد پسر\")\n",
    "    elif Location_Ali==18 or Location_Ali==25 or Location_Ali==37 or Location_Ali==45 or Location_Ali==75 or Location_Ali==77:\n",
    "        print(\"از پله رفتی بالا\")\n",
    "    print(f\"Location_Ali_New: {Location_Ali} \\n\")\n",
    "    \n",
    "#===========================================================================================================================    \n",
    "    Dice_Brian = random.randint(1,6)\n",
    "    #print(\"برایان هم تاس انداخت\", Dice_Brian)\n",
    "    \n",
    "    Location_Brian += Dice_Brian\n",
    "    Location_Brian_Before = Location_Brian\n",
    "    \n",
    "    if Location_Brian == 34:\n",
    "        Location_Brian = 7\n",
    "        \n",
    "    elif Location_Brian == 43:\n",
    "        Location_Brian = 17\n",
    "        \n",
    "    elif Location_Brian == 71:\n",
    "        Location_Brian = 56\n",
    "        \n",
    "    elif Location_Brian == 76:\n",
    "        Location_Brian = 55\n",
    "        \n",
    "    elif Location_Brian == 94:\n",
    "        Location_Brian = 79\n",
    "        \n",
    "    elif Location_Brian == 99:\n",
    "        Location_Brian = 74\n",
    "\n",
    "# -------------------------------\n",
    "    if Location_Brian == 18:\n",
    "        Location_Brian = 55\n",
    "        \n",
    "    elif Location_Brian == 25:\n",
    "        Location_Brian = 40\n",
    "        \n",
    "    elif Location_Brian == 37:\n",
    "        Location_Brian = 66\n",
    "        \n",
    "    elif Location_Brian == 45:\n",
    "        Location_Brian = 57\n",
    "        \n",
    "    elif Location_Brian == 75:\n",
    "        Location_Brian = 89\n",
    "        \n",
    "    elif Location_Brian == 77:\n",
    "        Location_Brian = 97\n",
    "    \n",
    "    #print(f\"Location_Brian_Before: {Location_Brian_Before}\")\n",
    "    print(f\"Dice_Brian: {Dice_Brian}\")\n",
    "    if Location_Brian==34 or Location_Brian==43 or Location_Brian==71 or Location_Brian==76 or Location_Brian==94 or Location_Brian==99:\n",
    "        print(\"برایان رو مار نیش زد\")\n",
    "    elif Location_Brian==18 or Location_Brian==25 or Location_Brian==37 or Location_Brian==45 or Location_Brian==75 or Location_Brian==77:\n",
    "        print(\"برایان از پله بالا رفت\")\n",
    "    print(f\"Location_Brian_New: {Location_Brian} \\n\")\n",
    "    \n",
    "    if Dice_Ali2 == \"n\":\n",
    "        break\n",
    "\n"
   ]
  },
  {
   "cell_type": "markdown",
   "metadata": {},
   "source": [
    "# Practice 7"
   ]
  },
  {
   "cell_type": "code",
   "execution_count": null,
   "metadata": {},
   "outputs": [],
   "source": [
    "# تشخیص بیماری\n",
    "Mahal_Dard = input(\"کجای بدن شما درد می کند؟ شکم، گلو، سینه، هیچکدام\")\n",
    "\n",
    "if Mahal_Dard ==\"شکم\":\n",
    "    Result = \"احتمالا آپاندیس دارید.\"\n",
    "    \n",
    "elif Mahal_Dard == \"سینه\":\n",
    "    Result = \"احتمال بروز سکته وجود دارد.\"\n",
    "    \n",
    "elif Mahal_Dard == \"گلو\":\n",
    "    Tab = input(\"اگر گلوی شما درد می کند آیا تب دارید؟ بله، خیر\")\n",
    "    \n",
    "    if Tab == \"بله\":\n",
    "        Result = \"وجود باکتری\"\n",
    "    elif Tab == \"خیر\":\n",
    "        Result = \"وجود ویروس\"\n",
    "    else:\n",
    "        Result = \"جواب دکتر رو خوب بده عزیزم\"\n",
    "\n",
    "elif Mahal_Dard == \"هیچکدام\":\n",
    "    Sorfe = input(\"خب حالا که هیچ کجای بدن شما درد نمی کند، آیا سرفه می کنید؟ بله، خیر\")\n",
    "    \n",
    "    if Sorfe == \"بله\":\n",
    "        Tab2 = input(\"حالا که سرفه می کنید، آیا تب هم دارید؟ بله، خیر \")\n",
    "        if Tab2 == \"بله\":\n",
    "            Result = \"احتمالا به آنفولانزا مبتلا شده اید\"\n",
    "        elif Tab2 == \"خیر\":\n",
    "            Result = \"شاید سرماخوردگی باشد\"\n",
    "        else:\n",
    "            Result = \"جواب دکتر رو خوب بده عزیزم\"\n",
    "    \n",
    "    elif Sorfe == \"خیر\":\n",
    "        Result = \"تو که مریض نیستی عزیزم\"\n",
    "    \n",
    "    else:\n",
    "        Result = \"جواب دکتر رو خوب بده عزیزم\"\n",
    "\n",
    "else:\n",
    "    Result = \"جواب دکتر رو خوب بده عزیزم\"\n",
    "        \n",
    "print(Result)"
   ]
  },
  {
   "cell_type": "markdown",
   "metadata": {},
   "source": [
    "# Practice 8"
   ]
  },
  {
   "cell_type": "code",
   "execution_count": null,
   "metadata": {},
   "outputs": [],
   "source": [
    "G = input(\"گروه خونی فرد گیرنده: \")\n",
    "D = input(\"گروه خونی فرد دهنده: \")\n",
    "\n",
    "if G == D:\n",
    "    Result = \"میتونند به هم خون اهدا کنند.\"\n",
    "    \n",
    "elif G != D:\n",
    "\n",
    "    if G == \"O+\" and D == \"O-\":\n",
    "         Result = \"میتونند به هم خون اهدا کنند.\"\n",
    "\n",
    "    elif G == \"A-\" and D == \"O-\":\n",
    "         Result = \"میتونند به هم خون اهدا کنند.\"\n",
    "\n",
    "    elif G == \"A+\" and D == \"O-\":\n",
    "         Result = \"میتونند به هم خون اهدا کنند.\"\n",
    "    elif G == \"A+\" and D == \"O+\":\n",
    "         Result = \"میتونند به هم خون اهدا کنند.\"\n",
    "    elif G == \"A+\" and D == \"A-\":\n",
    "         Result = \"میتونند به هم خون اهدا کنند.\"\n",
    "\n",
    "    elif G == \"B-\" and D == \"O-\":\n",
    "         Result = \"میتونند به هم خون اهدا کنند.\"\n",
    "\n",
    "    elif G == \"B+\" and D == \"O-\":\n",
    "         Result = \"میتونند به هم خون اهدا کنند.\"\n",
    "    elif G == \"B+\" and D == \"O+\":\n",
    "         Result = \"میتونند به هم خون اهدا کنند.\"\n",
    "    elif G == \"B+\" and D == \"B-\":\n",
    "         Result = \"میتونند به هم خون اهدا کنند.\"\n",
    "\n",
    "    elif G == \"AB-\" and D == \"O-\":\n",
    "         Result = \"میتونند به هم خون اهدا کنند.\"\n",
    "    elif G == \"AB-\" and D == \"A-\":\n",
    "         Result = \"میتونند به هم خون اهدا کنند.\"\n",
    "    elif G == \"AB-\" and D == \"B-\":\n",
    "         Result = \"میتونند به هم خون اهدا کنند.\"\n",
    "\n",
    "    elif G == \"AB+\":\n",
    "         Result = \"میتونند به هم خون اهدا کنند.\"\n",
    "\n",
    "    else:\n",
    "        Result = \"گروه خونی ها به هم نمیخورن.نمیشه به همدیگر خون دهند.\"\n",
    "    \n",
    "    \n",
    "Result"
   ]
  }
 ],
 "metadata": {
  "kernelspec": {
   "display_name": "Python 3",
   "language": "python",
   "name": "python3"
  },
  "language_info": {
   "codemirror_mode": {
    "name": "ipython",
    "version": 3
   },
   "file_extension": ".py",
   "mimetype": "text/x-python",
   "name": "python",
   "nbconvert_exporter": "python",
   "pygments_lexer": "ipython3",
   "version": "3.8.8"
  }
 },
 "nbformat": 4,
 "nbformat_minor": 2
}
