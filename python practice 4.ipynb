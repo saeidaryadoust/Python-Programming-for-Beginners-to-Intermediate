{
 "cells": [
  {
   "cell_type": "markdown",
   "id": "f4597b4e",
   "metadata": {},
   "source": [
    "# Practice 1: کنترل ورود و خروج کارمندان"
   ]
  },
  {
   "cell_type": "code",
   "execution_count": null,
   "id": "b70e4411",
   "metadata": {},
   "outputs": [],
   "source": [
    "import datetime\n",
    "\n",
    "D1 = datetime.datetime.now()\n",
    "D2 = D1.date()\n",
    "D3 = D1.year\n",
    "D4 = D1.hour\n",
    "D5 = D1.minute\n",
    "D6 = D1.second\n",
    "\n",
    "print(D1)\n",
    "print(D2)\n",
    "print(D3)\n",
    "print(D4)\n",
    "print(D5)\n",
    "print(D6)"
   ]
  },
  {
   "cell_type": "code",
   "execution_count": null,
   "id": "2d9e6b64",
   "metadata": {},
   "outputs": [],
   "source": [
    "import datetime\n",
    "\n",
    "person1 = []\n",
    "Time1 = []\n",
    "\n",
    "person2 =[]\n",
    "Time2 = []\n",
    "\n",
    "while (True):\n",
    "    name = input(\"ورود کارمند *** نام و نام خانوادگی : \")\n",
    "    \n",
    "    if name == \"0\":\n",
    "        break\n",
    "        \n",
    "    t1 = datetime.datetime.now()\n",
    "    t2 = t1.hour\n",
    "    t3 = t1.minute\n",
    "    t4 = t1.second\n",
    "    \n",
    "    person1.append(name)\n",
    "    Time1.append(f\"{t2}:{t3}:{t4}\")\n",
    "    \n",
    "#------------------------------------------------------------------------------------------------------------------------\n",
    "while (True):\n",
    "    name = input(\"خروج کارمند *** نام و نام خانوادگی : \")\n",
    "    \n",
    "    if name == \"0\":\n",
    "        break\n",
    "        \n",
    "    t1 = datetime.datetime.now()\n",
    "    t2 = t1.hour\n",
    "    t3 = t1.minute\n",
    "    t4 = t1.second\n",
    "\n",
    "    person2.append(name)\n",
    "    Time2.append(f\"{t2}:{t3}:{t4}\")"
   ]
  },
  {
   "cell_type": "code",
   "execution_count": null,
   "id": "69cefec9",
   "metadata": {},
   "outputs": [],
   "source": [
    "if len(person1) == len(person2):\n",
    "    for i in range(len(person1)):\n",
    "        print(f\"{person1[i]}, vorood: {Time1[i]}\")\n",
    "    print(\"------------------------------------------------\")\n",
    "    for i in range(len(person2)):\n",
    "        print(f\"{person2[i]}, khoroj: {Time2[i]}\")\n",
    "else:\n",
    "    S1 = set(person1)\n",
    "    S2 = set(person2)\n",
    "    \n",
    "    if len(person1) > len(person2):\n",
    "        S3 = S1.difference(S2)\n",
    "        print(f\"karmand{S3} az edare kharej nashode ast\")\n",
    "        \n",
    "    elif len(person1) <len(person2):\n",
    "        S3 = S2.difference(S1)\n",
    "        print(f\"karmand{S3} vorood khod ra sabt nakarde ast\")"
   ]
  },
  {
   "cell_type": "markdown",
   "id": "b376872e",
   "metadata": {},
   "source": [
    "# Practice 2: برنامه قرعه کشی"
   ]
  },
  {
   "cell_type": "code",
   "execution_count": null,
   "id": "36a45b9c",
   "metadata": {},
   "outputs": [],
   "source": [
    "person = ['Ali', 'Reza', 'Mohsen', 'Javad', 'Sina', 'Rasoul']\n",
    "score = [10, 5, 2, 7, 6, 8]\n",
    "score2 = []\n",
    "num = 0\n",
    "\n",
    "for i in score:\n",
    "    \n",
    "    for j in range(i):\n",
    "        score2.append(num)\n",
    "    num += 1"
   ]
  },
  {
   "cell_type": "code",
   "execution_count": null,
   "id": "ae95d5b1",
   "metadata": {},
   "outputs": [],
   "source": [
    "print(score2)"
   ]
  },
  {
   "cell_type": "code",
   "execution_count": null,
   "id": "ba6a0b76",
   "metadata": {},
   "outputs": [],
   "source": [
    "import random\n",
    "\n",
    "x = random.randint(0,len(score2)-1)\n",
    "\n",
    "x2 = score2[x]\n",
    "x2\n"
   ]
  },
  {
   "cell_type": "code",
   "execution_count": null,
   "id": "a54153fa",
   "metadata": {},
   "outputs": [],
   "source": [
    "x"
   ]
  },
  {
   "cell_type": "code",
   "execution_count": null,
   "id": "a52f1185",
   "metadata": {},
   "outputs": [],
   "source": [
    "person[x2]"
   ]
  },
  {
   "cell_type": "markdown",
   "id": "6f8f8a8a",
   "metadata": {},
   "source": [
    "# Practice 3: شمارش تعداد کمترین و بیش ترین نمرات درسی"
   ]
  },
  {
   "cell_type": "code",
   "execution_count": null,
   "id": "e01cad08",
   "metadata": {},
   "outputs": [],
   "source": [
    "Name = ['Bahar', 'Mehran', 'Rasoul', 'Ali', 'Mohsen', 'Zahra', 'Sara', 'Saman', 'Sajad', 'Elham']\n",
    "score = [18, 16, 20, 19, 20, 17, 19, 16, 18, 20]\n",
    "Min = min(score)\n",
    "Max = max(score)\n",
    "list_min = []\n",
    "list_max = []\n",
    "j = 0\n",
    "\n",
    "for i in score:\n",
    "    if i == Max:\n",
    "        list_max.append(j)\n",
    "        \n",
    "    if i == Min:\n",
    "        list_min.append(j)\n",
    "    j += 1"
   ]
  },
  {
   "cell_type": "code",
   "execution_count": null,
   "id": "d209b2d9",
   "metadata": {},
   "outputs": [],
   "source": [
    "print(list_min)\n",
    "print(list_max)"
   ]
  },
  {
   "cell_type": "code",
   "execution_count": null,
   "id": "455a6c7b",
   "metadata": {},
   "outputs": [],
   "source": [
    "print(f\"Bad Numbers: {Min}\")\n",
    "for i in list_min:\n",
    "    print(Name[i])\n",
    "    "
   ]
  },
  {
   "cell_type": "code",
   "execution_count": null,
   "id": "fb2dca46",
   "metadata": {},
   "outputs": [],
   "source": [
    "print(f\"Best Numbers: {Max}\")\n",
    "for i in list_max:\n",
    "    print(Name[i])"
   ]
  },
  {
   "cell_type": "markdown",
   "id": "cfee8ed0",
   "metadata": {},
   "source": [
    "\n",
    "# Practice 4: بازی دوز"
   ]
  },
  {
   "cell_type": "code",
   "execution_count": null,
   "id": "03d2ffe0",
   "metadata": {},
   "outputs": [],
   "source": [
    "Dooz = [0 for i in range(9)]\n",
    "P1 = []\n",
    "P2 = []\n",
    "challange = False"
   ]
  },
  {
   "cell_type": "code",
   "execution_count": null,
   "id": "55bcc4ab",
   "metadata": {},
   "outputs": [],
   "source": [
    "Dooz"
   ]
  },
  {
   "cell_type": "code",
   "execution_count": null,
   "id": "68b43080",
   "metadata": {},
   "outputs": [],
   "source": [
    "i = 0\n",
    "while i < 3:\n",
    "    player1 = int(input(\"player1: \"))\n",
    "    P1.append(player1)\n",
    "    player2 = int(input(\"player2: \"))\n",
    "    P2.append(player2)\n",
    "    if player1 in P2 or player2 in P1:\n",
    "        print(\"تداخل در قرار دهی مهره ها \")\n",
    "        \n",
    "        break\n",
    "    i += 1"
   ]
  },
  {
   "cell_type": "code",
   "execution_count": null,
   "id": "ed2242ae",
   "metadata": {},
   "outputs": [],
   "source": [
    "S1 = \"\"\n",
    "S2 = \"\"\n",
    "\n",
    "for i in P2:\n",
    "    S1 += str(i)\n",
    "    \n",
    "for i in P2:\n",
    "    S2 += str(i)"
   ]
  },
  {
   "cell_type": "code",
   "execution_count": null,
   "id": "ab992bcb",
   "metadata": {},
   "outputs": [],
   "source": [
    "S1"
   ]
  },
  {
   "cell_type": "code",
   "execution_count": null,
   "id": "8b3eef70",
   "metadata": {},
   "outputs": [],
   "source": [
    "S2"
   ]
  },
  {
   "cell_type": "code",
   "execution_count": null,
   "id": "a7c4111c",
   "metadata": {},
   "outputs": [],
   "source": [
    "state = ['012','021','102','120','201','210',\n",
    "         '345','354','435','453','534','543',\n",
    "         '678','687','768','786','867','876',\n",
    "         '036','063','306','360','603','630',\n",
    "         '147','174','417','471','714','741',\n",
    "         '258','285','528','582','825','852',\n",
    "         '048','084','408','480','804','840',\n",
    "         '246','264','426','462','624','642']"
   ]
  },
  {
   "cell_type": "code",
   "execution_count": null,
   "id": "6ea632c7",
   "metadata": {},
   "outputs": [],
   "source": [
    "if S1 in state:\n",
    "    print(\"player1 Win\")\n",
    "elif S2 in state:\n",
    "    print(\"player2 Win\")\n",
    "else:\n",
    "    while challange != True:\n",
    "        player1 = input(\"player1: a:b\")\n",
    "        a = player1.split(':')[0]\n",
    "        b = player1.split(':')[1]\n",
    "        S1 = S1.replace(a,b)\n",
    "        if S1 in state:\n",
    "            challenge = True\n",
    "            print(\"player2 Win\")\n",
    "            break\n",
    "                               "
   ]
  },
  {
   "cell_type": "markdown",
   "id": "c694ee2a",
   "metadata": {},
   "source": [
    "# Practice 5: دستیار متنی ساده "
   ]
  },
  {
   "cell_type": "code",
   "execution_count": null,
   "id": "7ccf7db9",
   "metadata": {},
   "outputs": [],
   "source": [
    "Bank = ['در پردازش متن ،متون مختلف مورد تحلیل قرار می گیرند  و هدف نهایی مدل و فهم زبان انسانی است که با روش های یادگیری ماشین قابل انجام است' ,\n",
    "       'که ار کاربردهای آن در ماشین های خودران است، در این حالت ویدویوهای دریافتی از محیط بیرون  با استفاده از روش های یادگیری عمیق و پردازش تصویر برای کامپیوتر قابل فهم خواهند بود',\n",
    "       'سیستم های خبره نوع دیگری از زیر شاخه های هوش مصنوعی می باشند که هدف اصلی این سیستم ها ، مدل سازی پدیده ها در قالب منطق و استنتاج های مختلف از آن است .'\n",
    "]\n",
    "len(Bank)\n"
   ]
  },
  {
   "cell_type": "code",
   "execution_count": null,
   "id": "da720fa2",
   "metadata": {},
   "outputs": [],
   "source": [
    "History = []\n",
    "while (True):\n",
    "    search = input(\"search...\")\n",
    "    if search == 'no':\n",
    "        break\n",
    "    \n",
    "    if search == \"History\":\n",
    "        print(History)\n",
    "    \n",
    "    if search == 'Add':\n",
    "        Add = input(\"Add...\")\n",
    "        Bank.append(Add)\n",
    "        \n",
    "    for text in Bank:\n",
    "        if search in text:\n",
    "            print(f\"{text}\\n\")\n",
    "            \n",
    "    if search != 'History' and search != 'Add':\n",
    "        History.append(search)"
   ]
  },
  {
   "cell_type": "markdown",
   "id": "54d0d2a6",
   "metadata": {},
   "source": [
    "# Practice 6: دسته بندی داده ها در لیست های بدون ساختار"
   ]
  },
  {
   "cell_type": "code",
   "execution_count": null,
   "id": "bddaa8c9",
   "metadata": {},
   "outputs": [],
   "source": [
    "list_1 = [\"Ali\", \"Python\", 18 , \"Mohsen\", \"c++\", 19, \"Mehran\", \"c#\", 17, \"Bahar\", \"Matlab\", 20, \"zahra\", \"NLP\", 17 ]\n",
    "effect = [3, 1, 2, 2, 3]\n",
    "\n",
    "name = []\n",
    "course = []\n",
    "number = []\n",
    "List = []\n",
    "\n",
    "LEN = int(len(list_1) / 3)\n",
    "a, b, c =0, 1, 2\n",
    "\n",
    "for i in range(LEN):\n",
    "    name.append(list_1[a])\n",
    "    course.append(list_1[b])\n",
    "    number.append(list_1[c])\n",
    "    List.append(list_1[c] * effect[i])\n",
    "    \n",
    "    a += 3\n",
    "    b += 3\n",
    "    c += 3\n",
    "    \n",
    "average = sum(List) / len(List)\n",
    "print(name)\n",
    "print(course)\n",
    "print(List)\n",
    "print(average)"
   ]
  },
  {
   "cell_type": "markdown",
   "id": "45185fd6",
   "metadata": {},
   "source": [
    "# Practice 7: پیش بینی محل قبولی دانشگاه بر اساس اطلاعات کارنامه "
   ]
  },
  {
   "cell_type": "code",
   "execution_count": null,
   "id": "e5276b4a",
   "metadata": {},
   "outputs": [],
   "source": [
    "Student1 = ['مدار الکتریکی',60,'هوش مصنوعی',70,'پایگاه داده ',45,'نظریه زبان ها',73,'معماری کامپیوتر',53,'مدار منطقی',90,'طراحی الگوریتم',63,'ساختمان داده ',60,'دانشگاه صنعتی شریف']\n",
    "Student2 = ['مدار الکتریکی',82,'هوش مصنوعی',66,'پایگاه داده ',32,'نظریه زبان ها',45,'معماری کامپیوتر',46,'مدار منطقی',86,'طراحی الگوریتم',60,'ساختمان داده ',65,'دانشگاه تهران ']\n",
    "Student3 = ['مدار الکتریکی',73,'هوش مصنوعی',50,'پایگاه داده ',40,'نظریه زبان ها',56,'معماری کامپیوتر',20,'مدار منطقی',93,'طراحی الگوریتم',67,'ساختمان داده ',75,'دانشگاه امیر کبیر']\n",
    "Student4 = ['مدار الکتریکی',20,'هوش مصنوعی',75,'پایگاه داده ',40,'نظریه زبان ها',63,'معماری کامپیوتر',55,'مدار منطقی',83,'طراحی الگوریتم',59,'ساختمان داده ',65,'دانشگاه شهید بهشتی ']\n",
    "Student5 = ['مدار الکتریکی',50,'هوش مصنوعی',55,'پایگاه داده ',45,'نظریه زبان ها',38,'معماری کامپیوتر',42,'مدار منطقی',75,'طراحی الگوریتم',68,'ساختمان داده ',56,'دانشگاه تربیت مدرس']\n",
    "Student6 = ['مدار الکتریکی',53,'هوش مصنوعی',58,'پایگاه داده ',60,'نظریه زبان ها',42,'معماری کامپیوتر',36,'مدار منطقی',63,'طراحی الگوریتم',42,'ساختمان داده ',35,'دانشگاه خواجه نصیر ']\n",
    "Student7 = ['مدار الکتریکی',30,'هوش مصنوعی',53,'پایگاه داده ',42,'نظریه زبان ها',53,'معماری کامپیوتر',20,'مدار منطقی',63,'طراحی الگوریتم',38,'ساختمان داده ',39,'دانشگاه خوارزمی']\n",
    "Student8 = ['مدار الکتریکی',35,'هوش مصنوعی',42,'پایگاه داده ',41,'نظریه زبان ها',28,'معماری کامپیوتر',52,'مدار منطقی',63,'طراحی الگوریتم',23,'ساختمان داده ',31,'دانشگاه صنعتی اصفهان ']\n",
    "Student9 = ['مدار الکتریکی',30,'هوش مصنوعی',42,'پایگاه داده ',38,'نظریه زبان ها',53,'معماری کامپیوتر',23,'مدار منطقی',42,'طراحی الگوریتم',33,'ساختمان داده ',29,'دانشگاه فردوسی مشهد']\n",
    "Student10 = ['مدار الکتریکی',28,'هوش مصنوعی',38,'پایگاه داده ',30,'نظریه زبان ها',42,'معماری کامپیوتر',35,'مدار منطقی',30,'طراحی الگوریتم',20,'ساختمان داده ',38,'دانشگاه تبریز']\n"
   ]
  },
  {
   "cell_type": "code",
   "execution_count": null,
   "id": "5886c9a3",
   "metadata": {},
   "outputs": [],
   "source": [
    "len(Student4)"
   ]
  },
  {
   "cell_type": "code",
   "execution_count": null,
   "id": "7f615ff8",
   "metadata": {},
   "outputs": [],
   "source": [
    "average1 , average2 ,average3 ,average4 ,average5 ,average6 ,average7 ,average8, average9 ,average10 = [],[],[],[],[],[],[],[],[],[]\n",
    "\n",
    "LEN = int(len(Student1) / 2)\n",
    "a = 1\n",
    "for i in range(LEN):\n",
    "    average1.append(Student1[a])\n",
    "    a += 2\n",
    "    \n",
    "a = 1\n",
    "for i in range(LEN):\n",
    "    average2.append(Student2[a])\n",
    "    a += 2\n",
    "    \n",
    "a = 1\n",
    "for i in range(LEN):\n",
    "    average3.append(Student3[a])\n",
    "    a += 2\n",
    "\n",
    "a = 1\n",
    "for i in range(LEN):\n",
    "    average4.append(Student4[a])\n",
    "    a += 2\n",
    "\n",
    "a = 1\n",
    "for i in range(LEN):\n",
    "    average5.append(Student5[a])\n",
    "    a += 2\n",
    "\n",
    "a = 1\n",
    "for i in range(LEN):\n",
    "    average6.append(Student6[a])\n",
    "    a += 2\n",
    "    \n",
    "a = 1\n",
    "for i in range(LEN):\n",
    "    average7.append(Student7[a])\n",
    "    a += 2\n",
    "    \n",
    "a = 1\n",
    "for i in range(LEN):\n",
    "    average8.append(Student8[a])\n",
    "    a += 2\n",
    "    \n",
    "a = 1\n",
    "for i in range(LEN):\n",
    "    average9.append(Student9[a])\n",
    "    a += 2\n",
    "    \n",
    "a = 1\n",
    "for i in range(LEN):\n",
    "    average10.append(Student10[a])\n",
    "    a += 2\n",
    "    \n",
    "average1"
   ]
  },
  {
   "cell_type": "code",
   "execution_count": null,
   "id": "4573e84e",
   "metadata": {},
   "outputs": [],
   "source": [
    "m1 = sum(average1) /8\n",
    "m2 = sum(average2) /8\n",
    "m3 = sum(average3) /8\n",
    "m4 = sum(average4) /8\n",
    "m5 = sum(average5) /8\n",
    "m6 = sum(average6) /8\n",
    "m7 = sum(average7) /8\n",
    "m8 = sum(average8) /8\n",
    "m9 = sum(average9) /8\n",
    "m10 = sum(average10) /8"
   ]
  },
  {
   "cell_type": "code",
   "execution_count": null,
   "id": "41b4ef0d",
   "metadata": {},
   "outputs": [],
   "source": [
    "m2"
   ]
  },
  {
   "cell_type": "code",
   "execution_count": null,
   "id": "33356b2c",
   "metadata": {},
   "outputs": [],
   "source": [
    "L = [round(m1), round(m2),round(m3), round(m4),round(m5), round(m6),round(m7), round(m8),round(m9), round(m10)]\n",
    "L"
   ]
  },
  {
   "cell_type": "code",
   "execution_count": null,
   "id": "9dc50cb8",
   "metadata": {},
   "outputs": [],
   "source": [
    "L2 = L\n",
    "L2.sort()\n",
    "L2"
   ]
  },
  {
   "cell_type": "code",
   "execution_count": null,
   "id": "3f0977cf",
   "metadata": {},
   "outputs": [],
   "source": [
    "#------------------------------------------------------------------------------------------------------------------------------"
   ]
  },
  {
   "cell_type": "code",
   "execution_count": null,
   "id": "4c297ba1",
   "metadata": {},
   "outputs": [],
   "source": [
    "madar = int(input(\"مدار الکتریکی : \"))\n",
    "AI = int(input(\"هوش مصنوعی : \"))\n",
    "DB = int(input(\"پایگاه داده : \"))\n",
    "Nzarieh = int(input(\"نظریه زبان ها: \"))\n",
    "memari = int(input(\" معماری کامپیوتر: \"))\n",
    "manteghi = int(input(\"مدار منطقی: \"))\n",
    "Algorithm = int(input(\"طراحی الگوریتم: \"))\n",
    "DS = int(input(\"ساختمان داده : \"))"
   ]
  },
  {
   "cell_type": "code",
   "execution_count": null,
   "id": "0dd761bf",
   "metadata": {},
   "outputs": [],
   "source": [
    "Test = [round(madar),round(AI),round(DB),round(Nzarieh),round(memari),round(manteghi),round(Algorithm),round(DS)]\n",
    "Test\n",
    "545"
   ]
  },
  {
   "cell_type": "code",
   "execution_count": null,
   "id": "e8ed32c7",
   "metadata": {},
   "outputs": [],
   "source": [
    "m11 = sum (Test) / 8\n",
    "m11 = round(m11)\n",
    "m11"
   ]
  },
  {
   "cell_type": "code",
   "execution_count": null,
   "id": "f9d49897",
   "metadata": {},
   "outputs": [],
   "source": [
    "L2.append(m11)\n",
    "L2.sort()\n",
    "L2"
   ]
  },
  {
   "cell_type": "code",
   "execution_count": null,
   "id": "756bdedc",
   "metadata": {},
   "outputs": [],
   "source": [
    "LEN = len(L2)-1\n",
    "LEN"
   ]
  },
  {
   "cell_type": "code",
   "execution_count": null,
   "id": "d69be4aa",
   "metadata": {},
   "outputs": [],
   "source": [
    "L2"
   ]
  },
  {
   "cell_type": "code",
   "execution_count": null,
   "id": "2454f90a",
   "metadata": {},
   "outputs": [],
   "source": [
    "m = m11\n",
    "m12 = []\n",
    "\n",
    "if m ==L2[2]:\n",
    "    m12.append(L2[0])\n",
    "elif m == L2[LEN]:\n",
    "    m12.append(L2[LEN])\n",
    "    \n",
    "else:\n",
    "    INDEX = L2.index(m)\n",
    "    INDEX_F = INDEX -1\n",
    "    INDEX_L = INDEX +1\n",
    "    m12.append(L2[INDEX_F])\n",
    "    m12.append(L2[INDEX_L])\n",
    "    "
   ]
  },
  {
   "cell_type": "code",
   "execution_count": null,
   "id": "f9bbc228",
   "metadata": {},
   "outputs": [],
   "source": [
    "m12"
   ]
  },
  {
   "cell_type": "code",
   "execution_count": null,
   "id": "e3dabe58",
   "metadata": {},
   "outputs": [],
   "source": [
    "for j in m12:\n",
    "    \n",
    "    if round(sum(average1) / 8) == j:\n",
    "        print({Student1[16]})\n",
    "    \n",
    "    if round(sum(average2) / 8) == j:\n",
    "        print({Student2[16]})\n",
    "    \n",
    "    if round(sum(average3) / 8) == j:\n",
    "        print({Student3[16]})\n",
    "    \n",
    "    if round(sum(average4) / 8) == j:\n",
    "        print({Student4[16]})\n",
    "        \n",
    "    if round(sum(average5) / 8) == j:\n",
    "        print({Student5[16]})\n",
    "        \n",
    "    if round(sum(average6) / 8) == j:\n",
    "        print({Student6[16]})\n",
    "        \n",
    "    if round(sum(average7) / 8) == j:\n",
    "        print({Student7[16]})\n",
    "        \n",
    "    if round(sum(average8) / 8) == j:\n",
    "        print({Student8[16]})\n",
    "        \n",
    "    if round(sum(average9) / 8) == j:\n",
    "        print({Student9[16]})\n",
    "        \n",
    "    if round(sum(average10) / 8) == j:\n",
    "        print({Student10[16]})"
   ]
  },
  {
   "cell_type": "code",
   "execution_count": null,
   "id": "b0ad75cb",
   "metadata": {},
   "outputs": [],
   "source": []
  }
 ],
 "metadata": {
  "kernelspec": {
   "display_name": "Python 3",
   "language": "python",
   "name": "python3"
  },
  "language_info": {
   "codemirror_mode": {
    "name": "ipython",
    "version": 3
   },
   "file_extension": ".py",
   "mimetype": "text/x-python",
   "name": "python",
   "nbconvert_exporter": "python",
   "pygments_lexer": "ipython3",
   "version": "3.8.8"
  }
 },
 "nbformat": 4,
 "nbformat_minor": 5
}
